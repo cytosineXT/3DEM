{
 "cells": [
  {
   "cell_type": "code",
   "execution_count": null,
   "metadata": {},
   "outputs": [],
   "source": [
    "# 数据输入：3dmesh+in_EM，具体为.obj文件+命名，实际数据为长度为face数、维度为face表征+EM表征的数值矩阵\n",
    "# 数据输出：3d bistatic RCS map，具体为(720*720)的数值矩阵，长和宽代表\\theta \\phi，值代表RCS值(m²)\n",
    "\n"
   ]
  }
 ],
 "metadata": {
  "language_info": {
   "name": "python"
  }
 },
 "nbformat": 4,
 "nbformat_minor": 2
}
