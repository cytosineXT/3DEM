{
 "cells": [
  {
   "cell_type": "code",
   "execution_count": 3,
   "metadata": {},
   "outputs": [
    {
     "name": "stdout",
     "output_type": "stream",
     "text": [
      "Copied: epoch59_bb7c_theta30phi240freq0.920_psnr21.25_ssim0.8538_mse0.2338_nme0.4004_2D.png\n",
      "Copied: epoch59_bb7c_theta30phi240freq0.920_2DGT.png\n",
      "Copied: epoch59_bb7c_theta0phi90freq0.550_psnr19.16_ssim0.8578_mse0.0352_2Dcut.png\n",
      "Copied: epoch59_bb7c_theta0phi90freq0.550_2DGT.png\n",
      "Copied: epoch59_bb7c_theta0phi90freq0.550_psnr19.16_ssim0.8578_mse0.0352_2Dcut.png\n",
      "Copied: epoch59_bb7c_theta30phi240freq0.920_psnr21.25_ssim0.8538_mse0.2338_2Dcut.png\n",
      "Copied: epoch59_bb7c_theta30phi240freq0.920_2DGT.png\n",
      "Copied: epoch59_bb7c_theta30phi240freq0.920_psnr21.25_ssim0.8538_mse0.2338_2Dcut.png\n",
      "Copied: epoch59_bb7c_theta90phi300freq0.540_psnr25.78_ssim0.8558_mse0.0387_2Dcut.png\n",
      "Copied: epoch59_bb7c_theta90phi300freq0.540_2DGT.png\n",
      "Copied: epoch59_bb7c_theta90phi300freq0.540_psnr25.78_ssim0.8558_mse0.0387_2Dcut.png\n",
      "Copied: epoch59_bb7c_theta0phi90freq0.550_psnr19.16_ssim0.8578_mse0.0352_nme0.1762_2D.png\n",
      "Copied: epoch59_bb7c_theta0phi90freq0.550_2DGT.png\n",
      "Copied: epoch59_bb7c_theta90phi300freq0.540_psnr25.78_ssim0.8558_mse0.0387_nme0.3134_2D.png\n",
      "Copied: epoch59_bb7c_theta90phi300freq0.540_2DGT.png\n"
     ]
    }
   ],
   "source": [
    "import os\n",
    "import shutil\n",
    "import re\n",
    "\n",
    "# 源文件夹路径\n",
    "source_folder = '/mnt/SrvUserDisk/JiangXiaotian/workspace/3DEM/output/train/1215_TransConv_pretrain_bb7c_77seed_maxloss0.0005_psnr1774/epoch59'\n",
    "\n",
    "# 目标文件夹路径\n",
    "destination_folder = '/mnt/SrvUserDisk/JiangXiaotian/workspace/3DEM/output/train/1215_TransConv_pretrain_bb7c_77seed_maxloss0.0005_psnr1774/bigssim85'\n",
    "\n",
    "# 如果目标文件夹不存在，创建它\n",
    "os.makedirs(destination_folder, exist_ok=True)\n",
    "\n",
    "# 正则表达式匹配 PSNR 值\n",
    "psnr_pattern = re.compile(r'ssim(\\d+\\.\\d+)')\n",
    "\n",
    "# 遍历源文件夹中的文件\n",
    "for filename in os.listdir(source_folder):\n",
    "    # 匹配文件名中的 PSNR 值\n",
    "    match = psnr_pattern.search(filename)\n",
    "    if match:\n",
    "        psnr_value = float(match.group(1))\n",
    "        # 如果 PSNR 大于 20，复制文件到目标文件夹\n",
    "        if psnr_value > 0.85:\n",
    "            source_file = os.path.join(source_folder, filename)\n",
    "            destination_file = os.path.join(destination_folder, filename)\n",
    "            shutil.copy(source_file, destination_file)\n",
    "            print(f'Copied: {filename}')\n",
    "            \n",
    "            # 构建对应的 GT 文件名\n",
    "            gt_filename = re.sub(r'psnr\\d+\\.\\d+.*', '2DGT.png', filename)\n",
    "            gt_source_file = os.path.join(source_folder, gt_filename)\n",
    "            gt_destination_file = os.path.join(destination_folder, gt_filename)\n",
    "            \n",
    "            # 检查 GT 文件是否存在并复制\n",
    "            if os.path.exists(gt_source_file):\n",
    "                shutil.copy(gt_source_file, gt_destination_file)\n",
    "                print(f'Copied: {gt_filename}')\n",
    "            \n",
    "            # 构建对应的 cut 文件名\n",
    "            cut_filename = re.sub(r'_2D.png', '_2Dcut.png', filename)\n",
    "            cut_source_file = os.path.join(source_folder, cut_filename)\n",
    "            cut_destination_file = os.path.join(destination_folder, cut_filename)\n",
    "            \n",
    "            # 检查 cut 文件是否存在并复制\n",
    "            if os.path.exists(cut_source_file):\n",
    "                shutil.copy(cut_source_file, cut_destination_file)\n",
    "                print(f'Copied: {cut_filename}')"
   ]
  }
 ],
 "metadata": {
  "kernelspec": {
   "display_name": "jxtnett",
   "language": "python",
   "name": "python3"
  },
  "language_info": {
   "codemirror_mode": {
    "name": "ipython",
    "version": 3
   },
   "file_extension": ".py",
   "mimetype": "text/x-python",
   "name": "python",
   "nbconvert_exporter": "python",
   "pygments_lexer": "ipython3",
   "version": "3.9.19"
  }
 },
 "nbformat": 4,
 "nbformat_minor": 2
}
