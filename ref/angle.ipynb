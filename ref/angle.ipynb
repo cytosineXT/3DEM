{
 "cells": [
  {
   "cell_type": "code",
   "execution_count": 44,
   "metadata": {},
   "outputs": [],
   "source": [
    "from pathlib import Path\n",
    "from functools import partial\n",
    "from math import ceil, pi, sqrt, degrees\n",
    "\n",
    "import torch\n",
    "from torch import nn, Tensor, einsum\n",
    "from torch.nn import Module, ModuleList\n",
    "import torch.nn.functional as F\n",
    "from torch.utils.checkpoint import checkpoint\n",
    "from torch.cuda.amp import autocast\n",
    "\n",
    "from torchtyping import TensorType\n",
    "\n",
    "from pytorch_custom_utils import save_load\n",
    "\n",
    "from beartype import beartype\n",
    "from beartype.typing import Union, Tuple, Callable, Optional, List, Dict, Any\n",
    "\n",
    "from einops import rearrange, repeat, reduce, pack, unpack\n",
    "from einops.layers.torch import Rearrange\n",
    "\n",
    "from einx import get_at\n",
    "\n",
    "from x_transformers import Decoder\n",
    "from x_transformers.attend import Attend\n",
    "from x_transformers.x_transformers import RMSNorm, FeedForward, LayerIntermediates\n",
    "\n",
    "from x_transformers.autoregressive_wrapper import (\n",
    "    eval_decorator,\n",
    "    top_k,\n",
    "    top_p,\n",
    ")\n",
    "\n",
    "from local_attention import LocalMHA\n",
    "\n",
    "from vector_quantize_pytorch import (\n",
    "    ResidualVQ,\n",
    "    ResidualLFQ\n",
    ")\n",
    "\n",
    "from net.data import derive_face_edges_from_faces, myderive_face_edges_from_faces\n",
    "from net.version import __version__\n",
    "\n",
    "from taylor_series_linear_attention import TaylorSeriesLinearAttn\n",
    "\n",
    "from classifier_free_guidance_pytorch import (\n",
    "    classifier_free_guidance,\n",
    "    TextEmbeddingReturner\n",
    ")\n",
    "\n",
    "from torch_geometric.nn.conv import SAGEConv\n",
    "\n",
    "from gateloop_transformer import SimpleGateLoopLayer\n",
    "\n",
    "from tqdm import tqdm\n",
    "\n",
    "# helper functions\n",
    "\n",
    "def exists(v):\n",
    "    return v is not None\n",
    "\n",
    "def default(v, d):\n",
    "    return v if exists(v) else d\n",
    "\n",
    "def first(it):\n",
    "    return it[0]\n",
    "\n",
    "def divisible_by(num, den):\n",
    "    return (num % den) == 0\n",
    "\n",
    "def is_odd(n):\n",
    "    return not divisible_by(n, 2)\n",
    "\n",
    "def is_empty(l):\n",
    "    return len(l) == 0\n",
    "\n",
    "def is_tensor_empty(t: Tensor):\n",
    "    return t.numel() == 0\n",
    "\n",
    "def set_module_requires_grad_(\n",
    "    module: Module,\n",
    "    requires_grad: bool\n",
    "):\n",
    "    for param in module.parameters():\n",
    "        param.requires_grad = requires_grad\n",
    "\n",
    "def l1norm(t):\n",
    "    return F.normalize(t, dim = -1, p = 1)\n",
    "\n",
    "def l2norm(t):\n",
    "    return F.normalize(t, dim = -1, p = 2)\n",
    "\n",
    "def safe_cat(tensors, dim):\n",
    "    tensors = [*filter(exists, tensors)]\n",
    "\n",
    "    if len(tensors) == 0:\n",
    "        return None\n",
    "    elif len(tensors) == 1:\n",
    "        return first(tensors)\n",
    "\n",
    "    return torch.cat(tensors, dim = dim)\n",
    "\n",
    "def pad_at_dim(t, padding, dim = -1, value = 0):\n",
    "    ndim = t.ndim\n",
    "    right_dims = (ndim - dim - 1) if dim >= 0 else (-dim - 1)\n",
    "    zeros = (0, 0) * right_dims\n",
    "    return F.pad(t, (*zeros, *padding), value = value)\n",
    "\n",
    "def pad_to_length(t, length, dim = -1, value = 0, right = True):\n",
    "    curr_length = t.shape[dim]\n",
    "    remainder = length - curr_length\n",
    "\n",
    "    if remainder <= 0:\n",
    "        return t\n",
    "\n",
    "    padding = (0, remainder) if right else (remainder, 0)\n",
    "    return pad_at_dim(t, padding, dim = dim, value = value)\n",
    "\n",
    "eps = 1e-5"
   ]
  },
  {
   "cell_type": "code",
   "execution_count": 45,
   "metadata": {},
   "outputs": [],
   "source": [
    "def derive_angle(x, y, eps = 1e-5):\n",
    "    z = einsum('... d, ... d -> ...', l2norm(x), l2norm(y)) #对一个面三个点的三组xyz坐标进行l2norm，意味着把每个顶点归一化到球面？这tm不就改变了原始三角形的形状和大小了，这里怎么看都应该是对矢量做l2norm然后点乘再arccos得到角度合理吧，草拟吗\n",
    "\n",
    "    return z.clip(-1 + eps, 1 - eps).arccos()#计算反余弦值得到角度 见鬼，这得到的是什么，输入xy应该是两个矢量就合理了，结果输入是点坐标，焯    \n",
    "    '''face_coords = tensor([[[[-0.4410, -0.0583, -0.1358],\n",
    "          [-0.4377, -0.0619, -0.1303],\n",
    "          [-0.4430, -0.0572, -0.1290]],\n",
    "         ...,\n",
    "         [[ 0.4457, -0.0392,  0.0039],\n",
    "          [ 0.4444, -0.0349,  0.0022],\n",
    "          [ 0.4439, -0.0353,  0.0067]]]])\n",
    "    shifted_face_coords = tensor([[[[-0.4430, -0.0572, -0.1290],\n",
    "          [-0.4410, -0.0583, -0.1358],\n",
    "          [-0.4377, -0.0619, -0.1303]],\n",
    "         ...,\n",
    "         [[ 0.4439, -0.0353,  0.0067],\n",
    "          [ 0.4457, -0.0392,  0.0039],\n",
    "          [ 0.4444, -0.0349,  0.0022]]]])'''\n",
    "\n",
    "    '''L2范数具体采用的函数F.normalize(t, dim = -1, p = 2)\n",
    "    对于每个顶点的 xyz 坐标，这个函数会计算它的欧几里得范数(点的L2范数应该就是和原点的欧氏距离)，然后将这个坐标的每个元素都除以这个范数。这样做的结果是，每个顶点的坐标都会被归一化到单位球面上。这意味着每个顶点的 xyz 坐标的平方和（即 x^2 + y^2 + z^2）都会等于 1。\n",
    "    '''\n",
    "    '''爱因斯坦求和约定https://zhuanlan.zhihu.com/p/361209187\n",
    "    >>> As = torch.randn(3, 2, 5)\n",
    "    >>> Bs = torch.randn(3, 5, 4)\n",
    "    >>> torch.einsum('bij,bjk->bik', As, Bs) #会在j这个维度做相乘相加(点积)\n",
    "    tensor([[[-1.0564, -1.5904,  3.2023,  3.1271],\n",
    "            [-1.6706, -0.8097, -0.8025, -2.1183]],\n",
    "\n",
    "            [[ 4.2239,  0.3107, -0.5756, -0.2354],\n",
    "            [-1.4558, -0.3460,  1.5087, -0.8530]],\n",
    "\n",
    "            [[ 2.8153,  1.8787, -4.3839, -1.2112],\n",
    "            [ 0.3728, -2.1131,  0.0921,  0.8305]]])\n",
    "    '''"
   ]
  },
  {
   "cell_type": "code",
   "execution_count": 46,
   "metadata": {},
   "outputs": [
    {
     "name": "stdout",
     "output_type": "stream",
     "text": [
      "tensor([0., 0., 1.])\n"
     ]
    }
   ],
   "source": [
    "# x = [0,0,1]\n",
    "# y = [0,1,0]\n",
    "# x = torch.tensor([0,0,1])\n",
    "# y = torch.tensor([0,1,0])\n",
    "# x = torch.tensor((0,0,1))\n",
    "# y = torch.tensor((0,1,0))\n",
    "# x = torch.tensor([[[[0,0,1],[0,1,0],[1,0,0]]]])\n",
    "x = torch.tensor([0.,0.,1.])\n",
    "print(l2norm(x))"
   ]
  },
  {
   "cell_type": "code",
   "execution_count": 47,
   "metadata": {},
   "outputs": [
    {
     "name": "stdout",
     "output_type": "stream",
     "text": [
      "tensor([0., 0., 1.])\n"
     ]
    }
   ],
   "source": [
    "x = torch.tensor([0.,0.,2.])\n",
    "print(l2norm(x))"
   ]
  },
  {
   "cell_type": "code",
   "execution_count": 48,
   "metadata": {},
   "outputs": [
    {
     "name": "stdout",
     "output_type": "stream",
     "text": [
      "tensor([0.7071, 0.0000, 0.7071])\n"
     ]
    }
   ],
   "source": [
    "x = torch.tensor([1.,0.,1.])\n",
    "print(l2norm(x))"
   ]
  },
  {
   "cell_type": "code",
   "execution_count": 49,
   "metadata": {},
   "outputs": [
    {
     "name": "stdout",
     "output_type": "stream",
     "text": [
      "tensor(0.)\n"
     ]
    }
   ],
   "source": [
    "x = torch.tensor([0.,0.,1.])\n",
    "y = torch.tensor([0.,1.,0.])\n",
    "print(einsum('... d, ... d -> ...', l2norm(x), l2norm(y)))"
   ]
  },
  {
   "cell_type": "code",
   "execution_count": 50,
   "metadata": {},
   "outputs": [
    {
     "name": "stdout",
     "output_type": "stream",
     "text": [
      "tensor([[[0.9999, 0.9999, 0.9999],\n",
      "         [0.9999, 0.9999, 0.9999]]])\n"
     ]
    }
   ],
   "source": [
    "face_coords = torch.tensor([[[[-0.4410, -0.0583, -0.1358],\n",
    "          [-0.4377, -0.0619, -0.1303],\n",
    "          [-0.4430, -0.0572, -0.1290]],\n",
    "         [[ 0.4457, -0.0392,  0.0039],\n",
    "          [ 0.4444, -0.0349,  0.0022],\n",
    "          [ 0.4439, -0.0353,  0.0067]]]])\n",
    "shifted_face_coords = torch.tensor([[[[-0.4430, -0.0572, -0.1290],\n",
    "          [-0.4410, -0.0583, -0.1358],\n",
    "          [-0.4377, -0.0619, -0.1303]],\n",
    "         [[ 0.4439, -0.0353,  0.0067],\n",
    "          [ 0.4457, -0.0392,  0.0039],\n",
    "          [ 0.4444, -0.0349,  0.0022]]]])\n",
    "z = einsum('... d, ... d -> ...', l2norm(face_coords), l2norm(shifted_face_coords))\n",
    "print(z)"
   ]
  },
  {
   "cell_type": "code",
   "execution_count": 51,
   "metadata": {},
   "outputs": [
    {
     "data": {
      "text/plain": [
       "tensor([[[0.0154, 0.0130, 0.0128],\n",
       "         [0.0105, 0.0101, 0.0102]]])"
      ]
     },
     "execution_count": 51,
     "metadata": {},
     "output_type": "execute_result"
    }
   ],
   "source": [
    "z.clip(-1 + eps, 1 - eps).arccos()\n"
   ]
  },
  {
   "cell_type": "code",
   "execution_count": 52,
   "metadata": {},
   "outputs": [
    {
     "name": "stdout",
     "output_type": "stream",
     "text": [
      "tensor([[[[ 0.0020, -0.0011, -0.0068],\n",
      "          [ 0.0033, -0.0036,  0.0055],\n",
      "          [-0.0053,  0.0047,  0.0013]],\n",
      "\n",
      "         [[ 0.0018, -0.0039, -0.0028],\n",
      "          [-0.0013,  0.0043, -0.0017],\n",
      "          [-0.0005, -0.0004,  0.0045]]]])\n"
     ]
    }
   ],
   "source": [
    "face_coords = torch.tensor([[[[-0.4410, -0.0583, -0.1358],\n",
    "          [-0.4377, -0.0619, -0.1303],\n",
    "          [-0.4430, -0.0572, -0.1290]],\n",
    "         [[ 0.4457, -0.0392,  0.0039],\n",
    "          [ 0.4444, -0.0349,  0.0022],\n",
    "          [ 0.4439, -0.0353,  0.0067]]]])\n",
    "shifted_face_coords = torch.tensor([[[[-0.4430, -0.0572, -0.1290],\n",
    "          [-0.4410, -0.0583, -0.1358],\n",
    "          [-0.4377, -0.0619, -0.1303]],\n",
    "         [[ 0.4439, -0.0353,  0.0067],\n",
    "          [ 0.4457, -0.0392,  0.0039],\n",
    "          [ 0.4444, -0.0349,  0.0022]]]])\n",
    "edge_vector = face_coords - shifted_face_coords #得到了三条边的矢量(从原点出发的)\n",
    "print(edge_vector)"
   ]
  },
  {
   "cell_type": "code",
   "execution_count": 53,
   "metadata": {},
   "outputs": [
    {
     "name": "stdout",
     "output_type": "stream",
     "text": [
      "tensor([[[[ 0.2788, -0.1534, -0.9480],\n",
      "          [ 0.4487, -0.4894,  0.7478],\n",
      "          [-0.7359,  0.6526,  0.1805]],\n",
      "\n",
      "         [[ 0.3511, -0.7606, -0.5461],\n",
      "          [-0.2707,  0.8953, -0.3539],\n",
      "          [-0.1100, -0.0880,  0.9900]]]])\n"
     ]
    }
   ],
   "source": [
    "normv = l2norm(edge_vector) #得到了三条边的归一化矢量\n",
    "print(normv)"
   ]
  },
  {
   "cell_type": "code",
   "execution_count": 54,
   "metadata": {},
   "outputs": [
    {
     "name": "stdout",
     "output_type": "stream",
     "text": [
      "tensor([[[ 0.0148, -0.0233,  0.0090]]])\n",
      "tensor([[[1.0000, 1.0000, 1.0000]]])\n"
     ]
    }
   ],
   "source": [
    "normv1 = torch.tensor([[[[ 0.2788, -0.1534, -0.9480],\n",
    "          [ 0.4487, -0.4894,  0.7478],\n",
    "          [-0.7359,  0.6526,  0.1805]]]])\n",
    "\n",
    "dot_products = torch.einsum('abcd,abed->abe', normv1, normv1) #\n",
    "print(dot_products)\n",
    "\n",
    "magnitudes = torch.norm(normv1, dim=3)\n",
    "print(magnitudes)"
   ]
  },
  {
   "cell_type": "code",
   "execution_count": 55,
   "metadata": {},
   "outputs": [
    {
     "data": {
      "text/plain": [
       "tensor([[[1., 4., 9.]]])"
      ]
     },
     "execution_count": 55,
     "metadata": {},
     "output_type": "execute_result"
    }
   ],
   "source": [
    "normv0 = torch.tensor([[[[ 0., 0., 1.],\n",
    "          [ 0., 2., 0.],\n",
    "          [ 3., 0., 0.]]]])\n",
    "torch.einsum('abcd,abed->abe', normv0, normv0) #tensor([[[1., 4., 9.]]])\n"
   ]
  },
  {
   "cell_type": "code",
   "execution_count": 56,
   "metadata": {},
   "outputs": [
    {
     "name": "stdout",
     "output_type": "stream",
     "text": [
      "tensor([[[[3., 0., 0.],\n",
      "          [0., 0., 1.],\n",
      "          [0., 2., 0.]]]])\n"
     ]
    },
    {
     "data": {
      "text/plain": [
       "tensor([[[0., 0., 0.]]])"
      ]
     },
     "execution_count": 56,
     "metadata": {},
     "output_type": "execute_result"
    }
   ],
   "source": [
    "normv00 = torch.cat((normv0[:, :, -1:], normv0[:, :, :-1]), dim = 2)\n",
    "print(normv00)\n",
    "'''tensor([[[[3., 0., 0.],\n",
    "          [0., 0., 1.],\n",
    "          [0., 2., 0.]]]])'''\n",
    "torch.einsum('abcd,abcd->abc', normv0, normv00) \n",
    "#tensor([[[0., 0., 0.]]]) 000是对的 因为互相垂直了"
   ]
  },
  {
   "cell_type": "code",
   "execution_count": 57,
   "metadata": {},
   "outputs": [
    {
     "data": {
      "text/plain": [
       "tensor([[[9., 1., 4.]]])"
      ]
     },
     "execution_count": 57,
     "metadata": {},
     "output_type": "execute_result"
    }
   ],
   "source": [
    "torch.einsum('abcd,abed->abe', normv0, normv00) #tensor([[[9., 1., 4.]]]) 错的结果"
   ]
  },
  {
   "cell_type": "code",
   "execution_count": 58,
   "metadata": {},
   "outputs": [
    {
     "data": {
      "text/plain": [
       "tensor([[[0., 0., 0.]]])"
      ]
     },
     "execution_count": 58,
     "metadata": {},
     "output_type": "execute_result"
    }
   ],
   "source": [
    "normv0 = torch.tensor([[[[ 0., 0., 1.],\n",
    "          [ 0., 2., 0.],\n",
    "          [ 3., 0., 0.]]]])\n",
    "normv00 = torch.cat((normv0[:, :, -1:], normv0[:, :, :-1]), dim = 2)\n",
    "\n",
    "torch.einsum('abcd,abcd->abc', normv0, normv00) "
   ]
  },
  {
   "cell_type": "code",
   "execution_count": 59,
   "metadata": {},
   "outputs": [
    {
     "data": {
      "text/plain": [
       "tensor([[[0., 0., 0.]]])"
      ]
     },
     "execution_count": 59,
     "metadata": {},
     "output_type": "execute_result"
    }
   ],
   "source": [
    "normv0 = torch.tensor([[[[ 0., 0., 1.],\n",
    "          [ 0., 2., 0.],\n",
    "          [ 3., 0., 0.]]]])\n",
    "normv00 = torch.cat((normv0[:, :, -1:], normv0[:, :, :-1]), dim = 2)\n",
    "\n",
    "torch.einsum('efgh,efgh->efg', normv0, normv00) "
   ]
  },
  {
   "cell_type": "code",
   "execution_count": 60,
   "metadata": {},
   "outputs": [
    {
     "data": {
      "text/plain": [
       "tensor([[[3., 0., 0.]]])"
      ]
     },
     "execution_count": 60,
     "metadata": {},
     "output_type": "execute_result"
    }
   ],
   "source": [
    "normv0 = torch.tensor([[[[ 1., 0., 1.],\n",
    "          [ 0., 2., 0.],\n",
    "          [ 3., 0., 0.]]]])\n",
    "normv00 = torch.cat((normv0[:, :, -1:], normv0[:, :, :-1]), dim = 2)\n",
    "\n",
    "torch.einsum('abcd,abcd->abc', normv0, normv00) "
   ]
  },
  {
   "cell_type": "code",
   "execution_count": 61,
   "metadata": {},
   "outputs": [
    {
     "data": {
      "text/plain": [
       "tensor([[[3., 0., 0.]]])"
      ]
     },
     "execution_count": 61,
     "metadata": {},
     "output_type": "execute_result"
    }
   ],
   "source": [
    "normv0 = torch.tensor([[[[ 1., 0., 1.],\n",
    "          [ 0., 2., 0.],\n",
    "          [ 3., 0., 0.]]]])\n",
    "normv00 = torch.cat((normv0[:, :, -1:], normv0[:, :, :-1]), dim = 2)\n",
    "\n",
    "torch.einsum('...d,...d->...', normv0, normv00) "
   ]
  },
  {
   "cell_type": "code",
   "execution_count": 63,
   "metadata": {},
   "outputs": [
    {
     "name": "stdout",
     "output_type": "stream",
     "text": [
      "边矢量 tensor([[[[ 0.0020, -0.0011, -0.0068],\n",
      "          [ 0.0033, -0.0036,  0.0055],\n",
      "          [-0.0053,  0.0047,  0.0013]],\n",
      "\n",
      "         [[ 0.0018, -0.0039, -0.0028],\n",
      "          [-0.0013,  0.0043, -0.0017],\n",
      "          [-0.0005, -0.0004,  0.0045]]]])\n",
      "归一化边矢量 tensor([[[[ 0.2788, -0.1534, -0.9480],\n",
      "          [ 0.4487, -0.4894,  0.7478],\n",
      "          [-0.7359,  0.6526,  0.1805]],\n",
      "\n",
      "         [[ 0.3511, -0.7606, -0.5461],\n",
      "          [-0.2707,  0.8953, -0.3539],\n",
      "          [-0.1100, -0.0880,  0.9900]]]])\n",
      "归一化边矢量之间的点积 tensor([[[-0.4764, -0.5087, -0.5146],\n",
      "         [-0.5123, -0.5827, -0.3994]]])\n"
     ]
    },
    {
     "data": {
      "text/plain": [
       "tensor([[[2.0673, 2.1045, 2.1113],\n",
       "         [2.1087, 2.1928, 1.9817]]])"
      ]
     },
     "execution_count": 63,
     "metadata": {},
     "output_type": "execute_result"
    }
   ],
   "source": [
    "face_coords = torch.tensor([[[[-0.4410, -0.0583, -0.1358],\n",
    "          [-0.4377, -0.0619, -0.1303],\n",
    "          [-0.4430, -0.0572, -0.1290]],\n",
    "         [[ 0.4457, -0.0392,  0.0039],\n",
    "          [ 0.4444, -0.0349,  0.0022],\n",
    "          [ 0.4439, -0.0353,  0.0067]]]])\n",
    "shifted_face_coords = torch.tensor([[[[-0.4430, -0.0572, -0.1290],\n",
    "          [-0.4410, -0.0583, -0.1358],\n",
    "          [-0.4377, -0.0619, -0.1303]],\n",
    "         [[ 0.4439, -0.0353,  0.0067],\n",
    "          [ 0.4457, -0.0392,  0.0039],\n",
    "          [ 0.4444, -0.0349,  0.0022]]]])\n",
    "edge_vector = face_coords - shifted_face_coords #得到了三条边的矢量(从原点出发的)\n",
    "print('边矢量',edge_vector)\n",
    "\n",
    "normv = l2norm(edge_vector) #得到了三条边的归一化矢量\n",
    "print('归一化边矢量',normv)\n",
    "\n",
    "guiyiprodot = torch.einsum('abcd,abcd->abc', normv, torch.cat((normv[:, :, -1:], normv[:, :, :-1]), dim = 2)) \n",
    "print('归一化边矢量之间的点积',guiyiprodot)\n",
    "\n",
    "guiyiprodot.arccos()"
   ]
  },
  {
   "cell_type": "code",
   "execution_count": 64,
   "metadata": {},
   "outputs": [
    {
     "data": {
      "text/plain": [
       "tensor([[[0.4764, 0.5087, 0.5146],\n",
       "         [0.5123, 0.5827, 0.3994]]])"
      ]
     },
     "execution_count": 64,
     "metadata": {},
     "output_type": "execute_result"
    }
   ],
   "source": [
    "-guiyiprodot"
   ]
  },
  {
   "cell_type": "code",
   "execution_count": 65,
   "metadata": {},
   "outputs": [
    {
     "data": {
      "text/plain": [
       "tensor([[[61.5503, 59.4203, 59.0294],\n",
       "         [59.1812, 54.3605, 66.4582]]])"
      ]
     },
     "execution_count": 65,
     "metadata": {},
     "output_type": "execute_result"
    }
   ],
   "source": [
    "torch.tensor([[ [degrees(rad.item()) for rad in row] for row in matrix] for matrix in (-guiyiprodot).arccos()])"
   ]
  },
  {
   "cell_type": "code",
   "execution_count": 66,
   "metadata": {},
   "outputs": [
    {
     "name": "stdout",
     "output_type": "stream",
     "text": [
      "边矢量 tensor([[[[ 0.0020, -0.0011, -0.0068],\n",
      "          [ 0.0033, -0.0036,  0.0055],\n",
      "          [-0.0053,  0.0047,  0.0013]],\n",
      "\n",
      "         [[ 0.0018, -0.0039, -0.0028],\n",
      "          [-0.0013,  0.0043, -0.0017],\n",
      "          [-0.0005, -0.0004,  0.0045]]]])\n",
      "归一化边矢量 tensor([[[[ 0.2788, -0.1534, -0.9480],\n",
      "          [ 0.4487, -0.4894,  0.7478],\n",
      "          [-0.7359,  0.6526,  0.1805]],\n",
      "\n",
      "         [[ 0.3511, -0.7606, -0.5461],\n",
      "          [-0.2707,  0.8953, -0.3539],\n",
      "          [-0.1100, -0.0880,  0.9900]]]])\n",
      "归一化边矢量之间的点积 tensor([[[0.4764, 0.5087, 0.5146],\n",
      "         [0.5123, 0.5827, 0.3994]]])\n",
      "弧度结果： tensor([[[1.0743, 1.0371, 1.0303],\n",
      "         [1.0329, 0.9488, 1.1599]]])\n",
      "角度结果： tensor([[[61.5503, 59.4203, 59.0294],\n",
      "         [59.1812, 54.3605, 66.4582]]])\n"
     ]
    }
   ],
   "source": [
    "face_coords = torch.tensor([[[[-0.4410, -0.0583, -0.1358],\n",
    "          [-0.4377, -0.0619, -0.1303],\n",
    "          [-0.4430, -0.0572, -0.1290]],\n",
    "         [[ 0.4457, -0.0392,  0.0039],\n",
    "          [ 0.4444, -0.0349,  0.0022],\n",
    "          [ 0.4439, -0.0353,  0.0067]]]])\n",
    "shifted_face_coords = torch.tensor([[[[-0.4430, -0.0572, -0.1290],\n",
    "          [-0.4410, -0.0583, -0.1358],\n",
    "          [-0.4377, -0.0619, -0.1303]],\n",
    "         [[ 0.4439, -0.0353,  0.0067],\n",
    "          [ 0.4457, -0.0392,  0.0039],\n",
    "          [ 0.4444, -0.0349,  0.0022]]]])\n",
    "edge_vector = face_coords - shifted_face_coords #得到了三条边的矢量(从原点出发的)\n",
    "print('边矢量：',edge_vector)\n",
    "\n",
    "normv = l2norm(edge_vector) #得到了三条边的归一化矢量\n",
    "print('归一化边矢量：',normv)\n",
    "\n",
    "guiyiprodot = -torch.einsum('abcd,abcd->abc', normv, torch.cat((normv[:, :, -1:], normv[:, :, :-1]), dim = 2)) \n",
    "print('归一化边矢量之间的锐角点积：',guiyiprodot)\n",
    "\n",
    "hudu = guiyiprodot.arccos()\n",
    "print(\"弧度结果：\",hudu)\n",
    "jiaodu = torch.tensor([[ [degrees(rad.item()) for rad in row] for row in matrix] for matrix in hudu])\n",
    "print(\"角度结果：\",jiaodu)"
   ]
  }
 ],
 "metadata": {
  "kernelspec": {
   "display_name": "meshg",
   "language": "python",
   "name": "python3"
  },
  "language_info": {
   "codemirror_mode": {
    "name": "ipython",
    "version": 3
   },
   "file_extension": ".py",
   "mimetype": "text/x-python",
   "name": "python",
   "nbconvert_exporter": "python",
   "pygments_lexer": "ipython3",
   "version": "3.9.19"
  }
 },
 "nbformat": 4,
 "nbformat_minor": 2
}
