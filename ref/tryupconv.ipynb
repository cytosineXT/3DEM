{
 "cells": [
  {
   "cell_type": "code",
   "execution_count": 9,
   "metadata": {},
   "outputs": [
    {
     "name": "stdout",
     "output_type": "stream",
     "text": [
      "torch.Size([1, 2, 11, 259])\n"
     ]
    }
   ],
   "source": [
    "import torch\n",
    "import torch.nn as nn\n",
    "\n",
    "# 定义输入特征矩阵\n",
    "input_matrix = torch.randn(1,4,4,128)\n",
    "\n",
    "# 定义多层反卷积网络\n",
    "upconv1 = nn.ConvTranspose2d(4, 2, kernel_size=5, stride=2, padding=0)\n",
    "# upconv2 = nn.ConvTranspose2d(1000, 500, kernel_size=5, stride=2, padding=0)\n",
    "# upconv3 = nn.ConvTranspose2d(500, 361, kernel_size=5, stride=2, padding=0)\n",
    "\n",
    "# 将特征矩阵输入多层反卷积网络\n",
    "output_image = upconv1(input_matrix)\n",
    "# output_image = upconv2(output_image)\n",
    "# output_image = upconv3(output_image)\n",
    "\n",
    "# 打印输出图像的形状\n",
    "print(output_image.shape)  # 输出: torch.Size([1, 361, 720])"
   ]
  },
  {
   "cell_type": "code",
   "execution_count": 15,
   "metadata": {},
   "outputs": [
    {
     "name": "stdout",
     "output_type": "stream",
     "text": [
      "torch.Size([1, 2, 11, 259])\n"
     ]
    }
   ],
   "source": [
    "import torch\n",
    "import torch.nn as nn\n",
    "\n",
    "input_matrix = torch.randn(1,4,4,128)\n",
    "upconv1 = nn.ConvTranspose2d(4, 2, kernel_size=5, stride=2, padding=0)\n",
    "output_image = upconv1(input_matrix)\n",
    "print(output_image.shape)  # 输出: torch.Size([1, 361, 720])"
   ]
  },
  {
   "cell_type": "code",
   "execution_count": 16,
   "metadata": {},
   "outputs": [
    {
     "name": "stdout",
     "output_type": "stream",
     "text": [
      "torch.Size([1, 1, 11, 259])\n"
     ]
    }
   ],
   "source": [
    "import torch\n",
    "import torch.nn as nn\n",
    "\n",
    "input_matrix = torch.randn(1,4,4,128)\n",
    "upconv1 = nn.ConvTranspose2d(4, 1, kernel_size=5, stride=2, padding=0)\n",
    "output_image = upconv1(input_matrix)\n",
    "print(output_image.shape)  # 输出: torch.Size([1, 361, 720])"
   ]
  },
  {
   "cell_type": "code",
   "execution_count": 17,
   "metadata": {},
   "outputs": [
    {
     "name": "stdout",
     "output_type": "stream",
     "text": [
      "torch.Size([2, 11, 259])\n"
     ]
    }
   ],
   "source": [
    "import torch\n",
    "import torch.nn as nn\n",
    "\n",
    "input_matrix = torch.randn(4,4,128)\n",
    "upconv1 = nn.ConvTranspose2d(4, 2, kernel_size=5, stride=2, padding=0)\n",
    "output_image = upconv1(input_matrix)\n",
    "print(output_image.shape)  # 输出: torch.Size([1, 361, 720])"
   ]
  },
  {
   "cell_type": "code",
   "execution_count": null,
   "metadata": {},
   "outputs": [
    {
     "name": "stdout",
     "output_type": "stream",
     "text": [
      "torch.Size([2, 11, 259])\n"
     ]
    }
   ],
   "source": [
    "import torch\n",
    "import torch.nn as nn\n",
    "\n",
    "input_matrix = torch.randn(4,4,128)\n",
    "upconv1 = nn.ConvTranspose2d(4, 2, kernel_size=5, stride=2, padding=0)\n",
    "output_image = upconv1(input_matrix)\n",
    "print(output_image.shape)  # 输出: torch.Size([1, 361, 720])"
   ]
  },
  {
   "cell_type": "code",
   "execution_count": 21,
   "metadata": {},
   "outputs": [
    {
     "name": "stdout",
     "output_type": "stream",
     "text": [
      "torch.Size([64, 9, 9])\n"
     ]
    }
   ],
   "source": [
    "import torch\n",
    "import torch.nn as nn\n",
    "\n",
    "input_matrix = torch.randn(128,4,4) #channel 长 宽\n",
    "upconv1 = nn.ConvTranspose2d(128, 64, kernel_size=3, stride=2, padding=0)\n",
    "output_image = upconv1(input_matrix)\n",
    "print(output_image.shape)  # 输出: torch.Size([1, 361, 720])"
   ]
  },
  {
   "cell_type": "code",
   "execution_count": 24,
   "metadata": {},
   "outputs": [
    {
     "name": "stdout",
     "output_type": "stream",
     "text": [
      "torch.Size([63, 9, 9])\n"
     ]
    }
   ],
   "source": [
    "import torch\n",
    "import torch.nn as nn\n",
    "\n",
    "input_matrix = torch.randn(128,4,4) #channel 长 宽\n",
    "upconv1 = nn.ConvTranspose2d(128, 63, kernel_size=3, stride=2, padding=0) #维度任人设置 应该是用几个核去卷，所以不涉及几何尺寸问题\n",
    "output_image = upconv1(input_matrix)\n",
    "print(output_image.shape)  # 输出: torch.Size([1, 361, 720])"
   ]
  },
  {
   "cell_type": "code",
   "execution_count": 42,
   "metadata": {},
   "outputs": [
    {
     "name": "stdout",
     "output_type": "stream",
     "text": [
      "\n",
      "\n",
      "input:([128,4,4]),kernal:1,stride:1,output:torch.Size([64, 4, 4])\n",
      "input:([128,4,4]),kernal:1,stride:2,output:torch.Size([64, 7, 7])\n",
      "input:([128,4,4]),kernal:1,stride:3,output:torch.Size([64, 10, 10])\n",
      "input:([128,4,4]),kernal:1,stride:4,output:torch.Size([64, 13, 13])\n",
      "\n",
      "\n",
      "input:([128,4,4]),kernal:2,stride:1,output:torch.Size([64, 5, 5])\n",
      "input:([128,4,4]),kernal:2,stride:2,output:torch.Size([64, 8, 8])\n",
      "input:([128,4,4]),kernal:2,stride:3,output:torch.Size([64, 11, 11])\n",
      "input:([128,4,4]),kernal:2,stride:4,output:torch.Size([64, 14, 14])\n",
      "\n",
      "\n",
      "input:([128,4,4]),kernal:3,stride:1,output:torch.Size([64, 6, 6])\n",
      "input:([128,4,4]),kernal:3,stride:2,output:torch.Size([64, 9, 9])\n",
      "input:([128,4,4]),kernal:3,stride:3,output:torch.Size([64, 12, 12])\n",
      "input:([128,4,4]),kernal:3,stride:4,output:torch.Size([64, 15, 15])\n",
      "\n",
      "\n",
      "input:([128,4,4]),kernal:4,stride:1,output:torch.Size([64, 7, 7])\n",
      "input:([128,4,4]),kernal:4,stride:2,output:torch.Size([64, 10, 10])\n",
      "input:([128,4,4]),kernal:4,stride:3,output:torch.Size([64, 13, 13])\n",
      "input:([128,4,4]),kernal:4,stride:4,output:torch.Size([64, 16, 16])\n",
      "\n",
      "\n",
      "input:([128,4,4]),kernal:5,stride:1,output:torch.Size([64, 8, 8])\n",
      "input:([128,4,4]),kernal:5,stride:2,output:torch.Size([64, 11, 11])\n",
      "input:([128,4,4]),kernal:5,stride:3,output:torch.Size([64, 14, 14])\n",
      "input:([128,4,4]),kernal:5,stride:4,output:torch.Size([64, 17, 17])\n"
     ]
    }
   ],
   "source": [
    "import torch\n",
    "import torch.nn as nn\n",
    "\n",
    "input_matrix = torch.randn(128,4,4) #channel 长 宽\n",
    "for ker in range(1,6):\n",
    "    print('\\n')\n",
    "    for strr in range(1,5):\n",
    "        upconv1 = nn.ConvTranspose2d(128, 64, kernel_size=ker, stride=strr, padding=0) #维度任人设置 应该是用几个核去卷，所以不涉及几何尺寸问题；ker越大 输出图越大+1；str越大 输出图越大\n",
    "        output_image = upconv1(input_matrix)\n",
    "        print(f'input:([128,4,4]),kernal:{ker},stride:{strr},output:{output_image.shape}')  # 想要输出: torch.Size([1, 361, 720])"
   ]
  },
  {
   "cell_type": "code",
   "execution_count": 53,
   "metadata": {},
   "outputs": [
    {
     "name": "stdout",
     "output_type": "stream",
     "text": [
      "torch.Size([1, 361, 720]) 259920\n",
      "torch.Size([4, 180, 360]) 259200\n",
      "torch.Size([8, 90, 180]) 129600\n",
      "torch.Size([16, 45, 90]) 64800\n",
      "torch.Size([32, 22, 45]) 31680\n"
     ]
    }
   ],
   "source": [
    "import torch\n",
    "import torch.nn as nn\n",
    "\n",
    "input_matrix = torch.randn(1,361,720) #channel 长 宽\n",
    "print(input_matrix.shape,361*720)\n",
    "\n",
    "upconv1 = nn.Conv2d(1, 4, kernel_size=2, stride=2)\n",
    "output_image = upconv1(input_matrix)\n",
    "print(output_image.shape,output_image.shape[0]*output_image.shape[1]*output_image.shape[2])  # 输出: torch.Size([1, 361, 720])\n",
    "\n",
    "upconv2 = nn.Conv2d(4, 8, kernel_size=2, stride=2)\n",
    "output_image = upconv2(output_image)\n",
    "print(output_image.shape,output_image.shape[0]*output_image.shape[1]*output_image.shape[2])  # 输出: torch.Size([1, 361, 720])\n",
    "\n",
    "upconv3 = nn.Conv2d(8, 16, kernel_size=2, stride=2)\n",
    "output_image = upconv3(output_image)\n",
    "print(output_image.shape,output_image.shape[0]*output_image.shape[1]*output_image.shape[2])  # 输出: torch.Size([1, 361, 720])\n",
    "\n",
    "upconv4 = nn.Conv2d(16, 32, kernel_size=2, stride=2)\n",
    "output_image = upconv4(output_image)\n",
    "print(output_image.shape,output_image.shape[0]*output_image.shape[1]*output_image.shape[2])  # 输出: torch.Size([1, 361, 720])"
   ]
  },
  {
   "cell_type": "code",
   "execution_count": 3,
   "metadata": {},
   "outputs": [
    {
     "name": "stdout",
     "output_type": "stream",
     "text": [
      "torch.Size([1, 1, 31680]) 31680\n",
      "torch.Size([32, 22, 45]) 31680\n",
      "torch.Size([16, 44, 90]) 63360\n",
      "torch.Size([8, 88, 180]) 126720\n",
      "torch.Size([4, 176, 360]) 253440\n"
     ]
    }
   ],
   "source": [
    "import torch\n",
    "import torch.nn as nn\n",
    "\n",
    "output_image = torch.randn(1,1,31680) #channel 长 宽\n",
    "print(output_image.shape,output_image.shape[0]*output_image.shape[1]*output_image.shape[2])\n",
    "\n",
    "output_image=output_image.view(32,22,-1)\n",
    "print(output_image.shape,output_image.shape[0]*output_image.shape[1]*output_image.shape[2])\n",
    "\n",
    "upconv1 = nn.ConvTranspose2d(32, 16, kernel_size=2, stride=2)\n",
    "output_image = upconv1(output_image)\n",
    "print(output_image.shape,output_image.shape[0]*output_image.shape[1]*output_image.shape[2])  # 输出: torch.Size([1, 361, 720])\n",
    "\n",
    "upconv2 = nn.ConvTranspose2d(16, 8, kernel_size=2, stride=2)\n",
    "output_image = upconv2(output_image)\n",
    "print(output_image.shape,output_image.shape[0]*output_image.shape[1]*output_image.shape[2])  # 输出: torch.Size([1, 361, 720])\n",
    "\n",
    "upconv3 = nn.ConvTranspose2d(8, 4, kernel_size=2, stride=2)\n",
    "output_image = upconv3(output_image)\n",
    "print(output_image.shape,output_image.shape[0]*output_image.shape[1]*output_image.shape[2])  # 输出: torch.Size([1, 361, 720])"
   ]
  },
  {
   "cell_type": "code",
   "execution_count": 11,
   "metadata": {},
   "outputs": [
    {
     "name": "stdout",
     "output_type": "stream",
     "text": [
      "torch.Size([1, 1, 64800]) 64800\n",
      "torch.Size([16, 45, 90]) 64800\n",
      "torch.Size([8, 90, 180]) 129600\n",
      "torch.Size([4, 180, 360]) 259200\n",
      "torch.Size([1, 361, 721]) 260281\n"
     ]
    }
   ],
   "source": [
    "import torch\n",
    "import torch.nn as nn\n",
    "\n",
    "output_image = torch.randn(1,1,64800) #channel 长 宽\n",
    "print(output_image.shape,output_image.shape[0]*output_image.shape[1]*output_image.shape[2])\n",
    "\n",
    "output_image=output_image.view(16,45,-1)\n",
    "print(output_image.shape,output_image.shape[0]*output_image.shape[1]*output_image.shape[2])\n",
    "\n",
    "upconv1 = nn.ConvTranspose2d(16, 8, kernel_size=2, stride=2)\n",
    "output_image = upconv1(output_image)\n",
    "print(output_image.shape,output_image.shape[0]*output_image.shape[1]*output_image.shape[2]) \n",
    "\n",
    "upconv2 = nn.ConvTranspose2d(8, 4, kernel_size=2, stride=2)\n",
    "output_image = upconv2(output_image)\n",
    "print(output_image.shape,output_image.shape[0]*output_image.shape[1]*output_image.shape[2])  \n",
    "\n",
    "upconv3 = nn.ConvTranspose2d(4, 1, kernel_size=2, stride=2,output_padding=1)\n",
    "output_image = upconv3(output_image)\n",
    "print(output_image.shape,output_image.shape[0]*output_image.shape[1]*output_image.shape[2])  # 输出: torch.Size([1, 361, 721])"
   ]
  },
  {
   "cell_type": "code",
   "execution_count": 13,
   "metadata": {},
   "outputs": [
    {
     "name": "stdout",
     "output_type": "stream",
     "text": [
      "torch.Size([1, 1, 64800]) 64800\n",
      "torch.Size([16, 45, 90]) 64800\n",
      "torch.Size([8, 90, 180]) 129600\n",
      "torch.Size([4, 180, 360]) 259200\n",
      "torch.Size([1, 361, 720]) 259920\n"
     ]
    }
   ],
   "source": [
    "import torch\n",
    "import torch.nn as nn\n",
    "\n",
    "output_image = torch.randn(1,1,64800) #channel 长 宽\n",
    "print(output_image.shape,output_image.shape[0]*output_image.shape[1]*output_image.shape[2])\n",
    "\n",
    "output_image=output_image.view(16,45,-1)\n",
    "print(output_image.shape,output_image.shape[0]*output_image.shape[1]*output_image.shape[2])\n",
    "\n",
    "upconv1 = nn.ConvTranspose2d(16, 8, kernel_size=2, stride=2)\n",
    "output_image = upconv1(output_image)\n",
    "print(output_image.shape,output_image.shape[0]*output_image.shape[1]*output_image.shape[2]) \n",
    "\n",
    "upconv2 = nn.ConvTranspose2d(8, 4, kernel_size=2, stride=2)\n",
    "output_image = upconv2(output_image)\n",
    "print(output_image.shape,output_image.shape[0]*output_image.shape[1]*output_image.shape[2])  \n",
    "\n",
    "upconv3 = nn.ConvTranspose2d(4, 1, kernel_size=2, stride=2,output_padding=1)\n",
    "output_image = upconv3(output_image)\n",
    "output_image = output_image[ :, :, :-1]  # 裁剪输出特征图的宽度\n",
    "print(output_image.shape,output_image.shape[0]*output_image.shape[1]*output_image.shape[2])  # 输出: torch.Size([1, 361, 721])"
   ]
  },
  {
   "cell_type": "code",
   "execution_count": 28,
   "metadata": {},
   "outputs": [
    {
     "name": "stdout",
     "output_type": "stream",
     "text": [
      "torch.Size([1, 1, 64800]) 64800\n",
      "torch.Size([1, 16, 45, 90]) 64800\n",
      "torch.Size([1, 8, 90, 180]) 129600\n",
      "torch.Size([1, 4, 180, 360]) 259200\n",
      "torch.Size([1, 1, 361, 720]) 259920\n"
     ]
    }
   ],
   "source": [
    "import torch\n",
    "import torch.nn as nn\n",
    "import torch.nn.functional as F\n",
    "\n",
    "output_image = torch.randn(1, 1, 64800)\n",
    "print(output_image.shape, output_image.shape[0] * output_image.shape[1] * output_image.shape[2])\n",
    "\n",
    "output_image = output_image.view(1, 16, 45, -1)\n",
    "print(output_image.shape, output_image.shape[0] * output_image.shape[1] * output_image.shape[2] * output_image.shape[3])\n",
    "\n",
    "upconv1 = nn.ConvTranspose2d(16, 8, kernel_size=2, stride=2)\n",
    "bn1 = nn.BatchNorm2d(8)\n",
    "output_image = upconv1(output_image)\n",
    "output_image = bn1(output_image)\n",
    "output_image = F.relu(output_image)\n",
    "print(output_image.shape, output_image.shape[0] * output_image.shape[1] * output_image.shape[2] * output_image.shape[3])\n",
    "\n",
    "upconv2 = nn.ConvTranspose2d(8, 4, kernel_size=2, stride=2)\n",
    "bn2 = nn.BatchNorm2d(4)\n",
    "output_image = upconv2(output_image)\n",
    "output_image = bn2(output_image)\n",
    "output_image = F.relu(output_image)\n",
    "print(output_image.shape, output_image.shape[0] * output_image.shape[1] * output_image.shape[2] * output_image.shape[3])\n",
    "\n",
    "upconv3 = nn.ConvTranspose2d(4, 1, kernel_size=2, stride=2, output_padding=1)\n",
    "bn3 = nn.BatchNorm2d(1)\n",
    "output_image = upconv3(output_image)\n",
    "output_image = bn3(output_image)\n",
    "output_image = F.relu(output_image)\n",
    "output_image = output_image[:, :, :, :-1]\n",
    "print(output_image.shape, output_image.shape[0] * output_image.shape[1] * output_image.shape[2] * output_image.shape[3])"
   ]
  },
  {
   "cell_type": "code",
   "execution_count": 24,
   "metadata": {},
   "outputs": [
    {
     "name": "stdout",
     "output_type": "stream",
     "text": [
      "torch.Size([1, 1, 64800]) 64800\n",
      "torch.Size([16, 45, 90]) 64800\n",
      "torch.Size([8, 90, 180]) 129600\n",
      "torch.Size([16, 45, 90]) 64800\n",
      "torch.Size([16, 22, 45]) 15840\n"
     ]
    }
   ],
   "source": [
    "import torch\n",
    "import torch.nn as nn\n",
    "\n",
    "output_image = torch.randn(1,1,64800) #channel 长 宽\n",
    "print(output_image.shape,output_image.shape[0]*output_image.shape[1]*output_image.shape[2])\n",
    "\n",
    "output_image=output_image.view(16,45,-1)\n",
    "print(output_image.shape,output_image.shape[0]*output_image.shape[1]*output_image.shape[2])\n",
    "\n",
    "upconv1 = nn.ConvTranspose2d(16, 8, kernel_size=2, stride=2)\n",
    "output_image1 = upconv1(output_image)\n",
    "print(output_image1.shape,output_image1.shape[0]*output_image1.shape[1]*output_image1.shape[2]) \n",
    "\n",
    "upconv1 = nn.Conv2d(16, 16, kernel_size=3, stride=1, padding=1) #不变大小的3*3Conv!\n",
    "output_image2 = upconv1(output_image)\n",
    "print(output_image2.shape,output_image2.shape[0]*output_image2.shape[1]*output_image2.shape[2]) \n",
    "\n",
    "upconv1 = nn.Conv2d(16, 16, kernel_size=2, stride=2, padding=0) #大小/2的2*2Conv!\n",
    "output_image3 = upconv1(output_image)\n",
    "print(output_image3.shape,output_image3.shape[0]*output_image3.shape[1]*output_image3.shape[2]) "
   ]
  },
  {
   "cell_type": "code",
   "execution_count": 44,
   "metadata": {},
   "outputs": [
    {
     "name": "stdout",
     "output_type": "stream",
     "text": [
      "torch.Size([1, 1, 64800]) 64800\n",
      "torch.Size([1, 16, 45, 90]) 64800\n",
      "torch.Size([1, 8, 90, 180]) 129600\n",
      "torch.Size([1, 4, 180, 360]) 259200\n",
      "torch.Size([1, 1, 361, 720]) 259920\n",
      "Decodr用时：1.0275s\n"
     ]
    }
   ],
   "source": [
    "import torch\n",
    "import torch.nn as nn\n",
    "import torch.nn.functional as F\n",
    "import time\n",
    "\n",
    "time0 = time.time()\n",
    "output_image = torch.randn(1, 1, 64800)\n",
    "print(output_image.shape, output_image.shape[0] * output_image.shape[1] * output_image.shape[2])\n",
    "\n",
    "output_image = output_image.view(1, 16, 45, -1)\n",
    "print(output_image.shape, output_image.shape[0] * output_image.shape[1] * output_image.shape[2] * output_image.shape[3])\n",
    "\n",
    "upconv1 = nn.ConvTranspose2d(16, 8, kernel_size=2, stride=2)\n",
    "conv1_1 = nn.Conv2d(8, 8, kernel_size=3, stride=1, padding=1)  # 添加的卷积层1\n",
    "conv1_2 = nn.Conv2d(8, 8, kernel_size=3, stride=1, padding=1)  # 添加的卷积层2\n",
    "bn1_1 = nn.BatchNorm2d(8)  # 添加的批量归一化层1\n",
    "bn1_2 = nn.BatchNorm2d(8)  # 添加的批量归一化层2\n",
    "output_image = upconv1(output_image)\n",
    "output_image = conv1_1(output_image)\n",
    "output_image = bn1_1(output_image)\n",
    "output_image = F.relu(output_image)\n",
    "output_image = conv1_2(output_image)\n",
    "output_image = bn1_2(output_image)\n",
    "output_image = F.relu(output_image)\n",
    "print(output_image.shape, output_image.shape[0] * output_image.shape[1] * output_image.shape[2] * output_image.shape[3])\n",
    "\n",
    "upconv2 = nn.ConvTranspose2d(8, 4, kernel_size=2, stride=2)\n",
    "conv2_1 = nn.Conv2d(4, 4, kernel_size=3, stride=1, padding=1)  # 添加的卷积层1\n",
    "conv2_2 = nn.Conv2d(4, 4, kernel_size=3, stride=1, padding=1)  # 添加的卷积层2\n",
    "bn2_1 = nn.BatchNorm2d(4)  # 添加的批量归一化层1\n",
    "bn2_2 = nn.BatchNorm2d(4)  # 添加的批量归一化层2\n",
    "output_image = upconv2(output_image)\n",
    "output_image = conv2_1(output_image)\n",
    "output_image = bn2_1(output_image)\n",
    "output_image = F.relu(output_image)\n",
    "output_image = conv2_2(output_image)\n",
    "output_image = bn2_2(output_image)\n",
    "output_image = F.relu(output_image)\n",
    "print(output_image.shape, output_image.shape[0] * output_image.shape[1] * output_image.shape[2] * output_image.shape[3])\n",
    "\n",
    "upconv3 = nn.ConvTranspose2d(4, 1, kernel_size=2, stride=2, output_padding=1)\n",
    "bn3 = nn.BatchNorm2d(1)\n",
    "output_image = upconv3(output_image)\n",
    "output_image = bn3(output_image)\n",
    "output_image = F.relu(output_image)\n",
    "output_image = output_image[:, :, :, :-1]\n",
    "print(output_image.shape, output_image.shape[0] * output_image.shape[1] * output_image.shape[2] * output_image.shape[3])\n",
    "\n",
    "time.sleep(1)\n",
    "print(f'Encoder用时：{(time.time()-time0):.4f}s')"
   ]
  },
  {
   "cell_type": "code",
   "execution_count": 8,
   "metadata": {},
   "outputs": [
    {
     "name": "stdout",
     "output_type": "stream",
     "text": [
      "torch.Size([1, 32, 32400]) 1036800\n",
      "torch.Size([1, 256, 45, 90]) 1036800\n",
      "torch.Size([1, 128, 90, 180]) 2073600\n",
      "torch.Size([1, 64, 180, 360]) 4147200\n",
      "torch.Size([1, 32, 361, 721]) 8328992\n",
      "torch.Size([1, 1, 361, 720]) 259920\n",
      "Encoder用时：0.1904s\n"
     ]
    }
   ],
   "source": [
    "import torch\n",
    "import torch.nn as nn\n",
    "import torch.nn.functional as F\n",
    "import time\n",
    "\n",
    "time0 = time.time()\n",
    "output_image = torch.randn(1, 32, 32400)\n",
    "print(output_image.shape, output_image.shape[0] * output_image.shape[1] * output_image.shape[2])\n",
    "\n",
    "output_image = output_image.view(1, 256, 45, -1)\n",
    "print(output_image.shape, output_image.shape[0] * output_image.shape[1] * output_image.shape[2] * output_image.shape[3])\n",
    "\n",
    "upconv1 = nn.ConvTranspose2d(256, 128, kernel_size=2, stride=2)\n",
    "conv1_1 = nn.Conv2d(128, 128, kernel_size=3, stride=1, padding=1)  # 添加的卷积层1\n",
    "conv1_2 = nn.Conv2d(128, 128, kernel_size=3, stride=1, padding=1)  # 添加的卷积层2\n",
    "# bn1_1 = nn.BatchNorm2d(8)  # 添加的批量归一化层1\n",
    "# bn1_2 = nn.BatchNorm2d(8)  # 添加的批量归一化层2\n",
    "output_image = upconv1(output_image)\n",
    "output_image = conv1_1(output_image)\n",
    "# output_image = bn1_1(output_image)\n",
    "output_image = F.relu(output_image)\n",
    "output_image = conv1_2(output_image)\n",
    "# output_image = bn1_2(output_image)\n",
    "output_image = F.relu(output_image)\n",
    "print(output_image.shape, output_image.shape[0] * output_image.shape[1] * output_image.shape[2] * output_image.shape[3])\n",
    "\n",
    "upconv2 = nn.ConvTranspose2d(128, 64, kernel_size=2, stride=2)\n",
    "conv2_1 = nn.Conv2d(64, 64, kernel_size=3, stride=1, padding=1)  # 添加的卷积层1\n",
    "conv2_2 = nn.Conv2d(64, 64, kernel_size=3, stride=1, padding=1)  # 添加的卷积层2\n",
    "# bn2_1 = nn.BatchNorm2d(4)  # 添加的批量归一化层1\n",
    "# bn2_2 = nn.BatchNorm2d(4)  # 添加的批量归一化层2\n",
    "output_image = upconv2(output_image)\n",
    "output_image = conv2_1(output_image)\n",
    "# output_image = bn2_1(output_image)\n",
    "output_image = F.relu(output_image)\n",
    "output_image = conv2_2(output_image)\n",
    "# output_image = bn2_2(output_image)\n",
    "output_image = F.relu(output_image)\n",
    "print(output_image.shape, output_image.shape[0] * output_image.shape[1] * output_image.shape[2] * output_image.shape[3])\n",
    "\n",
    "upconv3 = nn.ConvTranspose2d(64, 32, kernel_size=2, stride=2, output_padding=1)\n",
    "conv3_1 = nn.Conv2d(32, 32, kernel_size=3, stride=1, padding=1)  # 添加的卷积层1\n",
    "conv3_2 = nn.Conv2d(32, 32, kernel_size=3, stride=1, padding=1)  # 添加的卷积层1\n",
    "conv1x1 = nn.Conv2d(32, 1, kernel_size=1, stride=1, padding=0)\n",
    "# bn3 = nn.BatchNorm2d(1)\n",
    "output_image = upconv3(output_image)\n",
    "output_image = conv3_1(output_image)\n",
    "# output_image = bn2_1(output_image)\n",
    "output_image = F.relu(output_image)\n",
    "output_image = conv3_2(output_image)\n",
    "# output_image = bn2_2(output_image)\n",
    "output_image = F.relu(output_image)\n",
    "print(output_image.shape, output_image.shape[0] * output_image.shape[1] * output_image.shape[2] * output_image.shape[3])\n",
    "\n",
    "output_image = conv1x1(output_image)\n",
    "output_image = output_image[:, :, :, :-1]\n",
    "print(output_image.shape, output_image.shape[0] * output_image.shape[1] * output_image.shape[2] * output_image.shape[3])\n",
    "\n",
    "# time.sleep(1)\n",
    "print(f'Encoder用时：{(time.time()-time0):.4f}s')"
   ]
  }
 ],
 "metadata": {
  "kernelspec": {
   "display_name": "jxtnet",
   "language": "python",
   "name": "python3"
  },
  "language_info": {
   "codemirror_mode": {
    "name": "ipython",
    "version": 3
   },
   "file_extension": ".py",
   "mimetype": "text/x-python",
   "name": "python",
   "nbconvert_exporter": "python",
   "pygments_lexer": "ipython3",
   "version": "3.9.19"
  }
 },
 "nbformat": 4,
 "nbformat_minor": 2
}
