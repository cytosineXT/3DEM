{
 "cells": [
  {
   "cell_type": "markdown",
   "metadata": {},
   "source": [
    "# python ubuntu文件系统管理"
   ]
  },
  {
   "cell_type": "code",
   "execution_count": 3,
   "metadata": {},
   "outputs": [],
   "source": [
    "rcsdir = r'/mnt/Disk/jiangxiaotian/datasets/RCS_map'\n",
    "rcsdir0 = r'/mnt/Disk/jiangxiaotian/datasets/RCS_map0'\n",
    "rcsdir1 = r'/mnt/Disk/jiangxiaotian/datasets/RCS_map1'\n",
    "\n",
    "import os"
   ]
  },
  {
   "cell_type": "code",
   "execution_count": 4,
   "metadata": {},
   "outputs": [
    {
     "name": "stdout",
     "output_type": "stream",
     "text": [
      "rcsdir 文件夹中的文件数量：14000\n",
      "rcsdir0 文件夹中的文件数量：280\n",
      "rcsdir1 文件夹中的文件数量：7280\n"
     ]
    }
   ],
   "source": [
    "file_count_rcsdir = len(os.listdir(rcsdir))\n",
    "file_count_rcsdir0 = len(os.listdir(rcsdir0))\n",
    "file_count_rcsdir1 = len(os.listdir(rcsdir1))\n",
    "print(f\"rcsdir 文件夹中的文件数量：{file_count_rcsdir}\")\n",
    "print(f\"rcsdir0 文件夹中的文件数量：{file_count_rcsdir0}\")\n",
    "print(f\"rcsdir1 文件夹中的文件数量：{file_count_rcsdir1}\")"
   ]
  },
  {
   "cell_type": "code",
   "execution_count": 6,
   "metadata": {},
   "outputs": [
    {
     "name": "stdout",
     "output_type": "stream",
     "text": [
      "目标文件夹中的文件数量：24360\n"
     ]
    }
   ],
   "source": [
    "print(f\"目标文件夹中的文件数量：{len(os.listdir(r'/mnt/Disk/jiangxiaotian/datasets/b82731071bd39b66e4c15ad8a2edd2e/RCS_map'))}\")"
   ]
  },
  {
   "cell_type": "code",
   "execution_count": 7,
   "metadata": {},
   "outputs": [],
   "source": [
    "import shutil\n",
    "\n",
    "src_folder = r'/mnt/Disk/jiangxiaotian/datasets/b82731071bd39b66e4c15ad8a2edd2e/RCS_map'\n",
    "dest_folder = r'/mnt/Disk/jiangxiaotian/datasets/b82731071bd39b66e4c15ad8a2edd2e'\n",
    "\n",
    "for file_name in os.listdir(src_folder):\n",
    "    src_file_path = os.path.join(src_folder, file_name)\n",
    "    dest_file_path = os.path.join(dest_folder, file_name)\n",
    "    shutil.move(src_file_path, dest_file_path)\n",
    "\n",
    "os.rmdir(src_folder)"
   ]
  },
  {
   "cell_type": "code",
   "execution_count": 8,
   "metadata": {},
   "outputs": [
    {
     "name": "stdout",
     "output_type": "stream",
     "text": [
      "目标文件夹中的文件数量：24360\n"
     ]
    }
   ],
   "source": [
    "print(f\"目标文件夹中的文件数量：{len(os.listdir(r'/mnt/Disk/jiangxiaotian/datasets/b82731071bd39b66e4c15ad8a2edd2e'))}\")"
   ]
  },
  {
   "cell_type": "code",
   "execution_count": 9,
   "metadata": {},
   "outputs": [
    {
     "name": "stdout",
     "output_type": "stream",
     "text": [
      "目标文件夹中的文件数量：105\n"
     ]
    }
   ],
   "source": [
    "print(f\"目标文件夹中的文件数量：{len(os.listdir(r'/mnt/Disk/jiangxiaotian/datasets/b943b632fd36f75ac1ccec171a275967'))}\")\n"
   ]
  },
  {
   "cell_type": "code",
   "execution_count": 1,
   "metadata": {},
   "outputs": [
    {
     "name": "stdout",
     "output_type": "stream",
     "text": [
      "目标文件夹中的文件数量：11534\n"
     ]
    }
   ],
   "source": [
    "import os\n",
    "import shutil\n",
    "import re\n",
    "\n",
    "src_folder = \"/mnt/Disk/jiangxiaotian/datasets/b82731071bd39b66e4c15ad8a2edd2e\"\n",
    "dest_folder = \"/mnt/Disk/jiangxiaotian/datasets/b827_xiezhen\"\n",
    "pattern = r\"RCSmap_theta(\\d+)phi(\\d+)f(\\d+\\.\\d+).pt\"\n",
    "\n",
    "files = os.listdir(src_folder)\n",
    "for file_name in files:\n",
    "    match = re.match(pattern, file_name)\n",
    "    if match:\n",
    "        theta = int(match.group(1))\n",
    "        phi = int(match.group(2))\n",
    "        f = float(match.group(3))\n",
    "        # print(f)\n",
    "        if 0.033 <= f <= 0.8:\n",
    "            src_file_path = os.path.join(src_folder, file_name)\n",
    "            dest_file_path = os.path.join(dest_folder, file_name)\n",
    "            shutil.copy(src_file_path, dest_file_path)\n",
    "\n",
    "print(f\"目标文件夹中的文件数量：{len(os.listdir(r'/mnt/Disk/jiangxiaotian/datasets/b827_xiezhen'))}\")"
   ]
  },
  {
   "cell_type": "code",
   "execution_count": 1,
   "metadata": {},
   "outputs": [
    {
     "name": "stdout",
     "output_type": "stream",
     "text": [
      "目标文件夹中的文件数量：474\n"
     ]
    }
   ],
   "source": [
    "import os\n",
    "import shutil\n",
    "import re\n",
    "\n",
    "src_folder = \"/mnt/Disk/jiangxiaotian/datasets/b827_xiezhen\"\n",
    "dest_folder = \"/mnt/Disk/jiangxiaotian/datasets/b827_xiezhen_val\"\n",
    "pattern = r\"RCSmap_theta(\\d+)phi(\\d+)f(\\d+\\.\\d+).pt\"\n",
    "\n",
    "files = os.listdir(src_folder)\n",
    "for file_name in files:\n",
    "    match = re.match(pattern, file_name)\n",
    "    if match:\n",
    "        theta = int(match.group(1))\n",
    "        phi = int(match.group(2))\n",
    "        f = float(match.group(3))\n",
    "        # print(f)\n",
    "        if theta==90 and phi % 30 != 0:\n",
    "            src_file_path = os.path.join(src_folder, file_name)\n",
    "            dest_file_path = os.path.join(dest_folder, file_name)\n",
    "            shutil.copy(src_file_path, dest_file_path)\n",
    "\n",
    "print(f\"目标文件夹中的文件数量：{len(os.listdir(r'/mnt/Disk/jiangxiaotian/datasets/b827_xiezhen_val'))}\")"
   ]
  },
  {
   "cell_type": "code",
   "execution_count": 6,
   "metadata": {},
   "outputs": [
    {
     "name": "stdout",
     "output_type": "stream",
     "text": [
      "目标文件夹中的文件数量：2212\n"
     ]
    }
   ],
   "source": [
    "import os\n",
    "import shutil\n",
    "import re\n",
    "\n",
    "src_folder = \"/mnt/Disk/jiangxiaotian/datasets/b827_xiezhen\"\n",
    "dest_folder = \"/mnt/Disk/jiangxiaotian/datasets/b827_xiezhen_val\"\n",
    "pattern = r\"RCSmap_theta(\\d+)phi(\\d+)f(\\d+\\.\\d+).pt\"\n",
    "\n",
    "files = os.listdir(src_folder)\n",
    "for file_name in files:\n",
    "    match = re.match(pattern, file_name)\n",
    "    if match:\n",
    "        theta = int(match.group(1))\n",
    "        phi = int(match.group(2))\n",
    "        f = float(match.group(3))\n",
    "        # print(f)\n",
    "        if theta==90:\n",
    "            src_file_path = os.path.join(src_folder, file_name)\n",
    "            dest_file_path = os.path.join(dest_folder, file_name)\n",
    "            shutil.move(src_file_path, dest_file_path)\n",
    "\n",
    "print(f\"目标文件夹中的文件数量：{len(os.listdir(r'/mnt/Disk/jiangxiaotian/datasets/b827_xiezhen_val'))}\")"
   ]
  },
  {
   "cell_type": "code",
   "execution_count": 7,
   "metadata": {},
   "outputs": [
    {
     "name": "stdout",
     "output_type": "stream",
     "text": [
      "目标文件夹大小：68627.12 MB 或 67.02 GB\n"
     ]
    }
   ],
   "source": [
    "import os\n",
    "dest_folder = \"/mnt/Disk/jiangxiaotian/datasets/b827_xiezhen\"\n",
    "total_size = 0\n",
    "\n",
    "for root, dirs, files in os.walk(dest_folder):\n",
    "    for file_name in files:\n",
    "        file_path = os.path.join(root, file_name)\n",
    "        total_size += os.path.getsize(file_path)\n",
    "\n",
    "total_size_mb = total_size / (1024 * 1024)  # 转换为 MB\n",
    "total_size_gb = total_size / (1024 * 1024 * 1024)  # 转换为 GB\n",
    "\n",
    "print(f\"目标文件夹大小：{total_size_mb:.2f} MB 或 {total_size_gb:.2f} GB\")"
   ]
  },
  {
   "cell_type": "code",
   "execution_count": 12,
   "metadata": {},
   "outputs": [
    {
     "name": "stdout",
     "output_type": "stream",
     "text": [
      "目标文件夹中的文件数量：13746\n"
     ]
    }
   ],
   "source": [
    "print(f\"目标文件夹中的文件数量：{len(os.listdir(r'/mnt/Disk/jiangxiaotian/datasets/b827_xiezhen'))}\")"
   ]
  },
  {
   "cell_type": "code",
   "execution_count": 15,
   "metadata": {},
   "outputs": [
    {
     "name": "stdout",
     "output_type": "stream",
     "text": [
      "目标文件夹大小：144943.11 MB 或 141.55 GB\n"
     ]
    }
   ],
   "source": [
    "import os\n",
    "dest_folder = \"/mnt/Disk/jiangxiaotian/datasets/b82731071bd39b66e4c15ad8a2edd2e\"\n",
    "total_size = 0\n",
    "\n",
    "for root, dirs, files in os.walk(dest_folder):\n",
    "    for file_name in files:\n",
    "        file_path = os.path.join(root, file_name)\n",
    "        total_size += os.path.getsize(file_path)\n",
    "\n",
    "total_size_mb = total_size / (1024 * 1024)  # 转换为 MB\n",
    "total_size_gb = total_size / (1024 * 1024 * 1024)  # 转换为 GB\n",
    "\n",
    "print(f\"目标文件夹大小：{total_size_mb:.2f} MB 或 {total_size_gb:.2f} GB\")"
   ]
  }
 ],
 "metadata": {
  "kernelspec": {
   "display_name": "jxtnet",
   "language": "python",
   "name": "python3"
  },
  "language_info": {
   "codemirror_mode": {
    "name": "ipython",
    "version": 3
   },
   "file_extension": ".py",
   "mimetype": "text/x-python",
   "name": "python",
   "nbconvert_exporter": "python",
   "pygments_lexer": "ipython3",
   "version": "3.9.19"
  }
 },
 "nbformat": 4,
 "nbformat_minor": 2
}
