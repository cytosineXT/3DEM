{
 "cells": [
  {
   "cell_type": "code",
   "execution_count": 32,
   "metadata": {},
   "outputs": [],
   "source": [
    "import math\n",
    "import torch\n",
    "def polar_to_cartesian(theta, phi):\n",
    "    x = math.sin(math.radians(phi)) * math.cos(math.radians(theta))\n",
    "    y = math.sin(math.radians(phi)) * math.sin(math.radians(theta))\n",
    "    z = math.cos(math.radians(phi))\n",
    "    return [x, y, z]"
   ]
  },
  {
   "cell_type": "code",
   "execution_count": 33,
   "metadata": {},
   "outputs": [
    {
     "name": "stdout",
     "output_type": "stream",
     "text": [
      "笛卡尔坐标: 0.7071067811865476 0.7071067811865475 6.123233995736766e-17\n",
      "1.0\n"
     ]
    }
   ],
   "source": [
    "# 示例输入\n",
    "theta = 45\n",
    "phi = 90\n",
    "\n",
    "# 转换为归一化的笛卡尔坐标\n",
    "[x, y, z] = polar_to_cartesian(theta, phi)\n",
    "print(\"笛卡尔坐标:\", x, y, z)\n",
    "print(x*x+y*y+z*z)"
   ]
  },
  {
   "cell_type": "code",
   "execution_count": 34,
   "metadata": {},
   "outputs": [
    {
     "name": "stdout",
     "output_type": "stream",
     "text": [
      "[0.7071067811865476, 0.7071067811865475, 6.123233995736766e-17]\n",
      "torch.Size([3])\n"
     ]
    }
   ],
   "source": [
    "in_em = [45,90,2] #\\theta, \\phi, ka\n",
    "incident_wave_vec = polar_to_cartesian(in_em[0],in_em[1])\n",
    "print(incident_wave_vec)\n",
    "print(torch.tensor(incident_wave_vec).shape)"
   ]
  },
  {
   "cell_type": "code",
   "execution_count": 35,
   "metadata": {},
   "outputs": [
    {
     "name": "stdout",
     "output_type": "stream",
     "text": [
      "torch.Size([1, 33564, 3])\n",
      "torch.Size([1, 33564, 3])\n",
      "tensor([[[7.0711e-01, 7.0711e-01, 6.1232e-17],\n",
      "         [7.0711e-01, 7.0711e-01, 6.1232e-17],\n",
      "         [7.0711e-01, 7.0711e-01, 6.1232e-17],\n",
      "         ...,\n",
      "         [7.0711e-01, 7.0711e-01, 6.1232e-17],\n",
      "         [7.0711e-01, 7.0711e-01, 6.1232e-17],\n",
      "         [7.0711e-01, 7.0711e-01, 6.1232e-17]]])\n"
     ]
    },
    {
     "data": {
      "text/plain": [
       "tensor([[[7.0711e-01, 7.0711e-01, 6.1232e-17],\n",
       "         [7.0711e-01, 7.0711e-01, 6.1232e-17],\n",
       "         [7.0711e-01, 7.0711e-01, 6.1232e-17],\n",
       "         ...,\n",
       "         [7.0711e-01, 7.0711e-01, 6.1232e-17],\n",
       "         [7.0711e-01, 7.0711e-01, 6.1232e-17],\n",
       "         [7.0711e-01, 7.0711e-01, 6.1232e-17]]])"
      ]
     },
     "execution_count": 35,
     "metadata": {},
     "output_type": "execute_result"
    }
   ],
   "source": [
    "# 指定新矩阵的大小\n",
    "new_size = [1, 33564 ,1]\n",
    "\n",
    "# 使用 torch.repeat() 函数复制矢量\n",
    "out = torch.tensor(incident_wave_vec).repeat(*new_size)\n",
    "\n",
    "print(out.size())  # 打印新矩阵的大小\n",
    "print(out.shape)\n",
    "print(out)\n",
    "\n",
    "torch.tensor(incident_wave_vec).repeat(new_size)"
   ]
  },
  {
   "cell_type": "code",
   "execution_count": 36,
   "metadata": {},
   "outputs": [
    {
     "name": "stdout",
     "output_type": "stream",
     "text": [
      "tensor([[[2],\n",
      "         [2],\n",
      "         [2],\n",
      "         ...,\n",
      "         [2],\n",
      "         [2],\n",
      "         [2]]])\n",
      "torch.Size([1, 33564, 1])\n"
     ]
    }
   ],
   "source": [
    "incident_freq_mtx = torch.tensor(in_em[2]).repeat(torch.Size([1, 33564, 1]))\n",
    "print(incident_freq_mtx)\n",
    "print(incident_freq_mtx.shape)"
   ]
  },
  {
   "cell_type": "code",
   "execution_count": 37,
   "metadata": {},
   "outputs": [],
   "source": [
    "\n",
    "from math import ceil, pi, sqrt, degrees\n",
    "import math\n",
    "\n",
    "import torch\n",
    "from torch import nn, Tensor, einsum\n",
    "from torch.nn import Module, ModuleList\n",
    "import torch.nn.functional as F\n",
    "from torch.utils.checkpoint import checkpoint\n",
    "from torch.cuda.amp import autocast\n",
    "\n",
    "from torchtyping import TensorType\n",
    "\n",
    "from pytorch_custom_utils import save_load\n",
    "\n",
    "from beartype import beartype\n",
    "from beartype.typing import Union, Tuple, Callable, Optional, List, Dict, Any\n",
    "\n",
    "from einops import rearrange, repeat, reduce, pack, unpack\n",
    "from einops.layers.torch import Rearrange\n",
    "\n",
    "from einx import get_at\n",
    "\n",
    "from x_transformers import Decoder\n",
    "from x_transformers.attend import Attend\n",
    "from x_transformers.x_transformers import RMSNorm, FeedForward, LayerIntermediates\n",
    "\n",
    "from x_transformers.autoregressive_wrapper import (\n",
    "    eval_decorator,\n",
    "    top_k,\n",
    "    top_p,\n",
    ")\n",
    "\n",
    "from local_attention import LocalMHA\n",
    "\n",
    "from vector_quantize_pytorch import (\n",
    "    ResidualVQ,\n",
    "    ResidualLFQ\n",
    ")\n",
    "\n",
    "from net.data import derive_face_edges_from_faces, myderive_face_edges_from_faces\n",
    "from net.version import __version__\n",
    "\n",
    "from taylor_series_linear_attention import TaylorSeriesLinearAttn\n",
    "\n",
    "from classifier_free_guidance_pytorch import (\n",
    "    classifier_free_guidance,\n",
    "    TextEmbeddingReturner\n",
    ")\n",
    "\n",
    "from torch_geometric.nn.conv import SAGEConv\n",
    "\n",
    "from gateloop_transformer import SimpleGateLoopLayer\n",
    "\n",
    "from tqdm import tqdm\n",
    "\n",
    "# helper functions\n",
    "\n",
    "def exists(v):\n",
    "    return v is not None\n",
    "\n",
    "def default(v, d):\n",
    "    return v if exists(v) else d\n",
    "\n",
    "def first(it):\n",
    "    return it[0]\n",
    "\n",
    "def divisible_by(num, den):\n",
    "    return (num % den) == 0\n",
    "\n",
    "def is_odd(n):\n",
    "    return not divisible_by(n, 2)\n",
    "\n",
    "def is_empty(l):\n",
    "    return len(l) == 0\n",
    "\n",
    "def is_tensor_empty(t: Tensor):\n",
    "    return t.numel() == 0\n",
    "\n",
    "def set_module_requires_grad_(\n",
    "    module: Module,\n",
    "    requires_grad: bool\n",
    "):\n",
    "    for param in module.parameters():\n",
    "        param.requires_grad = requires_grad\n",
    "\n",
    "def l1norm(t):\n",
    "    return F.normalize(t, dim = -1, p = 1)\n",
    "\n",
    "def l2norm(t):\n",
    "    return F.normalize(t, dim = -1, p = 2)\n",
    "\n",
    "def safe_cat(tensors, dim):\n",
    "    tensors = [*filter(exists, tensors)]\n",
    "\n",
    "    if len(tensors) == 0:\n",
    "        return None\n",
    "    elif len(tensors) == 1:\n",
    "        return first(tensors)\n",
    "\n",
    "    return torch.cat(tensors, dim = dim)\n",
    "\n",
    "def pad_at_dim(t, padding, dim = -1, value = 0):\n",
    "    ndim = t.ndim\n",
    "    right_dims = (ndim - dim - 1) if dim >= 0 else (-dim - 1)\n",
    "    zeros = (0, 0) * right_dims\n",
    "    return F.pad(t, (*zeros, *padding), value = value)\n",
    "\n",
    "def pad_to_length(t, length, dim = -1, value = 0, right = True):\n",
    "    curr_length = t.shape[dim]\n",
    "    remainder = length - curr_length\n",
    "\n",
    "    if remainder <= 0:\n",
    "        return t\n",
    "\n",
    "    padding = (0, remainder) if right else (remainder, 0)\n",
    "    return pad_at_dim(t, padding, dim = dim, value = value)\n",
    "\n"
   ]
  },
  {
   "cell_type": "code",
   "execution_count": 40,
   "metadata": {},
   "outputs": [],
   "source": [
    "def vector_anglejxt(x, y, eps = 1e-5): #给矢量\n",
    "    normdot = -torch.einsum('...d,...d->...', l2norm(x), l2norm(y)) \n",
    "    radians = normdot.clip(-1 + eps, 1 - eps).arccos()\n",
    "    angle = torch.tensor([[[degrees(row.item())] for row in matrix] for matrix in radians])\n",
    "    return radians, angle"
   ]
  },
  {
   "cell_type": "code",
   "execution_count": 41,
   "metadata": {},
   "outputs": [
    {
     "name": "stdout",
     "output_type": "stream",
     "text": [
      "tensor([[0.0908, 0.1697, 0.1863, 2.2097, 2.6636, 2.6839]])\n",
      "tensor([[[  5.2039],\n",
      "         [  9.7245],\n",
      "         [ 10.6765],\n",
      "         [126.6058],\n",
      "         [152.6118],\n",
      "         [153.7756]]])\n"
     ]
    }
   ],
   "source": [
    "normals = torch.tensor([[[-0.6752, -0.7332, -0.0809],\n",
    "         [-0.6926, -0.7013, -0.1688],\n",
    "         [-0.6796, -0.7101, -0.1840],\n",
    "         [ 0.9110, -0.0677,  0.4068],\n",
    "         [ 0.9522,  0.3035,  0.0348],\n",
    "         [ 0.9336,  0.3351,  0.1272]]])\n",
    "\n",
    "incident_angle_mtx = torch.tensor([[[7.0711e-01, 7.0711e-01, 6.1232e-17],\n",
    "         [7.0711e-01, 7.0711e-01, 6.1232e-17],\n",
    "         [7.0711e-01, 7.0711e-01, 6.1232e-17],\n",
    "         [7.0711e-01, 7.0711e-01, 6.1232e-17],\n",
    "         [7.0711e-01, 7.0711e-01, 6.1232e-17],\n",
    "         [7.0711e-01, 7.0711e-01, 6.1232e-17]]])\n",
    "\n",
    "incident_mesh_anglehudu, incident_mesh_anglejiaodu = vector_anglejxt(normals, incident_angle_mtx)\n",
    "print(incident_mesh_anglehudu)\n",
    "print(incident_mesh_anglejiaodu)"
   ]
  }
 ],
 "metadata": {
  "kernelspec": {
   "display_name": "meshg",
   "language": "python",
   "name": "python3"
  },
  "language_info": {
   "codemirror_mode": {
    "name": "ipython",
    "version": 3
   },
   "file_extension": ".py",
   "mimetype": "text/x-python",
   "name": "python",
   "nbconvert_exporter": "python",
   "pygments_lexer": "ipython3",
   "version": "3.9.19"
  }
 },
 "nbformat": 4,
 "nbformat_minor": 2
}
