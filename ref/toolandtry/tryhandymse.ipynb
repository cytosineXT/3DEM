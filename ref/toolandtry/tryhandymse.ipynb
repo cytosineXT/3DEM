{
 "cells": [
  {
   "cell_type": "code",
   "execution_count": 1,
   "metadata": {},
   "outputs": [
    {
     "name": "stdout",
     "output_type": "stream",
     "text": [
      "tensor(1.9985)\n"
     ]
    }
   ],
   "source": [
    "import torch\n",
    "\n",
    "# 假设 a 和 b 都是大小为 [361, 720] 的矩阵\n",
    "a = torch.randn(361, 720)  # 你可以根据实际情况初始化矩阵 a\n",
    "b = torch.randn(361, 720)  # 你可以根据实际情况初始化矩阵 b\n",
    "\n",
    "# 第一步：用矩阵运算求对应元素的差，得到同样大小的差矩阵 c\n",
    "c = a - b\n",
    "\n",
    "# 第二步：对 c 的每个元素求平方，得到 d\n",
    "d = c ** 2\n",
    "\n",
    "# 第三步：对 d 的每个元素求和并除以矩阵大小得到一个元素平均值\n",
    "mean_value = d.sum() / d.numel()\n",
    "\n",
    "print(mean_value)"
   ]
  }
 ],
 "metadata": {
  "kernelspec": {
   "display_name": "jxtnet",
   "language": "python",
   "name": "python3"
  },
  "language_info": {
   "codemirror_mode": {
    "name": "ipython",
    "version": 3
   },
   "file_extension": ".py",
   "mimetype": "text/x-python",
   "name": "python",
   "nbconvert_exporter": "python",
   "pygments_lexer": "ipython3",
   "version": "3.9.19"
  }
 },
 "nbformat": 4,
 "nbformat_minor": 2
}
