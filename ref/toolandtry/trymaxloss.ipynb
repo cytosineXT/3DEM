{
 "cells": [
  {
   "cell_type": "code",
   "execution_count": null,
   "metadata": {},
   "outputs": [
    {
     "name": "stdout",
     "output_type": "stream",
     "text": [
      "L1=0.3324,TV=0.6674,max=0.0003\n",
      "tensor(1.0001)\n"
     ]
    }
   ],
   "source": [
    "import torch\n",
    "import torch.nn as nn\n",
    "\n",
    "def total_variation(images):\n",
    "    ndims = images.dim()\n",
    "    if ndims == 3:\n",
    "        # The input is a single image with shape [height, width, channels].\n",
    "        # Calculate the difference of neighboring pixel-values.\n",
    "        pixel_dif1 = images[:, :, 1:] - images[:, :, :-1]\n",
    "        # pixel_dif1 = images[1:, :, :] - images[:-1, :, :] #改正了对batchsize做差分的错误。。。\n",
    "        pixel_dif2 = images[:, 1:, :] - images[:, :-1, :]\n",
    "        # Sum for all axis.\n",
    "        tot_var = torch.mean(torch.abs(pixel_dif1)) + torch.mean(torch.abs(pixel_dif2))\n",
    "        # tot_var = torch.sum(torch.abs(pixel_dif1)) + torch.sum(torch.abs(pixel_dif2))\n",
    "    elif ndims == 4:\n",
    "        # The input is a batch of images with shape: [batch, height, width, channels].\n",
    "        # Calculate the difference of neighboring pixel-values.\n",
    "        pixel_dif1 = images[:, :, :, 1:] - images[:, :, :, :-1]\n",
    "        pixel_dif2 = images[:, :, 1:, :] - images[:, :, :-1, :]\n",
    "        # Sum for the last 3 axes, resulting in a 1-D tensor with the total variation for each image.\n",
    "        tot_var = torch.mean(torch.abs(pixel_dif1), dim=(1, 2, 3)) + torch.mean(torch.abs(pixel_dif2), dim=(1, 2, 3))\n",
    "        # tot_var = torch.sum(torch.abs(pixel_dif1), dim=(1, 2, 3)) + torch.sum(torch.abs(pixel_dif2), dim=(1, 2, 3))\n",
    "    else:\n",
    "        raise ValueError(\"'images' must be either 3 or 4-dimensional.\")\n",
    "    return tot_var\n",
    "\n",
    "class MaxLoss(nn.Module):\n",
    "    def __init__(self, beta=1.0, gama=1.0):\n",
    "        super(MaxLoss, self).__init__()\n",
    "        # self.alpha = alpha\n",
    "        self.beta = beta\n",
    "        self.gama = gama\n",
    "\n",
    "    def forward(self, decoded, GT):\n",
    "        # Calculate the MSE loss\n",
    "        L1_loss = nn.L1Loss(reduction='mean')\n",
    "        # L1_loss = nn.MSELoss(reduction='mean')\n",
    "        # L1_loss = nn.L1Loss(reduction='sum')\n",
    "        loss_L1 = L1_loss(decoded, GT)\n",
    "        tvloss = total_variation(decoded)\n",
    "        maxloss = torch.mean(torch.abs(torch.amax(decoded, dim=(1, 2)) - torch.amax(GT, dim=(1, 2))))\n",
    "        # logger.info(f\" tvloss:{tvloss*self.beta:.4f}, L1loss:{loss_L1:.4f}\")\n",
    "        # print(f\"L1={loss_L1:.4f},TV={tvloss:.4f},max={maxloss:.4f}\")\n",
    "        total_loss = loss_L1 + tvloss * self.beta + maxloss * self.gama\n",
    "        \n",
    "        # print(f'l1loss:{loss_L1},tvloss:{tvloss},totalloss:{total_loss}')\n",
    "        return total_loss\n",
    "        # return loss_L1\n",
    "\n",
    "gt = torch.rand(10,36,72)\n",
    "decoded = torch.rand(10,36,72)\n",
    "loss = MaxLoss()\n",
    "print(loss(gt,decoded))\n"
   ]
  }
 ],
 "metadata": {
  "kernelspec": {
   "display_name": "jxtnett",
   "language": "python",
   "name": "python3"
  },
  "language_info": {
   "codemirror_mode": {
    "name": "ipython",
    "version": 3
   },
   "file_extension": ".py",
   "mimetype": "text/x-python",
   "name": "python",
   "nbconvert_exporter": "python",
   "pygments_lexer": "ipython3",
   "version": "3.9.19"
  }
 },
 "nbformat": 4,
 "nbformat_minor": 2
}
