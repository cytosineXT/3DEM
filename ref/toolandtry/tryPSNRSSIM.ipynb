{
 "cells": [
  {
   "cell_type": "code",
   "execution_count": 1,
   "metadata": {},
   "outputs": [
    {
     "name": "stdout",
     "output_type": "stream",
     "text": [
      "Mean SSIM: 0.9745087623596191\n",
      "Mean PSNR: 5.617281913757324\n"
     ]
    }
   ],
   "source": [
    "import torch\n",
    "import torch.nn.functional as F\n",
    "decoded = torch.load('decoded2.pt').cpu()\n",
    "gt = torch.load('gt2.pt').cpu()\n",
    "\n",
    "def ssim(img1, img2):\n",
    "    C1 = (0.01 * 255) ** 2\n",
    "    C2 = (0.03 * 255) ** 2\n",
    "\n",
    "    mu1 = img1.mean(dim=(1, 2), keepdim=True)\n",
    "    mu2 = img2.mean(dim=(1, 2), keepdim=True)\n",
    "    mu1_sq = mu1 ** 2\n",
    "    mu2_sq = mu2 ** 2\n",
    "    mu1_mu2 = mu1 * mu2\n",
    "\n",
    "    sigma1_sq = img1.var(dim=(1, 2), unbiased=False, keepdim=True)\n",
    "    sigma2_sq = img2.var(dim=(1, 2), unbiased=False, keepdim=True)\n",
    "    sigma12 = torch.mean(img1 * img2, dim=(1, 2), keepdim=True) - mu1_mu2\n",
    "\n",
    "    ssim_numerator = (2 * mu1_mu2 + C1) * (2 * sigma12 + C2)\n",
    "    ssim_denominator = (mu1_sq + mu2_sq + C1) * (sigma1_sq + sigma2_sq + C2)\n",
    "\n",
    "    ssim_score = ssim_numerator / ssim_denominator\n",
    "    return ssim_score\n",
    "\n",
    "def psnr(img1, img2):\n",
    "    mse = F.mse_loss(img1, img2)\n",
    "    psnr = 10 * torch.log10(1 / mse)\n",
    "    return psnr\n",
    "\n",
    "batch_size = gt.size(0)\n",
    "\n",
    "# 将gt和decoded转换为浮点数类型\n",
    "# gt = gt.float()\n",
    "# decoded = decoded.float()\n",
    "\n",
    "# 计算SSIM\n",
    "ssim_score = ssim(decoded, gt)\n",
    "# 计算平均SSIM\n",
    "mean_ssim = ssim_score.mean()\n",
    "\n",
    "# 计算PSNR\n",
    "psnr_score = psnr(decoded, gt)\n",
    "# 计算平均PSNR\n",
    "mean_psnr = psnr_score.mean()\n",
    "\n",
    "print(\"Mean SSIM:\", mean_ssim.item())\n",
    "print(\"Mean PSNR:\", mean_psnr.item())"
   ]
  },
  {
   "cell_type": "code",
   "execution_count": 7,
   "metadata": {},
   "outputs": [
    {
     "name": "stdout",
     "output_type": "stream",
     "text": [
      "size:torch.Size([2, 361, 720])\n",
      "PSNR:27.4316 , Mean PSNR:27.4316\n"
     ]
    }
   ],
   "source": [
    "import torch\n",
    "import torch.nn.functional as F\n",
    "decoded = torch.load('decoded2.pt').cpu()\n",
    "gt = torch.load('gt2.pt').cpu()\n",
    "\n",
    "def psnr(img1, img2):\n",
    "    mse = F.mse_loss(img1, img2)\n",
    "    gtmax = torch.max(gt)\n",
    "    demax = torch.max(decoded)\n",
    "    maxx = torch.max(gtmax,demax)\n",
    "    psnr = 10 * torch.log10(maxx*maxx / mse)\n",
    "    return psnr\n",
    "\n",
    "print(f'size:{gt.shape}')\n",
    "batch_size = gt.size(0)\n",
    "\n",
    "# 计算PSNR\n",
    "psnr_score = psnr(decoded, gt)\n",
    "# 计算平均PSNR\n",
    "mean_psnr = psnr_score.mean()\n",
    "\n",
    "# print(\"Mean SSIM:\", mean_ssim.item())\n",
    "print(f\"PSNR:{psnr_score:.4f} , Mean PSNR:{mean_psnr.item():.4f}\" )"
   ]
  },
  {
   "cell_type": "code",
   "execution_count": 14,
   "metadata": {},
   "outputs": [
    {
     "name": "stdout",
     "output_type": "stream",
     "text": [
      "size:torch.Size([2, 361, 720])\n",
      "batchsize:2\n",
      "PSNR of Image 1: 26.3136\n",
      "PSNR of Image 2: 28.9411\n",
      "Mean PSNR: 27.6273\n"
     ]
    }
   ],
   "source": [
    "import torch\n",
    "import torch.nn.functional as F\n",
    "\n",
    "decoded = torch.load('decoded2.pt').cpu()\n",
    "gt = torch.load('gt2.pt').cpu()\n",
    "\n",
    "def psnr(img1, img2):\n",
    "    mse = F.mse_loss(img1, img2, reduction='mean')\n",
    "    gtmax = torch.max(gt)\n",
    "    demax = torch.max(decoded)\n",
    "    maxx = torch.max(gtmax, demax)\n",
    "    psnr = 10 * torch.log10(maxx * maxx / mse)\n",
    "    return psnr\n",
    "    \n",
    "\n",
    "print(f'size:{gt.shape}')\n",
    "batch_size = gt.size(0)\n",
    "print(f'batchsize:{batch_size}')\n",
    "\n",
    "# 计算每张图像的PSNR\n",
    "psnr_scores = []\n",
    "for i in range(batch_size):\n",
    "    psnr_score = psnr(decoded[i], gt[i])\n",
    "    psnr_scores.append(psnr_score.item())\n",
    "\n",
    "# 计算平均PSNR\n",
    "mean_psnr = sum(psnr_scores) / batch_size\n",
    "\n",
    "# 输出每张图像的PSNR和平均PSNR\n",
    "for i in range(batch_size):\n",
    "    print(f\"PSNR of Image {i+1}: {psnr_scores[i]:.4f}\")\n",
    "print(f\"Mean PSNR: {mean_psnr:.4f}\")"
   ]
  },
  {
   "cell_type": "code",
   "execution_count": 17,
   "metadata": {},
   "outputs": [
    {
     "name": "stdout",
     "output_type": "stream",
     "text": [
      "size:torch.Size([2, 361, 720])\n",
      "torch.Size([2])\n",
      "PSNR: tensor([26.3136, 28.9411])\n",
      "Mean PSNR: 27.6273\n"
     ]
    }
   ],
   "source": [
    "import torch\n",
    "import torch.nn.functional as F\n",
    "\n",
    "decoded = torch.load('decoded2.pt').cpu()\n",
    "gt = torch.load('gt2.pt').cpu()\n",
    "\n",
    "def psnr(img1, img2):\n",
    "    mse = F.mse_loss(img1, img2, reduction='mean')\n",
    "    gtmax = torch.max(gt)\n",
    "    demax = torch.max(decoded)\n",
    "    maxx = torch.max(gtmax, demax)\n",
    "    psnr = 10 * torch.log10(maxx * maxx / mse)\n",
    "    return psnr\n",
    "    \n",
    "def batch_psnr(img1, img2):\n",
    "    batch_size = img1.size(0)\n",
    "    psnrlist=[]\n",
    "    for i in range(batch_size):\n",
    "        psnrr=psnr(img1[i],img2[i])\n",
    "        psnrlist.append(psnrr)\n",
    "    return torch.tensor(psnrlist)\n",
    "\n",
    "print(f'size:{gt.shape}')\n",
    "# 计算每张图像的PSNR\n",
    "psnr_score = batch_psnr(decoded, gt)\n",
    "print(psnr_score.shape)\n",
    "# 计算平均PSNR\n",
    "mean_psnr = sum(psnr_score) / batch_size\n",
    "\n",
    "# 输出每张图像的PSNR和平均PSNR\n",
    "\n",
    "print(f\"PSNR: {psnr_score}\")\n",
    "print(f\"Mean PSNR: {mean_psnr:.4f}\")"
   ]
  },
  {
   "cell_type": "code",
   "execution_count": 35,
   "metadata": {},
   "outputs": [
    {
     "name": "stdout",
     "output_type": "stream",
     "text": [
      "size:torch.Size([2, 361, 720])\n",
      "torch.Size([2])\n",
      "PSNR: tensor([ 9.5015, 28.9411])\n",
      "Mean PSNR: 19.2213\n"
     ]
    }
   ],
   "source": [
    "import torch\n",
    "import torch.nn.functional as F\n",
    "\n",
    "decoded = torch.load('decoded2.pt').cpu() #decoded.shape=torch.size([2,361,720])\n",
    "# decoded=decoded[0].unsqueeze(0)\n",
    "gt = torch.load('gt2.pt').cpu() #gt.shape=torch.size([2,361,720])\n",
    "# gt = gt[0].unsqueeze(0)\n",
    "\n",
    "def psnr(img1, img2):\n",
    "    mse = F.mse_loss(img1, img2, reduction='mean') #0.3549\n",
    "    gtmax = torch.max(img1)\n",
    "    demax = torch.max(img2) #1.7787\n",
    "    maxx = torch.max(gtmax, demax)\n",
    "    psnr = 10 * torch.log10(maxx * maxx / mse)\n",
    "    return psnr\n",
    "    \n",
    "def batch_psnr(img1, img2):\n",
    "    batch_size = img1.size(0)\n",
    "    psnrlist=[]\n",
    "    for i in range(batch_size):\n",
    "        psnrr=psnr(img1[i],img2[i])\n",
    "        psnrlist.append(psnrr)\n",
    "    return torch.tensor(psnrlist)\n",
    "\n",
    "print(f'gt.shape:{gt.shape}')\n",
    "psnr_score = batch_psnr(decoded, gt)# 计算每张图像的PSNR\n",
    "print(f'pscr.shape:{psnr_score.shape}')\n",
    "mean_psnr = sum(psnr_score) / psnr_score.__len__()# 计算平均PSNR\n",
    "\n",
    "print(f\"PSNR: {psnr_score}\")\n",
    "print(f\"Mean PSNR: {mean_psnr:.4f}\")"
   ]
  },
  {
   "cell_type": "code",
   "execution_count": 40,
   "metadata": {},
   "outputs": [
    {
     "name": "stdout",
     "output_type": "stream",
     "text": [
      "gt.shape: torch.Size([2, 1, 361, 720])\n",
      "ssim_score.shape: torch.Size([2])\n",
      "SSIM: tensor([0.4359, 0.7177])\n",
      "Mean SSIM: 0.5768\n"
     ]
    }
   ],
   "source": [
    "import torch\n",
    "import torch.nn.functional as F\n",
    "\n",
    "decoded = torch.load('decoded2.pt').cpu() # decoded.shape=torch.Size([2, 361, 720])\n",
    "gt = torch.load('gt2.pt').cpu() # gt.shape=torch.Size([2, 361, 720])\n",
    "\n",
    "def ssim(img1, img2, window_size=11, size_average=True):\n",
    "    gtmax = torch.max(img1)\n",
    "    demax = torch.max(img2) #1.7787\n",
    "    maxx = torch.max(gtmax, demax)\n",
    "    C1 = (0.01 * maxx) ** 2\n",
    "    C2 = (0.03 * maxx) ** 2\n",
    "\n",
    "    def gaussian(window_size, sigma):\n",
    "        gauss = torch.exp(-(torch.arange(window_size) - window_size // 2) ** 2 / (2 * sigma ** 2))\n",
    "        return gauss / gauss.sum()\n",
    "\n",
    "    def create_window(window_size, channel):\n",
    "        _1D_window = gaussian(window_size, 1.5).unsqueeze(1)\n",
    "        _2D_window = _1D_window.mm(_1D_window.t()).float().unsqueeze(0).unsqueeze(0)\n",
    "        window = _2D_window.expand(channel, 1, window_size, window_size).contiguous()\n",
    "        return window\n",
    "\n",
    "    channel = img1.size(0)\n",
    "    window = create_window(window_size, channel).to(img1.device)\n",
    "\n",
    "    mu1 = F.conv2d(img1, window, padding=window_size//2, groups=channel)\n",
    "    mu2 = F.conv2d(img2, window, padding=window_size//2, groups=channel)\n",
    "\n",
    "    mu1_sq = mu1.pow(2)\n",
    "    mu2_sq = mu2.pow(2)\n",
    "    mu1_mu2 = mu1 * mu2\n",
    "\n",
    "    sigma1_sq = F.conv2d(img1 * img1, window, padding=window_size//2, groups=channel) - mu1_sq\n",
    "    sigma2_sq = F.conv2d(img2 * img2, window, padding=window_size//2, groups=channel) - mu2_sq\n",
    "    sigma12 = F.conv2d(img1 * img2, window, padding=window_size//2, groups=channel) - mu1_mu2\n",
    "\n",
    "    ssim_map = ((2 * mu1_mu2 + C1) * (2 * sigma12 + C2)) / ((mu1_sq + mu2_sq + C1) * (sigma1_sq + sigma2_sq + C2))\n",
    "\n",
    "    if size_average:\n",
    "        return ssim_map.mean()\n",
    "    else:\n",
    "        return ssim_map.mean(1).mean(1).mean(1)\n",
    "\n",
    "def batch_ssim(img1, img2):\n",
    "    batch_size = img1.size(0)\n",
    "    ssim_list = []\n",
    "    for i in range(batch_size):\n",
    "        ssim_val = ssim(img1[i].unsqueeze(0), img2[i].unsqueeze(0))\n",
    "        ssim_list.append(ssim_val)\n",
    "    return torch.tensor(ssim_list)\n",
    "\n",
    "decoded = decoded.unsqueeze(1)  # [batch_size, 1, height, width]\n",
    "gt = gt.unsqueeze(1)  # [batch_size, 1, height, width]\n",
    "\n",
    "print(f'gt.shape: {gt.shape}')\n",
    "ssim_score = batch_ssim(decoded, gt) # 计算每张图像的SSIM\n",
    "print(f'ssim_score.shape: {ssim_score.shape}')\n",
    "mean_ssim = ssim_score.mean() # 计算平均SSIM\n",
    "\n",
    "print(f\"SSIM: {ssim_score}\")\n",
    "print(f\"Mean SSIM: {mean_ssim:.4f}\")"
   ]
  },
  {
   "cell_type": "code",
   "execution_count": 42,
   "metadata": {},
   "outputs": [
    {
     "name": "stdout",
     "output_type": "stream",
     "text": [
      "gt.shape: torch.Size([2, 361, 720])\n",
      "ssim_score.shape: torch.Size([2])\n",
      "SSIM: tensor([0.4359, 0.7177])\n",
      "Mean SSIM: 0.5768\n"
     ]
    }
   ],
   "source": [
    "import torch\n",
    "import torch.nn.functional as F\n",
    "\n",
    "decoded = torch.load('decoded2.pt').cpu() # decoded.shape=torch.Size([2, 361, 720])\n",
    "gt = torch.load('gt2.pt').cpu() # gt.shape=torch.Size([2, 361, 720])\n",
    "\n",
    "def ssim(img1, img2, window_size=11, size_average=False):\n",
    "    img1 = img1.unsqueeze(1) # [batch_size, 1, height, width]\n",
    "    img2 = img2.unsqueeze(1) # [batch_size, 1, height, width]\n",
    "    gtmax = torch.max(img1)\n",
    "    demax = torch.max(img2) #1.7787\n",
    "    maxx = torch.max(gtmax, demax)\n",
    "    C1 = (0.01 * maxx) ** 2\n",
    "    C2 = (0.03 * maxx) ** 2\n",
    "\n",
    "    def gaussian(window_size, sigma):\n",
    "        gauss = torch.exp(-(torch.arange(window_size) - window_size // 2) ** 2 / (2 * sigma ** 2))\n",
    "        return gauss / gauss.sum()\n",
    "\n",
    "    def create_window(window_size, channel):\n",
    "        _1D_window = gaussian(window_size, 1.5).unsqueeze(1)\n",
    "        _2D_window = _1D_window.mm(_1D_window.t()).float().unsqueeze(0).unsqueeze(0)\n",
    "        window = _2D_window.expand(channel, 1, window_size, window_size).contiguous()\n",
    "        return window\n",
    "\n",
    "    channel = img1.size(0)\n",
    "    window = create_window(window_size, channel).to(img1.device)\n",
    "\n",
    "    mu1 = F.conv2d(img1, window, padding=window_size//2, groups=channel)\n",
    "    mu2 = F.conv2d(img2, window, padding=window_size//2, groups=channel)\n",
    "\n",
    "    mu1_sq = mu1.pow(2)\n",
    "    mu2_sq = mu2.pow(2)\n",
    "    mu1_mu2 = mu1 * mu2\n",
    "\n",
    "    sigma1_sq = F.conv2d(img1 * img1, window, padding=window_size//2, groups=channel) - mu1_sq\n",
    "    sigma2_sq = F.conv2d(img2 * img2, window, padding=window_size//2, groups=channel) - mu2_sq\n",
    "    sigma12 = F.conv2d(img1 * img2, window, padding=window_size//2, groups=channel) - mu1_mu2\n",
    "\n",
    "    ssim_map = ((2 * mu1_mu2 + C1) * (2 * sigma12 + C2)) / ((mu1_sq + mu2_sq + C1) * (sigma1_sq + sigma2_sq + C2))\n",
    "\n",
    "    if size_average:\n",
    "        return ssim_map.mean()\n",
    "    else:\n",
    "        return ssim_map.mean(1).mean(1).mean(1)\n",
    "\n",
    "def batch_ssim(img1, img2):\n",
    "    batch_size = img1.size(0)\n",
    "    ssim_list = []\n",
    "    for i in range(batch_size):\n",
    "        ssim_val = ssim(img1[i].unsqueeze(0), img2[i].unsqueeze(0))\n",
    "        ssim_list.append(ssim_val)\n",
    "    return torch.tensor(ssim_list)\n",
    "\n",
    "# decoded = decoded.unsqueeze(1)  # [batch_size, 1, height, width]\n",
    "# gt = gt.unsqueeze(1)  # [batch_size, 1, height, width]\n",
    "\n",
    "print(f'gt.shape: {gt.shape}')\n",
    "ssim_score = batch_ssim(decoded, gt) # 计算每张图像的SSIM\n",
    "print(f'ssim_score.shape: {ssim_score.shape}')\n",
    "mean_ssim = ssim_score.mean() # 计算平均SSIM\n",
    "\n",
    "print(f\"SSIM: {ssim_score}\")\n",
    "print(f\"Mean SSIM: {mean_ssim:.4f}\")"
   ]
  },
  {
   "cell_type": "code",
   "execution_count": 1,
   "metadata": {},
   "outputs": [
    {
     "data": {
      "text/plain": [
       "0.55"
      ]
     },
     "execution_count": 1,
     "metadata": {},
     "output_type": "execute_result"
    }
   ],
   "source": [
    "a=[0.1,1]\n",
    "sum(a)/len(a)"
   ]
  }
 ],
 "metadata": {
  "kernelspec": {
   "display_name": "jxtnet",
   "language": "python",
   "name": "python3"
  },
  "language_info": {
   "codemirror_mode": {
    "name": "ipython",
    "version": 3
   },
   "file_extension": ".py",
   "mimetype": "text/x-python",
   "name": "python",
   "nbconvert_exporter": "python",
   "pygments_lexer": "ipython3",
   "version": "3.9.19"
  }
 },
 "nbformat": 4,
 "nbformat_minor": 2
}
