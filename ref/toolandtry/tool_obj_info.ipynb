{
 "cells": [
  {
   "cell_type": "code",
   "execution_count": 2,
   "metadata": {},
   "outputs": [
    {
     "name": "stdout",
     "output_type": "stream",
     "text": [
      "物体：b943， scale：1.2536，表面积：0.4471， 体积：0.0067， verts(8134, 3)， faces(16272, 3)\n",
      "物体：baa9， scale：1.2724，表面积：0.4908， 体积：0.0076， verts(8630, 3)， faces(17264, 3)\n",
      "物体：bb26， scale：1.1701，表面积：0.2665， 体积：0.0025， verts(5022, 3)， faces(10040, 3)\n",
      "物体：bb7c， scale：1.2769，表面积：0.4452， 体积：0.0066， verts(7994, 3)， faces(15984, 3)\n",
      "物体：bb7d， scale：1.1346，表面积：0.6574， 体积：0.0098， verts(10656, 3)， faces(21308, 3)\n",
      "物体：bc2c， scale：1.1159，表面积：0.5144， 体积：0.0080， verts(9316, 3)， faces(18632, 3)\n",
      "物体：ba0f， scale：1.2609，表面积：0.5295， 体积：0.0077， verts(8518, 3)， faces(17032, 3)\n",
      "物体：bbc6， scale：1.2736，表面积：0.6269， 体积：0.0103， verts(11222, 3)， faces(22448, 3)\n",
      "物体：b827， scale：1.3119，表面积：0.5884， 体积：0.0101， verts(10400, 3)， faces(20804, 3)\n",
      "物体：b979， scale：1.1175，表面积：0.3554， 体积：0.0053， verts(6218, 3)， faces(12432, 3)\n",
      "物体：b7fd， scale：1.1942，表面积：0.3755， 体积：0.0050， verts(6500, 3)， faces(12996, 3)\n"
     ]
    }
   ],
   "source": [
    "import trimesh\n",
    "import os\n",
    "import glob\n",
    "import torch\n",
    "# from data.datautils import save_mesh\n",
    "\n",
    "folder_path = r'./../planes/all'\n",
    "# folder_path = r'./planes/all'\n",
    "file_pattern = os.path.join(folder_path, '*.obj')\n",
    "file_list = glob.glob(file_pattern)\n",
    "\n",
    "for file_path in file_list:\n",
    "    filename = os.path.basename(file_path)[:4]\n",
    "    mesh = trimesh.load_mesh(file_path)\n",
    "    surface_area = mesh.area\n",
    "    volume = mesh.volume\n",
    "    scale = mesh.scale\n",
    "    print(f\"物体：{filename}， scale：{scale:.4f}，表面积：{surface_area:.4f}， 体积：{volume:.4f}， verts{mesh.vertices.shape}， faces{mesh.faces.shape}\")\n",
    "    # if filename == 'b827':\n",
    "    #     b827new_face = mesh.faces\n",
    "    #     b827new_vert = mesh.vertices\n",
    "        # torch.save(b827new_face, 'b827objface.pt')\n",
    "        # torch.save(b827new_vert,'b827objvert.pt')"
   ]
  },
  {
   "cell_type": "code",
   "execution_count": 2,
   "metadata": {},
   "outputs": [
    {
     "name": "stdout",
     "output_type": "stream",
     "text": [
      "scale：1.3119\n",
      "包包点距离：1.3119\n",
      "表面积：0.5884\n",
      "体积：0.0101\n"
     ]
    }
   ],
   "source": [
    "import trimesh\n",
    "import numpy as np\n",
    "\n",
    "mesh = trimesh.load_mesh('./planes/all/b82731071bd39b66e4c15ad8a2edd2e.obj')\n",
    "surface_area = mesh.area\n",
    "volume = mesh.volume\n",
    "scale = mesh.scale\n",
    "# 获取包围盒的最小和最大顶点\n",
    "min_bound, max_bound = mesh.bounds\n",
    "# 计算最远的两点之间的距离\n",
    "max_distance = np.linalg.norm(max_bound - min_bound)\n",
    "\n",
    "print(f\"scale：{scale:.4f}\")\n",
    "print(f\"包包点距离：{max_distance:.4f}\")\n",
    "print(f\"表面积：{surface_area:.4f}\")\n",
    "print(f\"体积：{volume:.4f}\")"
   ]
  },
  {
   "cell_type": "code",
   "execution_count": null,
   "metadata": {},
   "outputs": [],
   "source": [
    "import trimesh\n",
    "import os\n",
    "import glob\n",
    "\n",
    "folder_path = r'D:\\workspace\\jxtnet\\datasets'\n",
    "file_pattern = os.path.join(folder_path, '*.obj')\n",
    "file_list = glob.glob(file_pattern)\n",
    "\n",
    "for file_path in file_list:\n",
    "    mesh = trimesh.load_mesh(file_path)\n",
    "    surface_area = mesh.area\n",
    "    volume = mesh.volume\n",
    "    filename = os.path.basename(file_path)[:4]\n",
    "    print(f\"物体：{filename}， 表面积：{surface_area:.4f}， 体积：{volume:.4f}\")"
   ]
  },
  {
   "cell_type": "code",
   "execution_count": null,
   "metadata": {},
   "outputs": [],
   "source": [
    "'''\n",
    "物体：b827， 表面积：0.5884， 体积：0.0101， 长0.89， 宽0.89， 0.033开始\n",
    "物体：b943， 表面积：0.4471， 体积：0.0067， 长0.84， 宽0.84， 0.050开始\n",
    "物体：b7fd， 表面积：0.3755， 体积：0.0050， 长0.90， 宽0.75， 0.044开始\n",
    "物体：b979， 表面积：0.3554， 体积：0.0053， 长0.76， 宽0.63， 0.066开始\n",
    "'''"
   ]
  },
  {
   "cell_type": "code",
   "execution_count": 5,
   "metadata": {},
   "outputs": [
    {
     "name": "stdout",
     "output_type": "stream",
     "text": [
      "物体：b7fd， 表面积：0.3755， 体积：0.0050， verts(6500, 3)， faces(12996, 3)\n",
      "物体：b827， 表面积：0.5884， 体积：0.0101， verts(10400, 3)， faces(20804, 3)\n",
      "物体：b943， 表面积：0.4471， 体积：0.0067， verts(8134, 3)， faces(16272, 3)\n",
      "物体：b979， 表面积：0.3554， 体积：0.0053， verts(6218, 3)， faces(12432, 3)\n"
     ]
    }
   ],
   "source": [
    "import trimesh\n",
    "import os\n",
    "import glob\n",
    "import torch\n",
    "from data.datautils import save_mesh\n",
    "\n",
    "folder_path = r'D:\\workspace\\jxtnet\\datasets'\n",
    "file_pattern = os.path.join(folder_path, '*.obj')\n",
    "file_list = glob.glob(file_pattern)\n",
    "\n",
    "for file_path in file_list:\n",
    "    filename = os.path.basename(file_path)[:4]\n",
    "    mesh = trimesh.load_mesh(file_path)\n",
    "    surface_area = mesh.area\n",
    "    volume = mesh.volume\n",
    "    print(f\"物体：{filename}， 表面积：{surface_area:.4f}， 体积：{volume:.4f}， verts{mesh.vertices.shape}， faces{mesh.faces.shape}\")\n",
    "    if filename == 'b827':\n",
    "        b827new_face = mesh.faces\n",
    "        b827new_vert = mesh.vertices\n",
    "        torch.save(b827new_face, 'b827objface.pt')\n",
    "        torch.save(b827new_vert,'b827objvert.pt')"
   ]
  },
  {
   "cell_type": "code",
   "execution_count": 2,
   "metadata": {},
   "outputs": [
    {
     "name": "stdout",
     "output_type": "stream",
     "text": [
      "物体：b943， 表面积：0.4471， 体积：0.0067， verts(8134, 3)， faces(16272, 3)\n",
      "物体：baa9， 表面积：0.4908， 体积：0.0076， verts(8630, 3)， faces(17264, 3)\n",
      "物体：bb26， 表面积：0.2665， 体积：0.0025， verts(5022, 3)， faces(10040, 3)\n",
      "物体：bb7c， 表面积：0.4452， 体积：0.0066， verts(7994, 3)， faces(15984, 3)\n",
      "物体：bb7d， 表面积：0.6574， 体积：0.0098， verts(10656, 3)， faces(21308, 3)\n",
      "物体：bc2c， 表面积：0.5144， 体积：0.0080， verts(9316, 3)， faces(18632, 3)\n",
      "物体：ba0f， 表面积：0.5295， 体积：0.0077， verts(8518, 3)， faces(17032, 3)\n",
      "物体：bbc6， 表面积：0.6269， 体积：0.0103， verts(11222, 3)， faces(22448, 3)\n",
      "物体：b827， 表面积：0.5884， 体积：0.0101， verts(10400, 3)， faces(20804, 3)\n",
      "物体：b979， 表面积：0.3554， 体积：0.0053， verts(6218, 3)， faces(12432, 3)\n",
      "物体：b7fd， 表面积：0.3755， 体积：0.0050， verts(6500, 3)， faces(12996, 3)\n"
     ]
    }
   ],
   "source": [
    "import trimesh\n",
    "import os\n",
    "import glob\n",
    "import torch\n",
    "# from data.datautils import save_mesh\n",
    "\n",
    "folder_path = r'/home/ljm/workspace/jxt/jxtnet/datasets/all'\n",
    "file_pattern = os.path.join(folder_path, '*.obj')\n",
    "file_list = glob.glob(file_pattern)\n",
    "\n",
    "for file_path in file_list:\n",
    "    filename = os.path.basename(file_path)[:4]\n",
    "    mesh = trimesh.load_mesh(file_path)\n",
    "    surface_area = mesh.area\n",
    "    volume = mesh.volume\n",
    "    print(f\"物体：{filename}， 表面积：{surface_area:.4f}， 体积：{volume:.4f}， verts{mesh.vertices.shape}， faces{mesh.faces.shape}\")\n",
    "    if filename == 'b827':\n",
    "        b827new_face = mesh.faces\n",
    "        b827new_vert = mesh.vertices\n",
    "        torch.save(b827new_face, 'b827objface.pt')\n",
    "        torch.save(b827new_vert,'b827objvert.pt')"
   ]
  },
  {
   "cell_type": "code",
   "execution_count": 6,
   "metadata": {},
   "outputs": [
    {
     "name": "stdout",
     "output_type": "stream",
     "text": [
      "b827, vert torch.Size([1, 16784, 3]), face torch.Size([1, 33564, 3])\n"
     ]
    }
   ],
   "source": [
    "b827_face = torch.load('planesur_face.pt')\n",
    "b827_vert = torch.load('planesur_vert.pt')\n",
    "print(f'b827, vert {b827_vert.shape}, face {b827_face.shape}')"
   ]
  },
  {
   "cell_type": "code",
   "execution_count": 8,
   "metadata": {},
   "outputs": [
    {
     "name": "stdout",
     "output_type": "stream",
     "text": [
      "ptb827.obj已保存\n"
     ]
    }
   ],
   "source": [
    "save_dir = r'D:\\workspace\\jxtnet\\finddif\\ptb827.obj'\n",
    "save_mesh(b827_vert.squeeze().numpy(), b827_face.squeeze().numpy(), save_dir)\n",
    "print('ptb827.obj已保存')"
   ]
  },
  {
   "cell_type": "code",
   "execution_count": 10,
   "metadata": {},
   "outputs": [
    {
     "name": "stdout",
     "output_type": "stream",
     "text": [
      "物体：b979， 表面积：0.9396， 体积：0.0339， verts(16784, 3)， faces(33564, 3)\n"
     ]
    }
   ],
   "source": [
    "obj_path = r'D:\\workspace\\jxtnet\\finddif\\ptb827.obj'\n",
    "\n",
    "mesh2 = trimesh.load_mesh(obj_path)\n",
    "surface_area = mesh2.area\n",
    "volume = mesh2.volume\n",
    "print(f\"物体：{filename}， 表面积：{surface_area:.4f}， 体积：{volume:.4f}， verts{mesh2.vertices.shape}， faces{mesh2.faces.shape}\")"
   ]
  },
  {
   "cell_type": "code",
   "execution_count": 11,
   "metadata": {},
   "outputs": [
    {
     "name": "stdout",
     "output_type": "stream",
     "text": [
      "torch.Size([1, 134256, 2])\n"
     ]
    }
   ],
   "source": [
    "edge0 = torch.load('face_edges.pt')\n",
    "print(edge0.shape)"
   ]
  },
  {
   "cell_type": "code",
   "execution_count": 12,
   "metadata": {},
   "outputs": [
    {
     "name": "stdout",
     "output_type": "stream",
     "text": [
      "torch.Size([1, 12996, 12996, 2])\n"
     ]
    }
   ],
   "source": [
    "edge1 = torch.load('b827_edges.pt')\n",
    "print(edge1.shape)"
   ]
  },
  {
   "cell_type": "code",
   "execution_count": 16,
   "metadata": {},
   "outputs": [
    {
     "name": "stdout",
     "output_type": "stream",
     "text": [
      "torch.Size([1, 83216, 2])\n"
     ]
    }
   ],
   "source": [
    "edge2 = torch.load('b827_edges.pt')\n",
    "print(edge2.shape)"
   ]
  }
 ],
 "metadata": {
  "kernelspec": {
   "display_name": "jxtnet",
   "language": "python",
   "name": "python3"
  },
  "language_info": {
   "codemirror_mode": {
    "name": "ipython",
    "version": 3
   },
   "file_extension": ".py",
   "mimetype": "text/x-python",
   "name": "python",
   "nbconvert_exporter": "python",
   "pygments_lexer": "ipython3",
   "version": "3.9.19"
  }
 },
 "nbformat": 4,
 "nbformat_minor": 2
}
