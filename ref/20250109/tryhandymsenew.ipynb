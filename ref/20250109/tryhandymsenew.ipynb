{
 "cells": [
  {
   "cell_type": "code",
   "execution_count": 1,
   "metadata": {},
   "outputs": [
    {
     "name": "stdout",
     "output_type": "stream",
     "text": [
      "torch.Size([2, 361, 720])\n",
      "tensor(0.0212, device='cuda:0', grad_fn=<DivBackward0>)\n",
      "torch.Size([2, 361, 720, 1])\n"
     ]
    },
    {
     "ename": "ValueError",
     "evalue": "Input images should be 4-d or 5-d tensors, but got torch.Size([2, 361, 720])",
     "output_type": "error",
     "traceback": [
      "\u001b[0;31m---------------------------------------------------------------------------\u001b[0m",
      "\u001b[0;31mValueError\u001b[0m                                Traceback (most recent call last)",
      "Cell \u001b[0;32mIn[1], line 16\u001b[0m\n\u001b[1;32m     14\u001b[0m \u001b[38;5;28mprint\u001b[39m(X\u001b[38;5;241m.\u001b[39mshape)\n\u001b[1;32m     15\u001b[0m Y\u001b[38;5;241m=\u001b[39mb\u001b[38;5;241m.\u001b[39munsqueeze(\u001b[38;5;241m-\u001b[39m\u001b[38;5;241m1\u001b[39m)\n\u001b[0;32m---> 16\u001b[0m ssim_val \u001b[38;5;241m=\u001b[39m \u001b[43mssim\u001b[49m\u001b[43m(\u001b[49m\u001b[43m \u001b[49m\u001b[43mX\u001b[49m\u001b[43m,\u001b[49m\u001b[43m \u001b[49m\u001b[43mY\u001b[49m\u001b[43m,\u001b[49m\u001b[43m \u001b[49m\u001b[43mdata_range\u001b[49m\u001b[38;5;241;43m=\u001b[39;49m\u001b[43mtorch\u001b[49m\u001b[38;5;241;43m.\u001b[39;49m\u001b[43mmax\u001b[49m\u001b[43m(\u001b[49m\u001b[43mX\u001b[49m\u001b[43m,\u001b[49m\u001b[43mY\u001b[49m\u001b[43m)\u001b[49m\u001b[43m,\u001b[49m\u001b[43m \u001b[49m\u001b[43msize_average\u001b[49m\u001b[38;5;241;43m=\u001b[39;49m\u001b[38;5;28;43;01mFalse\u001b[39;49;00m\u001b[43m)\u001b[49m \u001b[38;5;66;03m# return (N,)\u001b[39;00m\n\u001b[1;32m     17\u001b[0m ms_ssim_val \u001b[38;5;241m=\u001b[39m ms_ssim( X, Y, data_range\u001b[38;5;241m=\u001b[39mtorch\u001b[38;5;241m.\u001b[39mmax(X,Y), size_average\u001b[38;5;241m=\u001b[39m\u001b[38;5;28;01mFalse\u001b[39;00m ) \u001b[38;5;66;03m#(N,)\u001b[39;00m\n\u001b[1;32m     18\u001b[0m \u001b[38;5;66;03m# set 'size_average=True' to get a scalar value as loss. see tests/tests_loss.py for more details\u001b[39;00m\n\u001b[1;32m     19\u001b[0m \u001b[38;5;66;03m# ssim_loss = 1 - ssim( X, Y, data_range=torch.max(X,Y), size_average=True) # return a scalar\u001b[39;00m\n\u001b[1;32m     20\u001b[0m \u001b[38;5;66;03m# ms_ssim_loss = 1 - ms_ssim( X, Y, data_range=torch.max(X,Y), size_average=True )\u001b[39;00m\n\u001b[1;32m     21\u001b[0m \n\u001b[1;32m     22\u001b[0m \u001b[38;5;66;03m# reuse the gaussian kernel with SSIM & MS_SSIM. 复用高斯核，这样就可训练了！\u001b[39;00m\n",
      "File \u001b[0;32m~/anaconda3/envs/jxtnet/lib/python3.9/site-packages/pytorch_msssim/ssim.py:139\u001b[0m, in \u001b[0;36mssim\u001b[0;34m(X, Y, data_range, size_average, win_size, win_sigma, win, K, nonnegative_ssim)\u001b[0m\n\u001b[1;32m    136\u001b[0m     Y \u001b[38;5;241m=\u001b[39m Y\u001b[38;5;241m.\u001b[39msqueeze(dim\u001b[38;5;241m=\u001b[39md)\n\u001b[1;32m    138\u001b[0m \u001b[38;5;28;01mif\u001b[39;00m \u001b[38;5;28mlen\u001b[39m(X\u001b[38;5;241m.\u001b[39mshape) \u001b[38;5;129;01mnot\u001b[39;00m \u001b[38;5;129;01min\u001b[39;00m (\u001b[38;5;241m4\u001b[39m, \u001b[38;5;241m5\u001b[39m):\n\u001b[0;32m--> 139\u001b[0m     \u001b[38;5;28;01mraise\u001b[39;00m \u001b[38;5;167;01mValueError\u001b[39;00m(\u001b[38;5;124mf\u001b[39m\u001b[38;5;124m\"\u001b[39m\u001b[38;5;124mInput images should be 4-d or 5-d tensors, but got \u001b[39m\u001b[38;5;132;01m{\u001b[39;00mX\u001b[38;5;241m.\u001b[39mshape\u001b[38;5;132;01m}\u001b[39;00m\u001b[38;5;124m\"\u001b[39m)\n\u001b[1;32m    141\u001b[0m \u001b[38;5;66;03m#if not X.type() == Y.type():\u001b[39;00m\n\u001b[1;32m    142\u001b[0m \u001b[38;5;66;03m#    raise ValueError(f\"Input images should have the same dtype, but got {X.type()} and {Y.type()}.\")\u001b[39;00m\n\u001b[1;32m    144\u001b[0m \u001b[38;5;28;01mif\u001b[39;00m win \u001b[38;5;129;01mis\u001b[39;00m \u001b[38;5;129;01mnot\u001b[39;00m \u001b[38;5;28;01mNone\u001b[39;00m:  \u001b[38;5;66;03m# set win_size\u001b[39;00m\n",
      "\u001b[0;31mValueError\u001b[0m: Input images should be 4-d or 5-d tensors, but got torch.Size([2, 361, 720])"
     ]
    }
   ],
   "source": [
    "import torch\n",
    "from pytorch_msssim import ms_ssim, ssim, SSIM, MS_SSIM\n",
    "\n",
    "a = torch.load('ref/decoded.pt')  # 你可以根据实际情况初始化矩阵 a\n",
    "b = torch.load('ref/gt.pt')  # 你可以根据实际情况初始化矩阵 b\n",
    "print(a.shape)\n",
    "c = a - b\n",
    "d = c ** 2\n",
    "mean_value = d.sum() / d.numel()\n",
    "\n",
    "print(mean_value)\n",
    "\n",
    "X=a.unsqueeze(-1)\n",
    "print(X.shape)\n",
    "Y=b.unsqueeze(-1)\n",
    "ssim_val = ssim( X, Y, data_range=torch.max(X,Y), size_average=False) # return (N,)\n",
    "ms_ssim_val = ms_ssim( X, Y, data_range=torch.max(X,Y), size_average=False ) #(N,)\n",
    "# set 'size_average=True' to get a scalar value as loss. see tests/tests_loss.py for more details\n",
    "# ssim_loss = 1 - ssim( X, Y, data_range=torch.max(X,Y), size_average=True) # return a scalar\n",
    "# ms_ssim_loss = 1 - ms_ssim( X, Y, data_range=torch.max(X,Y), size_average=True )\n",
    "\n",
    "# reuse the gaussian kernel with SSIM & MS_SSIM. 复用高斯核，这样就可训练了！\n",
    "ssim_module = SSIM(data_range=torch.max(X,Y), size_average=True, channel=3) # channel=1 for grayscale images\n",
    "ms_ssim_module = MS_SSIM(data_range=torch.max(X,Y), size_average=True, channel=3)\n",
    "ssim_loss = 1 - ssim_module(X, Y)\n",
    "ms_ssim_loss = 1 - ms_ssim_module(X, Y)\n",
    "\n",
    "print(ssim_val)\n",
    "print(ms_ssim_val)\n",
    "print(1-ssim_loss)\n",
    "print(1-ms_ssim_loss)"
   ]
  },
  {
   "cell_type": "code",
   "execution_count": null,
   "metadata": {},
   "outputs": [
    {
     "name": "stdout",
     "output_type": "stream",
     "text": [
      "torch.Size([2, 361, 720])\n",
      "tensor(0.0212, device='cuda:0', grad_fn=<DivBackward0>)\n"
     ]
    }
   ],
   "source": [
    "import torch\n",
    "from pytorch_msssim import ms_ssim, ssim, SSIM, MS_SSIM\n",
    "\n",
    "a = torch.load('/mnt/SrvUserDisk/JiangXiaotian/workspace/3DEM/ref/decoded.pt')  # 你可以根据实际情况初始化矩阵 a\n",
    "b = torch.load('/mnt/SrvUserDisk/JiangXiaotian/workspace/3DEM/ref/gt.pt')  # 你可以根据实际情况初始化矩阵 b\n",
    "print(a.shape)\n",
    "c = a - b\n",
    "d = c ** 2\n",
    "mean_value = d.sum() / d.numel()\n",
    "\n",
    "print(mean_value)"
   ]
  },
  {
   "cell_type": "code",
   "execution_count": 10,
   "metadata": {},
   "outputs": [
    {
     "name": "stdout",
     "output_type": "stream",
     "text": [
      "torch.Size([2, 361, 720])\n",
      "MSE: 0.0212\n",
      "NMSE: 0.0109\n",
      "RMSE: 0.1457\n",
      "L1 Loss: 0.1164\n",
      "Percentage Error: 38.98%\n"
     ]
    }
   ],
   "source": [
    "import torch\n",
    "\n",
    "# 加载张量数据\n",
    "a = torch.load('/mnt/SrvUserDisk/JiangXiaotian/workspace/3DEM/ref/decoded.pt')  # 预测矩阵\n",
    "b = torch.load('/mnt/SrvUserDisk/JiangXiaotian/workspace/3DEM/ref/gt.pt')  # 真实值矩阵\n",
    "print(a.shape)\n",
    "# 检查形状是否匹配\n",
    "if a.shape != b.shape:\n",
    "    raise ValueError(\"预测值和真实值的形状不匹配！\")\n",
    "\n",
    "# 差值\n",
    "c = a - b\n",
    "\n",
    "# MSE (Mean Squared Error)\n",
    "mse = (c ** 2).mean()\n",
    "\n",
    "# NMSE (Normalized Mean Squared Error)\n",
    "# 通常定义为 MSE / (真实值的平方均值)\n",
    "# nmse = mse / (b ** 2).mean()\n",
    "nmse = mse / b.var()\n",
    "\n",
    "rmse = torch.sqrt(mse)\n",
    "\n",
    "# L1 Loss (Mean Absolute Error)\n",
    "l1_loss = c.abs().mean()\n",
    "\n",
    "# 百分比误差 (Percentage Error, 按元素)\n",
    "# 防止真实值中有零，导致除零错误\n",
    "percentage_error = (c / (b + 1e-8)).abs().mean() * 100  # 结果以百分比形式表示\n",
    "\n",
    "# 输出结果\n",
    "print(f\"MSE: {mse.item():.4f}\")\n",
    "print(f\"NMSE: {nmse.item():.4f}\")\n",
    "print(f\"RMSE: {rmse.item():.4f}\")\n",
    "print(f\"L1 Loss: {l1_loss.item():.4f}\")\n",
    "print(f\"Percentage Error: {percentage_error.item():.2f}%\")"
   ]
  },
  {
   "cell_type": "code",
   "execution_count": 13,
   "metadata": {},
   "outputs": [
    {
     "name": "stdout",
     "output_type": "stream",
     "text": [
      "MSE (per image): tensor([0.0224, 0.0200], device='cuda:0', grad_fn=<MeanBackward1>)\n",
      "MSE Mean: 0.0212\n",
      "NMSE (per image): tensor([0.9794, 0.0197], device='cuda:0', grad_fn=<DivBackward0>)\n",
      "NMSE Mean: 0.4995\n",
      "RMSE (per image): tensor([0.1498, 0.1414], device='cuda:0', grad_fn=<SqrtBackward0>)\n",
      "RMSE Mean: 0.1456\n",
      "L1 Loss (per image): tensor([0.1235, 0.1092], device='cuda:0', grad_fn=<MeanBackward1>)\n",
      "L1 Loss Mean: 0.1164\n",
      "Percentage Error (per image): tensor([70.9961,  6.9705], device='cuda:0', grad_fn=<MulBackward0>)\n",
      "Percentage Error Mean: 38.98%\n"
     ]
    }
   ],
   "source": [
    "import torch\n",
    "\n",
    "# 假设 a 和 b 的 shape 为 [batch_size, height, width]\n",
    "# 加载数据\n",
    "a = torch.load('/mnt/SrvUserDisk/JiangXiaotian/workspace/3DEM/ref/decoded.pt')  # 预测值\n",
    "b = torch.load('/mnt/SrvUserDisk/JiangXiaotian/workspace/3DEM/ref/gt.pt')  # 真实值\n",
    "\n",
    "# 检查形状是否匹配\n",
    "if a.shape != b.shape:\n",
    "    raise ValueError(\"预测值和真实值的形状不匹配！\")\n",
    "\n",
    "# 差值\n",
    "c = a - b\n",
    "\n",
    "# MSE (Mean Squared Error) for each image\n",
    "mse_per_image = (c ** 2).mean(dim=(1, 2))  # 按单张图像计算 MSE\n",
    "mse_mean = mse_per_image.mean()  # 对所有图像的 MSE 求均值\n",
    "\n",
    "# NMSE (Normalized Mean Squared Error) for each image\n",
    "# 使用真实值的方差归一化\n",
    "nmse_per_image = mse_per_image / b.var(dim=(1, 2), unbiased=False)  # 无偏估计\n",
    "nmse_mean = nmse_per_image.mean()  # 对所有图像的 NMSE 求均值\n",
    "\n",
    "# RMSE (Root Mean Squared Error) for each image\n",
    "rmse_per_image = torch.sqrt(mse_per_image)  # 每张图像的 RMSE\n",
    "rmse_mean = rmse_per_image.mean()  # 所有图像的 RMSE 均值\n",
    "\n",
    "# L1 Loss (Mean Absolute Error) for each image\n",
    "l1_loss_per_image = c.abs().mean(dim=(1, 2))  # 每张图像的 L1 Loss\n",
    "l1_loss_mean = l1_loss_per_image.mean()  # 所有图像的 L1 Loss 均值\n",
    "\n",
    "# Percentage Error (按元素百分比误差)\n",
    "# 防止真实值为 0 导致除零问题，添加一个很小的值 1e-8\n",
    "percentage_error_per_image = (c / (b + 1e-8)).abs().mean(dim=(1, 2)) * 100  # 每张图像的百分比误差\n",
    "percentage_error_mean = percentage_error_per_image.mean()  # 所有图像的百分比误差均值\n",
    "\n",
    "# 输出结果\n",
    "print(f\"MSE (per image): {mse_per_image}\")\n",
    "print(f\"MSE Mean: {mse_mean.item():.4f}\")\n",
    "print(f\"NMSE (per image): {nmse_per_image}\")\n",
    "print(f\"NMSE Mean: {nmse_mean.item():.4f}\")\n",
    "print(f\"RMSE (per image): {rmse_per_image}\")\n",
    "print(f\"RMSE Mean: {rmse_mean.item():.4f}\")\n",
    "print(f\"L1 Loss (per image): {l1_loss_per_image}\")\n",
    "print(f\"L1 Loss Mean: {l1_loss_mean.item():.4f}\")\n",
    "print(f\"Percentage Error (per image): {percentage_error_per_image}\")\n",
    "print(f\"Percentage Error Mean: {percentage_error_mean.item():.2f}%\")"
   ]
  }
 ],
 "metadata": {
  "kernelspec": {
   "display_name": "jxtnet",
   "language": "python",
   "name": "python3"
  },
  "language_info": {
   "codemirror_mode": {
    "name": "ipython",
    "version": 3
   },
   "file_extension": ".py",
   "mimetype": "text/x-python",
   "name": "python",
   "nbconvert_exporter": "python",
   "pygments_lexer": "ipython3",
   "version": "3.9.19"
  }
 },
 "nbformat": 4,
 "nbformat_minor": 2
}
