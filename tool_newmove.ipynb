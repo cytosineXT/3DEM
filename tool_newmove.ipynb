{
 "cells": [
  {
   "cell_type": "code",
   "execution_count": 3,
   "metadata": {},
   "outputs": [
    {
     "name": "stdout",
     "output_type": "stream",
     "text": [
      "目标文件夹中的文件数量：5960\n",
      "目标文件夹大小：4173.39 MB 或 4.08 GB\n"
     ]
    }
   ],
   "source": [
    "import os\n",
    "\n",
    "dest_folder = \"/home/jiangxiaotian/datasets/mul2347_pretrain\"\n",
    "\n",
    "print(f\"目标文件夹中的文件数量：{len(os.listdir(dest_folder))}\")\n",
    "\n",
    "total_size = 0\n",
    "for root, dirs, files in os.walk(dest_folder):\n",
    "    for file_name in files:\n",
    "        file_path = os.path.join(root, file_name)\n",
    "        total_size += os.path.getsize(file_path)\n",
    "\n",
    "total_size_mb = total_size / (1024 * 1024)  # 转换为 MB\n",
    "total_size_gb = total_size / (1024 * 1024 * 1024)  # 转换为 GB\n",
    "\n",
    "print(f\"目标文件夹大小：{total_size_mb:.2f} MB 或 {total_size_gb:.2f} GB\")"
   ]
  },
  {
   "cell_type": "code",
   "execution_count": 5,
   "metadata": {},
   "outputs": [
    {
     "name": "stdout",
     "output_type": "stream",
     "text": [
      "目标文件夹中的文件数量：1485\n",
      "耗时2.1632s\n",
      "目标文件夹大小：2025.10 MB 或 1.98 GB\n"
     ]
    }
   ],
   "source": [
    "import os\n",
    "import shutil\n",
    "import re\n",
    "import time\n",
    "\n",
    "tic = time.time()\n",
    "# src_folder = \"/home/jiangxiaotian/datasets/mul2347_pretrain\"\n",
    "# dest_folder = \"/home/jiangxiaotian/datasets/mul2347_mie_pretrain\"\n",
    "# src_folder = \"/home/jiangxiaotian/datasets/mul2347_6val\"\n",
    "# dest_folder = \"/home/jiangxiaotian/datasets/mul2347_6smallval\"\n",
    "src_folder = \"/home/jiangxiaotian/datasets/mul2347_6smallval\"\n",
    "dest_folder = \"/home/jiangxiaotian/datasets/mul2347_mie_6smallval\"\n",
    "pattern = r\"([a-zA-Z0-9]{4})_theta(\\d+)phi(\\d+)f(\\d+\\.\\d+).pt\"\n",
    "# cnt = 2400 #抽出1/10做验证集\n",
    "os.makedirs(dest_folder, exist_ok=True)\n",
    "\n",
    "files = os.listdir(src_folder)\n",
    "for file_name in files:\n",
    "    match = re.match(pattern, file_name)\n",
    "    if match:\n",
    "        plane = match.group(1)\n",
    "        theta = int(match.group(2))\n",
    "        phi = int(match.group(3))\n",
    "        f = float(match.group(4))\n",
    "        # print(f)\n",
    "        if f <= 1.0:\n",
    "            src_file_path = os.path.join(src_folder, file_name)\n",
    "            dest_file_path = os.path.join(dest_folder, file_name)\n",
    "            shutil.copy(src_file_path, dest_file_path)\n",
    "    #         cnt -= 1\n",
    "    # if cnt == 0:\n",
    "    #     break\n",
    "\n",
    "print(f\"目标文件夹中的文件数量：{len(os.listdir(dest_folder))}\")\n",
    "print(f'耗时{(time.time()-tic):.4f}s')\n",
    "\n",
    "total_size = 0\n",
    "for root, dirs, files in os.walk(dest_folder):\n",
    "    for file_name in files:\n",
    "        file_path = os.path.join(root, file_name)\n",
    "        total_size += os.path.getsize(file_path)\n",
    "\n",
    "total_size_mb = total_size / (1024 * 1024)  # 转换为 MB\n",
    "total_size_gb = total_size / (1024 * 1024 * 1024)  # 转换为 GB\n",
    "\n",
    "print(f\"目标文件夹大小：{total_size_mb:.2f} MB 或 {total_size_gb:.2f} GB\")"
   ]
  }
 ],
 "metadata": {
  "kernelspec": {
   "display_name": "jxtnet",
   "language": "python",
   "name": "python3"
  },
  "language_info": {
   "codemirror_mode": {
    "name": "ipython",
    "version": 3
   },
   "file_extension": ".py",
   "mimetype": "text/x-python",
   "name": "python",
   "nbconvert_exporter": "python",
   "pygments_lexer": "ipython3",
   "version": "3.9.19"
  }
 },
 "nbformat": 4,
 "nbformat_minor": 2
}
