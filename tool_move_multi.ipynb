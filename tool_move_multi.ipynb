{
 "cells": [
  {
   "cell_type": "markdown",
   "metadata": {},
   "source": [
    "# python ubuntu文件系统管理"
   ]
  },
  {
   "cell_type": "markdown",
   "metadata": {},
   "source": [
    "### 重命名为飞机名并移动到目标文件夹2024年5月27日20:52:51"
   ]
  },
  {
   "cell_type": "markdown",
   "metadata": {},
   "source": [
    "b827"
   ]
  },
  {
   "cell_type": "code",
   "execution_count": 2,
   "metadata": {},
   "outputs": [
    {
     "name": "stdout",
     "output_type": "stream",
     "text": [
      "目标文件夹中的文件数量：19476\n",
      "耗时395.94134759902954s\n",
      "目标文件夹大小：26538.05 MB 或 25.92 GB\n"
     ]
    }
   ],
   "source": [
    "import os\n",
    "import shutil\n",
    "import re\n",
    "import time\n",
    "\n",
    "tic = time.time()\n",
    "src_folder = \"/mnt/Disk/jiangxiaotian/puredatasets/b827_MieOpt\"\n",
    "dest_folder = \"/mnt/Disk/jiangxiaotian/puredatasets/mul_MieOpt\"\n",
    "pattern = r\"RCSmap_theta(\\d+)phi(\\d+)f(\\d+\\.\\d+).pt\"\n",
    "plane = 'b827'\n",
    "os.makedirs(dest_folder, exist_ok=True)\n",
    "\n",
    "files = os.listdir(src_folder)\n",
    "for file_name in files:\n",
    "    match = re.match(pattern, file_name)\n",
    "    if match:\n",
    "        theta = int(match.group(1))\n",
    "        phi = int(match.group(2))\n",
    "        f = float(match.group(3))\n",
    "        # print(f)\n",
    "        # if 0.033 <= f:\n",
    "        src_file_path = os.path.join(src_folder, file_name)\n",
    "        dest_file_path = os.path.join(dest_folder, file_name.replace('RCSmap', plane))\n",
    "        shutil.copy(src_file_path, dest_file_path)\n",
    "\n",
    "print(f\"目标文件夹中的文件数量：{len(os.listdir(dest_folder))}\")\n",
    "print(f'耗时{time.time()-tic}s')\n",
    "\n",
    "total_size = 0\n",
    "for root, dirs, files in os.walk(dest_folder):\n",
    "    for file_name in files:\n",
    "        file_path = os.path.join(root, file_name)\n",
    "        total_size += os.path.getsize(file_path)\n",
    "\n",
    "total_size_mb = total_size / (1024 * 1024)  # 转换为 MB\n",
    "total_size_gb = total_size / (1024 * 1024 * 1024)  # 转换为 GB\n",
    "\n",
    "print(f\"目标文件夹大小：{total_size_mb:.2f} MB 或 {total_size_gb:.2f} GB\")"
   ]
  },
  {
   "cell_type": "markdown",
   "metadata": {},
   "source": [
    "b827 test10"
   ]
  },
  {
   "cell_type": "code",
   "execution_count": 1,
   "metadata": {},
   "outputs": [
    {
     "name": "stdout",
     "output_type": "stream",
     "text": [
      "目标文件夹中的文件数量：10\n",
      "耗时0.14217424392700195s\n",
      "目标文件夹大小：13.57 MB 或 0.01 GB\n"
     ]
    }
   ],
   "source": [
    "import os\n",
    "import shutil\n",
    "import re\n",
    "import time\n",
    "\n",
    "tic = time.time()\n",
    "src_folder = \"/mnt/Disk/jiangxiaotian/puredatasets/b827_test10\"\n",
    "dest_folder = \"/mnt/Disk/jiangxiaotian/puredatasets/mul_test10\"\n",
    "pattern = r\"RCSmap_theta(\\d+)phi(\\d+)f(\\d+\\.\\d+).pt\"\n",
    "plane = 'b827'\n",
    "os.makedirs(dest_folder, exist_ok=True)\n",
    "\n",
    "files = os.listdir(src_folder)\n",
    "for file_name in files:\n",
    "    match = re.match(pattern, file_name)\n",
    "    if match:\n",
    "        theta = int(match.group(1))\n",
    "        phi = int(match.group(2))\n",
    "        f = float(match.group(3))\n",
    "        # print(f)\n",
    "        # if 0.033 <= f:\n",
    "        src_file_path = os.path.join(src_folder, file_name)\n",
    "        dest_file_path = os.path.join(dest_folder, file_name.replace('RCSmap', plane))\n",
    "        shutil.copy(src_file_path, dest_file_path)\n",
    "\n",
    "print(f\"目标文件夹中的文件数量：{len(os.listdir(dest_folder))}\")\n",
    "print(f'耗时{time.time()-tic}s')\n",
    "\n",
    "total_size = 0\n",
    "for root, dirs, files in os.walk(dest_folder):\n",
    "    for file_name in files:\n",
    "        file_path = os.path.join(root, file_name)\n",
    "        total_size += os.path.getsize(file_path)\n",
    "\n",
    "total_size_mb = total_size / (1024 * 1024)  # 转换为 MB\n",
    "total_size_gb = total_size / (1024 * 1024 * 1024)  # 转换为 GB\n",
    "\n",
    "print(f\"目标文件夹大小：{total_size_mb:.2f} MB 或 {total_size_gb:.2f} GB\")"
   ]
  },
  {
   "cell_type": "markdown",
   "metadata": {},
   "source": [
    "b827 pretrain100"
   ]
  },
  {
   "cell_type": "code",
   "execution_count": 6,
   "metadata": {},
   "outputs": [
    {
     "name": "stdout",
     "output_type": "stream",
     "text": [
      "目标文件夹中的文件数量：100\n",
      "耗时5.02661919593811s\n",
      "目标文件夹大小：136.14 MB 或 0.13 GB\n"
     ]
    }
   ],
   "source": [
    "import os\n",
    "import shutil\n",
    "import re\n",
    "import time\n",
    "\n",
    "tic = time.time()\n",
    "src_folder = \"/mnt/Disk/jiangxiaotian/puredatasets/mul_MieOpt\"\n",
    "dest_folder = \"/mnt/Disk/jiangxiaotian/puredatasets/mul_MieOptpretrain\"\n",
    "pattern = r\"([a-zA-Z0-9]{4})_theta(\\d+)phi(\\d+)f(\\d+\\.\\d+).pt\"\n",
    "# plane = 'b827'\n",
    "cnt = 100 #抽出1/10做验证集\n",
    "os.makedirs(dest_folder, exist_ok=True)\n",
    "\n",
    "files = os.listdir(src_folder)\n",
    "for file_name in files:\n",
    "    match = re.match(pattern, file_name)\n",
    "    if match:\n",
    "        theta = int(match.group(2))\n",
    "        phi = int(match.group(3))\n",
    "        f = float(match.group(4))\n",
    "        # print(f)\n",
    "        # if 0.033 <= f:\n",
    "        src_file_path = os.path.join(src_folder, file_name)\n",
    "        dest_file_path = os.path.join(dest_folder, file_name)\n",
    "        shutil.copy(src_file_path, dest_file_path)\n",
    "        cnt -= 1\n",
    "    if cnt == 0:\n",
    "        break\n",
    "\n",
    "print(f\"目标文件夹中的文件数量：{len(os.listdir(dest_folder))}\")\n",
    "print(f'耗时{time.time()-tic}s')\n",
    "\n",
    "total_size = 0\n",
    "for root, dirs, files in os.walk(dest_folder):\n",
    "    for file_name in files:\n",
    "        file_path = os.path.join(root, file_name)\n",
    "        total_size += os.path.getsize(file_path)\n",
    "\n",
    "total_size_mb = total_size / (1024 * 1024)  # 转换为 MB\n",
    "total_size_gb = total_size / (1024 * 1024 * 1024)  # 转换为 GB\n",
    "\n",
    "print(f\"目标文件夹大小：{total_size_mb:.2f} MB 或 {total_size_gb:.2f} GB\")"
   ]
  },
  {
   "cell_type": "markdown",
   "metadata": {},
   "source": [
    "b943\\b7fd 23"
   ]
  },
  {
   "cell_type": "code",
   "execution_count": 1,
   "metadata": {},
   "outputs": [
    {
     "name": "stdout",
     "output_type": "stream",
     "text": [
      "目标文件夹中的文件数量：15204\n",
      "耗时898.3440670967102s\n",
      "目标文件夹大小：20743.30 MB 或 20.26 GB\n",
      "目标文件夹中的文件数量：30408\n",
      "耗时519.0466773509979s\n",
      "目标文件夹大小：41503.98 MB 或 40.53 GB\n"
     ]
    }
   ],
   "source": [
    "import os\n",
    "import shutil\n",
    "import re\n",
    "import time\n",
    "\n",
    "tic = time.time()\n",
    "src_folder = \"/mnt/Disk/jiangxiaotian/puredatasets/b943b632fd36f75ac1ccec171a275967\"\n",
    "dest_folder = \"/mnt/Disk/jiangxiaotian/puredatasets/mul23_MieOpt\"\n",
    "pattern = r\"RCSmap_theta(\\d+)phi(\\d+)f(\\d+\\.\\d+).pt\"\n",
    "plane = 'b943'\n",
    "os.makedirs(dest_folder, exist_ok=True)\n",
    "\n",
    "files = os.listdir(src_folder)\n",
    "for file_name in files:\n",
    "    match = re.match(pattern, file_name)\n",
    "    if match:\n",
    "        theta = int(match.group(1))\n",
    "        phi = int(match.group(2))\n",
    "        f = float(match.group(3))\n",
    "        # print(f)\n",
    "        if 0.1 <= f:\n",
    "            src_file_path = os.path.join(src_folder, file_name)\n",
    "            dest_file_path = os.path.join(dest_folder, file_name.replace('RCSmap', plane))\n",
    "            shutil.copy(src_file_path, dest_file_path)\n",
    "\n",
    "print(f\"目标文件夹中的文件数量：{len(os.listdir(dest_folder))}\")\n",
    "print(f'耗时{time.time()-tic}s')\n",
    "tic = time.time()\n",
    "\n",
    "total_size = 0\n",
    "for root, dirs, files in os.walk(dest_folder):\n",
    "    for file_name in files:\n",
    "        file_path = os.path.join(root, file_name)\n",
    "        total_size += os.path.getsize(file_path)\n",
    "\n",
    "total_size_mb = total_size / (1024 * 1024)  # 转换为 MB\n",
    "total_size_gb = total_size / (1024 * 1024 * 1024)  # 转换为 GB\n",
    "\n",
    "print(f\"目标文件夹大小：{total_size_mb:.2f} MB 或 {total_size_gb:.2f} GB\")\n",
    "\n",
    "tic = time.time()\n",
    "src_folder = \"/mnt/Disk/jiangxiaotian/puredatasets/b7fd11d4af74b4ffddaa0161e9d3dfac\"\n",
    "dest_folder = \"/mnt/Disk/jiangxiaotian/puredatasets/mul23_MieOpt\"\n",
    "pattern = r\"RCSmap_theta(\\d+)phi(\\d+)f(\\d+\\.\\d+).pt\"\n",
    "plane = 'b7fd'\n",
    "os.makedirs(dest_folder, exist_ok=True)\n",
    "\n",
    "files = os.listdir(src_folder)\n",
    "for file_name in files:\n",
    "    match = re.match(pattern, file_name)\n",
    "    if match:\n",
    "        theta = int(match.group(1))\n",
    "        phi = int(match.group(2))\n",
    "        f = float(match.group(3))\n",
    "        # print(f)\n",
    "        if 0.1 <= f:\n",
    "            src_file_path = os.path.join(src_folder, file_name)\n",
    "            dest_file_path = os.path.join(dest_folder, file_name.replace('RCSmap', plane))\n",
    "            shutil.copy(src_file_path, dest_file_path)\n",
    "\n",
    "print(f\"目标文件夹中的文件数量：{len(os.listdir(dest_folder))}\")\n",
    "print(f'耗时{time.time()-tic}s')\n",
    "tic = time.time()\n",
    "\n",
    "total_size = 0\n",
    "for root, dirs, files in os.walk(dest_folder):\n",
    "    for file_name in files:\n",
    "        file_path = os.path.join(root, file_name)\n",
    "        total_size += os.path.getsize(file_path)\n",
    "\n",
    "total_size_mb = total_size / (1024 * 1024)  # 转换为 MB\n",
    "total_size_gb = total_size / (1024 * 1024 * 1024)  # 转换为 GB\n",
    "\n",
    "print(f\"目标文件夹大小：{total_size_mb:.2f} MB 或 {total_size_gb:.2f} GB\")"
   ]
  },
  {
   "cell_type": "markdown",
   "metadata": {},
   "source": [
    "b943\\baa9 26"
   ]
  },
  {
   "cell_type": "code",
   "execution_count": 1,
   "metadata": {},
   "outputs": [
    {
     "name": "stdout",
     "output_type": "stream",
     "text": [
      "目标文件夹中的文件数量：15456\n",
      "耗时546.62s\n",
      "目标文件夹大小：21085.84 MB 或 20.59 GB\n",
      "目标文件夹中的文件数量：30576\n",
      "耗时449.04s\n",
      "目标文件夹大小：41706.62 MB 或 40.73 GB\n"
     ]
    }
   ],
   "source": [
    "import os\n",
    "import shutil\n",
    "import re\n",
    "import time\n",
    "\n",
    "tic = time.time()\n",
    "src_folder = \"/mnt/Disk/jiangxiaotian/puredatasets/b943b632fd36f75ac1ccec171a275967\"\n",
    "dest_folder = \"/mnt/Disk/jiangxiaotian/puredatasets/mul26_MieOpt\"\n",
    "pattern = r\"RCSmap_theta(\\d+)phi(\\d+)f(\\d+\\.\\d+).pt\"\n",
    "plane = 'b943'\n",
    "os.makedirs(dest_folder, exist_ok=True)\n",
    "\n",
    "files = os.listdir(src_folder)\n",
    "for file_name in files:\n",
    "    match = re.match(pattern, file_name)\n",
    "    if match:\n",
    "        theta = int(match.group(1))\n",
    "        phi = int(match.group(2))\n",
    "        f = float(match.group(3))\n",
    "        # print(f)\n",
    "        if 0.097 <= f:\n",
    "            src_file_path = os.path.join(src_folder, file_name)\n",
    "            dest_file_path = os.path.join(dest_folder, file_name.replace('RCSmap', plane))\n",
    "            shutil.copy(src_file_path, dest_file_path)\n",
    "\n",
    "print(f\"目标文件夹中的文件数量：{len(os.listdir(dest_folder))}\")\n",
    "print(f'耗时{time.time()-tic:.2f}s')\n",
    "tic = time.time()\n",
    "\n",
    "total_size = 0\n",
    "for root, dirs, files in os.walk(dest_folder):\n",
    "    for file_name in files:\n",
    "        file_path = os.path.join(root, file_name)\n",
    "        total_size += os.path.getsize(file_path)\n",
    "\n",
    "total_size_mb = total_size / (1024 * 1024)  # 转换为 MB\n",
    "total_size_gb = total_size / (1024 * 1024 * 1024)  # 转换为 GB\n",
    "\n",
    "print(f\"目标文件夹大小：{total_size_mb:.2f} MB 或 {total_size_gb:.2f} GB\")\n",
    "\n",
    "tic = time.time()\n",
    "src_folder = \"/mnt/Disk/jiangxiaotian/puredatasets/baa972f48cde1dc290baeef8ba5b93e5\"\n",
    "dest_folder = \"/mnt/Disk/jiangxiaotian/puredatasets/mul26_MieOpt\"\n",
    "pattern = r\"RCSmap_theta(\\d+)phi(\\d+)f(\\d+\\.\\d+).pt\"\n",
    "plane = 'baa9'\n",
    "os.makedirs(dest_folder, exist_ok=True)\n",
    "\n",
    "files = os.listdir(src_folder)\n",
    "for file_name in files:\n",
    "    match = re.match(pattern, file_name)\n",
    "    if match:\n",
    "        theta = int(match.group(1))\n",
    "        phi = int(match.group(2))\n",
    "        f = float(match.group(3))\n",
    "        # print(f)\n",
    "        if 0.105 <= f:\n",
    "            src_file_path = os.path.join(src_folder, file_name)\n",
    "            dest_file_path = os.path.join(dest_folder, file_name.replace('RCSmap', plane))\n",
    "            shutil.copy(src_file_path, dest_file_path)\n",
    "\n",
    "print(f\"目标文件夹中的文件数量：{len(os.listdir(dest_folder))}\")\n",
    "print(f'耗时{time.time()-tic:.2f}s')\n",
    "tic = time.time()\n",
    "\n",
    "total_size = 0\n",
    "for root, dirs, files in os.walk(dest_folder):\n",
    "    for file_name in files:\n",
    "        file_path = os.path.join(root, file_name)\n",
    "        total_size += os.path.getsize(file_path)\n",
    "\n",
    "total_size_mb = total_size / (1024 * 1024)  # 转换为 MB\n",
    "total_size_gb = total_size / (1024 * 1024 * 1024)  # 转换为 GB\n",
    "\n",
    "print(f\"目标文件夹大小：{total_size_mb:.2f} MB 或 {total_size_gb:.2f} GB\")"
   ]
  },
  {
   "cell_type": "code",
   "execution_count": 2,
   "metadata": {},
   "outputs": [
    {
     "name": "stdout",
     "output_type": "stream",
     "text": [
      "目标文件夹中的文件数量：3000\n",
      "耗时0.1512s\n",
      "目标文件夹大小：4092.71 MB 或 4.00 GB\n"
     ]
    }
   ],
   "source": [
    "import os\n",
    "import shutil\n",
    "import re\n",
    "import time\n",
    "\n",
    "tic = time.time()\n",
    "src_folder = \"/mnt/Disk/jiangxiaotian/puredatasets/mul26_MieOpt\"\n",
    "dest_folder = \"/mnt/Disk/jiangxiaotian/puredatasets/mul26_MieOpt_val\"\n",
    "pattern = r\"([a-zA-Z0-9]{4})_theta(\\d+)phi(\\d+)f(\\d+\\.\\d+).pt\"\n",
    "cnt = 3000 #抽出1/10做验证集\n",
    "os.makedirs(dest_folder, exist_ok=True)\n",
    "\n",
    "files = os.listdir(src_folder)\n",
    "for file_name in files:\n",
    "    match = re.match(pattern, file_name)\n",
    "    if match:\n",
    "        theta = int(match.group(2))\n",
    "        phi = int(match.group(3))\n",
    "        f = float(match.group(4))\n",
    "        # print(f)\n",
    "        # if theta==90:\n",
    "        src_file_path = os.path.join(src_folder, file_name)\n",
    "        dest_file_path = os.path.join(dest_folder, file_name)\n",
    "        shutil.move(src_file_path, dest_file_path)\n",
    "        cnt -= 1\n",
    "    if cnt == 0:\n",
    "        break\n",
    "\n",
    "print(f\"目标文件夹中的文件数量：{len(os.listdir(dest_folder))}\")\n",
    "print(f'耗时{(time.time()-tic):.4f}s')\n",
    "\n",
    "total_size = 0\n",
    "for root, dirs, files in os.walk(dest_folder):\n",
    "    for file_name in files:\n",
    "        file_path = os.path.join(root, file_name)\n",
    "        total_size += os.path.getsize(file_path)\n",
    "\n",
    "total_size_mb = total_size / (1024 * 1024)  # 转换为 MB\n",
    "total_size_gb = total_size / (1024 * 1024 * 1024)  # 转换为 GB\n",
    "\n",
    "print(f\"目标文件夹大小：{total_size_mb:.2f} MB 或 {total_size_gb:.2f} GB\")"
   ]
  },
  {
   "cell_type": "code",
   "execution_count": 6,
   "metadata": {},
   "outputs": [
    {
     "name": "stdout",
     "output_type": "stream",
     "text": [
      "目标文件夹中的文件数量：200\n",
      "耗时4.1908s\n",
      "目标文件夹大小：272.90 MB 或 0.27 GB\n"
     ]
    }
   ],
   "source": [
    "import os\n",
    "import shutil\n",
    "import re\n",
    "import time\n",
    "\n",
    "tic = time.time()\n",
    "src_folder = \"/mnt/Disk/jiangxiaotian/puredatasets/mul26_MieOpt\"\n",
    "dest_folder = \"/mnt/Disk/jiangxiaotian/puredatasets/mul26_MieOpt_test100\"\n",
    "pattern = r\"([a-zA-Z0-9]{4})_theta(\\d+)phi(\\d+)f(\\d+\\.\\d+).pt\"\n",
    "cnt1 = 100 #100个做验证\n",
    "cnt2 = 100\n",
    "os.makedirs(dest_folder, exist_ok=True)\n",
    "\n",
    "files = os.listdir(src_folder)\n",
    "for file_name in files:\n",
    "    match = re.match(pattern, file_name)\n",
    "    if match:\n",
    "        plane = match.group(1)\n",
    "        theta = int(match.group(2))\n",
    "        phi = int(match.group(3))\n",
    "        f = float(match.group(4))\n",
    "        # print(f)\n",
    "        if plane=='baa9':\n",
    "            src_file_path = os.path.join(src_folder, file_name)\n",
    "            dest_file_path = os.path.join(dest_folder, file_name)\n",
    "            shutil.copy(src_file_path, dest_file_path)\n",
    "            cnt1 -= 1\n",
    "    if cnt1 == 0:\n",
    "        break\n",
    "\n",
    "for file_name in files:\n",
    "    match = re.match(pattern, file_name)\n",
    "    if match:\n",
    "        plane = match.group(1)\n",
    "        theta = int(match.group(2))\n",
    "        phi = int(match.group(3))\n",
    "        f = float(match.group(4))\n",
    "        # print(f)\n",
    "        if plane=='b943':\n",
    "            src_file_path = os.path.join(src_folder, file_name)\n",
    "            dest_file_path = os.path.join(dest_folder, file_name)\n",
    "            shutil.copy(src_file_path, dest_file_path)\n",
    "            cnt2 -= 1\n",
    "    if cnt2 == 0:\n",
    "        break\n",
    "\n",
    "print(f\"目标文件夹中的文件数量：{len(os.listdir(dest_folder))}\")\n",
    "print(f'耗时{(time.time()-tic):.4f}s')\n",
    "\n",
    "total_size = 0\n",
    "for root, dirs, files in os.walk(dest_folder):\n",
    "    for file_name in files:\n",
    "        file_path = os.path.join(root, file_name)\n",
    "        total_size += os.path.getsize(file_path)\n",
    "\n",
    "total_size_mb = total_size / (1024 * 1024)  # 转换为 MB\n",
    "total_size_gb = total_size / (1024 * 1024 * 1024)  # 转换为 GB\n",
    "\n",
    "print(f\"目标文件夹大小：{total_size_mb:.2f} MB 或 {total_size_gb:.2f} GB\")"
   ]
  },
  {
   "cell_type": "code",
   "execution_count": 4,
   "metadata": {},
   "outputs": [
    {
     "name": "stdout",
     "output_type": "stream",
     "text": [
      "目标文件夹中的文件数量：27576\n",
      "耗时0.04s\n",
      "目标文件夹大小：37613.91 MB 或 36.73 GB\n"
     ]
    }
   ],
   "source": [
    "tic = time.time()\n",
    "dest_folder = \"/mnt/Disk/jiangxiaotian/puredatasets/mul26_MieOpt\"\n",
    "print(f\"目标文件夹中的文件数量：{len(os.listdir(dest_folder))}\")\n",
    "print(f'耗时{time.time()-tic:.2f}s')\n",
    "tic = time.time()\n",
    "\n",
    "total_size = 0\n",
    "for root, dirs, files in os.walk(dest_folder):\n",
    "    for file_name in files:\n",
    "        file_path = os.path.join(root, file_name)\n",
    "        total_size += os.path.getsize(file_path)\n",
    "\n",
    "total_size_mb = total_size / (1024 * 1024)  # 转换为 MB\n",
    "total_size_gb = total_size / (1024 * 1024 * 1024)  # 转换为 GB\n",
    "\n",
    "print(f\"目标文件夹大小：{total_size_mb:.2f} MB 或 {total_size_gb:.2f} GB\")"
   ]
  },
  {
   "cell_type": "markdown",
   "metadata": {},
   "source": [
    "1267客机"
   ]
  },
  {
   "cell_type": "code",
   "execution_count": 5,
   "metadata": {},
   "outputs": [
    {
     "name": "stdout",
     "output_type": "stream",
     "text": [
      "目标文件夹中的文件数量：15456\n",
      "耗时1326.05s\n",
      "目标文件夹大小：21085.84 MB 或 20.59 GB\n",
      "目标文件夹中的文件数量：30576\n",
      "耗时1391.79s\n",
      "目标文件夹大小：41706.62 MB 或 40.73 GB\n",
      "目标文件夹中的文件数量：52239\n",
      "耗时728.89s\n",
      "目标文件夹大小：71225.56 MB 或 69.56 GB\n",
      "目标文件夹中的文件数量：67359\n",
      "耗时597.11s\n",
      "目标文件夹大小：91837.97 MB 或 89.69 GB\n"
     ]
    }
   ],
   "source": [
    "import os\n",
    "import shutil\n",
    "import re\n",
    "import time\n",
    "\n",
    "tic = time.time()\n",
    "src_folder = \"/mnt/Disk/jiangxiaotian/puredatasets/b943b632fd36f75ac1ccec171a275967\"\n",
    "dest_folder = \"/mnt/Disk/jiangxiaotian/puredatasets/mul1267_MieOpt\"\n",
    "pattern = r\"RCSmap_theta(\\d+)phi(\\d+)f(\\d+\\.\\d+).pt\"\n",
    "plane = 'b943'\n",
    "os.makedirs(dest_folder, exist_ok=True)\n",
    "\n",
    "files = os.listdir(src_folder)\n",
    "for file_name in files:\n",
    "    match = re.match(pattern, file_name)\n",
    "    if match:\n",
    "        theta = int(match.group(1))\n",
    "        phi = int(match.group(2))\n",
    "        f = float(match.group(3))\n",
    "        # print(f)\n",
    "        if 0.097 <= f:\n",
    "            src_file_path = os.path.join(src_folder, file_name)\n",
    "            dest_file_path = os.path.join(dest_folder, file_name.replace('RCSmap', plane))\n",
    "            shutil.copy(src_file_path, dest_file_path)\n",
    "\n",
    "print(f\"目标文件夹中的文件数量：{len(os.listdir(dest_folder))}\")\n",
    "print(f'耗时{time.time()-tic:.2f}s')\n",
    "tic = time.time()\n",
    "\n",
    "total_size = 0\n",
    "for root, dirs, files in os.walk(dest_folder):\n",
    "    for file_name in files:\n",
    "        file_path = os.path.join(root, file_name)\n",
    "        total_size += os.path.getsize(file_path)\n",
    "\n",
    "total_size_mb = total_size / (1024 * 1024)  # 转换为 MB\n",
    "total_size_gb = total_size / (1024 * 1024 * 1024)  # 转换为 GB\n",
    "\n",
    "print(f\"目标文件夹大小：{total_size_mb:.2f} MB 或 {total_size_gb:.2f} GB\")\n",
    "\n",
    "tic = time.time()\n",
    "src_folder = \"/mnt/Disk/jiangxiaotian/puredatasets/baa972f48cde1dc290baeef8ba5b93e5\"\n",
    "dest_folder = \"/mnt/Disk/jiangxiaotian/puredatasets/mul1267_MieOpt\"\n",
    "pattern = r\"RCSmap_theta(\\d+)phi(\\d+)f(\\d+\\.\\d+).pt\"\n",
    "plane = 'baa9'\n",
    "os.makedirs(dest_folder, exist_ok=True)\n",
    "\n",
    "files = os.listdir(src_folder)\n",
    "for file_name in files:\n",
    "    match = re.match(pattern, file_name)\n",
    "    if match:\n",
    "        theta = int(match.group(1))\n",
    "        phi = int(match.group(2))\n",
    "        f = float(match.group(3))\n",
    "        # print(f)\n",
    "        if 0.105 <= f:\n",
    "            src_file_path = os.path.join(src_folder, file_name)\n",
    "            dest_file_path = os.path.join(dest_folder, file_name.replace('RCSmap', plane))\n",
    "            shutil.copy(src_file_path, dest_file_path)\n",
    "\n",
    "print(f\"目标文件夹中的文件数量：{len(os.listdir(dest_folder))}\")\n",
    "print(f'耗时{time.time()-tic:.2f}s')\n",
    "tic = time.time()\n",
    "\n",
    "total_size = 0\n",
    "for root, dirs, files in os.walk(dest_folder):\n",
    "    for file_name in files:\n",
    "        file_path = os.path.join(root, file_name)\n",
    "        total_size += os.path.getsize(file_path)\n",
    "\n",
    "total_size_mb = total_size / (1024 * 1024)  # 转换为 MB\n",
    "total_size_gb = total_size / (1024 * 1024 * 1024)  # 转换为 GB\n",
    "\n",
    "print(f\"目标文件夹大小：{total_size_mb:.2f} MB 或 {total_size_gb:.2f} GB\")\n",
    "\n",
    "tic = time.time()\n",
    "src_folder = \"/mnt/Disk/jiangxiaotian/puredatasets/b82731071bd39b66e4c15ad8a2edd2e\"\n",
    "dest_folder = \"/mnt/Disk/jiangxiaotian/puredatasets/mul1267_MieOpt\"\n",
    "pattern = r\"RCSmap_theta(\\d+)phi(\\d+)f(\\d+\\.\\d+).pt\"\n",
    "plane = 'b827'\n",
    "os.makedirs(dest_folder, exist_ok=True)\n",
    "\n",
    "files = os.listdir(src_folder)\n",
    "for file_name in files:\n",
    "    match = re.match(pattern, file_name)\n",
    "    if match:\n",
    "        theta = int(match.group(1))\n",
    "        phi = int(match.group(2))\n",
    "        f = float(match.group(3))\n",
    "        # print(f)\n",
    "        if 0.032 <= f:\n",
    "            src_file_path = os.path.join(src_folder, file_name)\n",
    "            dest_file_path = os.path.join(dest_folder, file_name.replace('RCSmap', plane))\n",
    "            shutil.copy(src_file_path, dest_file_path)\n",
    "\n",
    "print(f\"目标文件夹中的文件数量：{len(os.listdir(dest_folder))}\")\n",
    "print(f'耗时{time.time()-tic:.2f}s')\n",
    "tic = time.time()\n",
    "\n",
    "total_size = 0\n",
    "for root, dirs, files in os.walk(dest_folder):\n",
    "    for file_name in files:\n",
    "        file_path = os.path.join(root, file_name)\n",
    "        total_size += os.path.getsize(file_path)\n",
    "\n",
    "total_size_mb = total_size / (1024 * 1024)  # 转换为 MB\n",
    "total_size_gb = total_size / (1024 * 1024 * 1024)  # 转换为 GB\n",
    "\n",
    "print(f\"目标文件夹大小：{total_size_mb:.2f} MB 或 {total_size_gb:.2f} GB\")\n",
    "\n",
    "tic = time.time()\n",
    "src_folder = \"/mnt/Disk/jiangxiaotian/puredatasets/bb7c6c397143f72fe0cfe7507a46f0c\"\n",
    "dest_folder = \"/mnt/Disk/jiangxiaotian/puredatasets/mul1267_MieOpt\"\n",
    "pattern = r\"RCSmap_theta(\\d+)phi(\\d+)f(\\d+\\.\\d+).pt\"\n",
    "plane = 'bb7c'\n",
    "os.makedirs(dest_folder, exist_ok=True)\n",
    "\n",
    "files = os.listdir(src_folder)\n",
    "for file_name in files:\n",
    "    match = re.match(pattern, file_name)\n",
    "    if match:\n",
    "        theta = int(match.group(1))\n",
    "        phi = int(match.group(2))\n",
    "        f = float(match.group(3))\n",
    "        # print(f)\n",
    "        if 0.105 <= f:\n",
    "            src_file_path = os.path.join(src_folder, file_name)\n",
    "            dest_file_path = os.path.join(dest_folder, file_name.replace('RCSmap', plane))\n",
    "            shutil.copy(src_file_path, dest_file_path)\n",
    "\n",
    "print(f\"目标文件夹中的文件数量：{len(os.listdir(dest_folder))}\")\n",
    "print(f'耗时{time.time()-tic:.2f}s')\n",
    "tic = time.time()\n",
    "\n",
    "total_size = 0\n",
    "for root, dirs, files in os.walk(dest_folder):\n",
    "    for file_name in files:\n",
    "        file_path = os.path.join(root, file_name)\n",
    "        total_size += os.path.getsize(file_path)\n",
    "\n",
    "total_size_mb = total_size / (1024 * 1024)  # 转换为 MB\n",
    "total_size_gb = total_size / (1024 * 1024 * 1024)  # 转换为 GB\n",
    "\n",
    "print(f\"目标文件夹大小：{total_size_mb:.2f} MB 或 {total_size_gb:.2f} GB\")"
   ]
  },
  {
   "cell_type": "markdown",
   "metadata": {},
   "source": [
    "### 谐振+光学训练验证集"
   ]
  },
  {
   "cell_type": "code",
   "execution_count": 3,
   "metadata": {},
   "outputs": [
    {
     "name": "stdout",
     "output_type": "stream",
     "text": [
      "目标文件夹中的文件数量：21576\n"
     ]
    },
    {
     "ename": "TypeError",
     "evalue": "strftime() argument 1 must be str, not float",
     "output_type": "error",
     "traceback": [
      "\u001b[0;31m---------------------------------------------------------------------------\u001b[0m",
      "\u001b[0;31mTypeError\u001b[0m                                 Traceback (most recent call last)",
      "Cell \u001b[0;32mIn[3], line 27\u001b[0m\n\u001b[1;32m     24\u001b[0m             shutil\u001b[38;5;241m.\u001b[39mcopy(src_file_path, dest_file_path)\n\u001b[1;32m     26\u001b[0m \u001b[38;5;28mprint\u001b[39m(\u001b[38;5;124mf\u001b[39m\u001b[38;5;124m\"\u001b[39m\u001b[38;5;124m目标文件夹中的文件数量：\u001b[39m\u001b[38;5;132;01m{\u001b[39;00m\u001b[38;5;28mlen\u001b[39m(os\u001b[38;5;241m.\u001b[39mlistdir(dest_folder))\u001b[38;5;132;01m}\u001b[39;00m\u001b[38;5;124m\"\u001b[39m)\n\u001b[0;32m---> 27\u001b[0m \u001b[38;5;28mprint\u001b[39m(\u001b[38;5;124mf\u001b[39m\u001b[38;5;124m'\u001b[39m\u001b[38;5;124m耗时\u001b[39m\u001b[38;5;132;01m{\u001b[39;00mtime\u001b[38;5;241m.\u001b[39mstrftime(time\u001b[38;5;241m.\u001b[39mtime()\u001b[38;5;241m-\u001b[39mtic)\u001b[38;5;132;01m}\u001b[39;00m\u001b[38;5;124m'\u001b[39m)\n\u001b[1;32m     29\u001b[0m total_size \u001b[38;5;241m=\u001b[39m \u001b[38;5;241m0\u001b[39m\n\u001b[1;32m     30\u001b[0m \u001b[38;5;28;01mfor\u001b[39;00m root, dirs, files \u001b[38;5;129;01min\u001b[39;00m os\u001b[38;5;241m.\u001b[39mwalk(dest_folder):\n",
      "\u001b[0;31mTypeError\u001b[0m: strftime() argument 1 must be str, not float"
     ]
    }
   ],
   "source": [
    "import os\n",
    "import shutil\n",
    "import re\n",
    "import time\n",
    "\n",
    "tic = time.time()\n",
    "src_folder = \"/mnt/Disk/jiangxiaotian/puredatasets/b82731071bd39b66e4c15ad8a2edd2e\"\n",
    "dest_folder = \"/mnt/Disk/jiangxiaotian/puredatasets/b827_MieOpt\"\n",
    "pattern = r\"RCSmap_theta(\\d+)phi(\\d+)f(\\d+\\.\\d+).pt\"\n",
    "\n",
    "os.makedirs(dest_folder, exist_ok=True)\n",
    "\n",
    "files = os.listdir(src_folder)\n",
    "for file_name in files:\n",
    "    match = re.match(pattern, file_name)\n",
    "    if match:\n",
    "        theta = int(match.group(1))\n",
    "        phi = int(match.group(2))\n",
    "        f = float(match.group(3))\n",
    "        # print(f)\n",
    "        if 0.033 <= f:\n",
    "            src_file_path = os.path.join(src_folder, file_name)\n",
    "            dest_file_path = os.path.join(dest_folder, file_name)\n",
    "            shutil.copy(src_file_path, dest_file_path)\n",
    "\n",
    "print(f\"目标文件夹中的文件数量：{len(os.listdir(dest_folder))}\")\n",
    "print(f'耗时{time.time()-tic}s')\n",
    "\n",
    "total_size = 0\n",
    "for root, dirs, files in os.walk(dest_folder):\n",
    "    for file_name in files:\n",
    "        file_path = os.path.join(root, file_name)\n",
    "        total_size += os.path.getsize(file_path)\n",
    "\n",
    "total_size_mb = total_size / (1024 * 1024)  # 转换为 MB\n",
    "total_size_gb = total_size / (1024 * 1024 * 1024)  # 转换为 GB\n",
    "\n",
    "print(f\"目标文件夹大小：{total_size_mb:.2f} MB 或 {total_size_gb:.2f} GB\")"
   ]
  },
  {
   "cell_type": "code",
   "execution_count": 1,
   "metadata": {},
   "outputs": [
    {
     "name": "stdout",
     "output_type": "stream",
     "text": [
      "目标文件夹中的文件数量：2100\n",
      "耗时0.1052s\n",
      "目标文件夹大小：2863.10 MB 或 2.80 GB\n"
     ]
    }
   ],
   "source": [
    "import os\n",
    "import shutil\n",
    "import re\n",
    "import time\n",
    "\n",
    "tic = time.time()\n",
    "src_folder = \"/mnt/Disk/jiangxiaotian/puredatasets/b827_MieOpt\"\n",
    "dest_folder = \"/mnt/Disk/jiangxiaotian/puredatasets/b827_MieOpt_val\"\n",
    "pattern = r\"RCSmap_theta(\\d+)phi(\\d+)f(\\d+\\.\\d+).pt\"\n",
    "cnt = 2100 #抽出1/10做验证集\n",
    "os.makedirs(dest_folder, exist_ok=True)\n",
    "\n",
    "files = os.listdir(src_folder)\n",
    "for file_name in files:\n",
    "    match = re.match(pattern, file_name)\n",
    "    if match:\n",
    "        theta = int(match.group(1))\n",
    "        phi = int(match.group(2))\n",
    "        f = float(match.group(3))\n",
    "        # print(f)\n",
    "        # if theta==90:\n",
    "        src_file_path = os.path.join(src_folder, file_name)\n",
    "        dest_file_path = os.path.join(dest_folder, file_name)\n",
    "        shutil.move(src_file_path, dest_file_path)\n",
    "        cnt -= 1\n",
    "    if cnt == 0:\n",
    "        break\n",
    "\n",
    "print(f\"目标文件夹中的文件数量：{len(os.listdir(dest_folder))}\")\n",
    "print(f'耗时{(time.time()-tic):.4f}s')\n",
    "\n",
    "total_size = 0\n",
    "for root, dirs, files in os.walk(dest_folder):\n",
    "    for file_name in files:\n",
    "        file_path = os.path.join(root, file_name)\n",
    "        total_size += os.path.getsize(file_path)\n",
    "\n",
    "total_size_mb = total_size / (1024 * 1024)  # 转换为 MB\n",
    "total_size_gb = total_size / (1024 * 1024 * 1024)  # 转换为 GB\n",
    "\n",
    "print(f\"目标文件夹大小：{total_size_mb:.2f} MB 或 {total_size_gb:.2f} GB\")"
   ]
  },
  {
   "cell_type": "markdown",
   "metadata": {},
   "source": [
    "### 完整训练验证集"
   ]
  },
  {
   "cell_type": "code",
   "execution_count": 1,
   "metadata": {},
   "outputs": [
    {
     "name": "stdout",
     "output_type": "stream",
     "text": [
      "目标文件夹中的文件数量：2400\n",
      "耗时11.2971s\n",
      "目标文件夹大小：3272.18 MB 或 3.20 GB\n"
     ]
    }
   ],
   "source": [
    "import os\n",
    "import shutil\n",
    "import re\n",
    "import time\n",
    "\n",
    "tic = time.time()\n",
    "src_folder = \"/mnt/Disk/jiangxiaotian/puredatasets/b82731071bd39b66e4c15ad8a2edd2e\"\n",
    "dest_folder = \"/mnt/Disk/jiangxiaotian/puredatasets/b827_val\"\n",
    "pattern = r\"RCSmap_theta(\\d+)phi(\\d+)f(\\d+\\.\\d+).pt\"\n",
    "cnt = 2400 #抽出1/10做验证集\n",
    "os.makedirs(dest_folder, exist_ok=True)\n",
    "\n",
    "files = os.listdir(src_folder)\n",
    "for file_name in files:\n",
    "    match = re.match(pattern, file_name)\n",
    "    if match:\n",
    "        theta = int(match.group(1))\n",
    "        phi = int(match.group(2))\n",
    "        f = float(match.group(3))\n",
    "        # print(f)\n",
    "        # if theta==90:\n",
    "        src_file_path = os.path.join(src_folder, file_name)\n",
    "        dest_file_path = os.path.join(dest_folder, file_name)\n",
    "        shutil.move(src_file_path, dest_file_path)\n",
    "        cnt -= 1\n",
    "    if cnt == 0:\n",
    "        break\n",
    "\n",
    "print(f\"目标文件夹中的文件数量：{len(os.listdir(dest_folder))}\")\n",
    "print(f'耗时{(time.time()-tic):.4f}s')\n",
    "\n",
    "total_size = 0\n",
    "for root, dirs, files in os.walk(dest_folder):\n",
    "    for file_name in files:\n",
    "        file_path = os.path.join(root, file_name)\n",
    "        total_size += os.path.getsize(file_path)\n",
    "\n",
    "total_size_mb = total_size / (1024 * 1024)  # 转换为 MB\n",
    "total_size_gb = total_size / (1024 * 1024 * 1024)  # 转换为 GB\n",
    "\n",
    "print(f\"目标文件夹大小：{total_size_mb:.2f} MB 或 {total_size_gb:.2f} GB\")"
   ]
  },
  {
   "cell_type": "code",
   "execution_count": 1,
   "metadata": {},
   "outputs": [
    {
     "name": "stdout",
     "output_type": "stream",
     "text": [
      "目标文件夹中的文件数量：21960\n",
      "耗时204.3656s\n",
      "目标文件夹大小：29923.12 MB 或 29.22 GB\n"
     ]
    }
   ],
   "source": [
    "import os\n",
    "import shutil\n",
    "import re\n",
    "import time\n",
    "\n",
    "tic = time.time()\n",
    "# src_folder = \"/mnt/Disk/jiangxiaotian/puredatasets/b82731071bd39b66e4c15ad8a2edd2e\"\n",
    "# dest_folder = \"/mnt/Disk/jiangxiaotian/puredatasets/b827_val\"\n",
    "src_folder = \"/mnt/Disk/jiangxiaotian/puredatasets/b82731071bd39b66e4c15ad8a2edd2e\"\n",
    "dest_folder = \"/mnt/Disk/jiangxiaotian/puredatasets/b827_train\"\n",
    "pattern = r\"RCSmap_theta(\\d+)phi(\\d+)f(\\d+\\.\\d+).pt\"\n",
    "# cnt = 2400 #抽出1/10做验证集\n",
    "os.makedirs(dest_folder, exist_ok=True)\n",
    "\n",
    "files = os.listdir(src_folder)\n",
    "for file_name in files:\n",
    "    match = re.match(pattern, file_name)\n",
    "    if match:\n",
    "        theta = int(match.group(1))\n",
    "        phi = int(match.group(2))\n",
    "        f = float(match.group(3))\n",
    "        # print(f)\n",
    "        # if theta==90:\n",
    "        src_file_path = os.path.join(src_folder, file_name)\n",
    "        dest_file_path = os.path.join(dest_folder, file_name)\n",
    "        shutil.copy(src_file_path, dest_file_path)\n",
    "        # cnt -= 1\n",
    "    # if cnt == 0:\n",
    "    #     break\n",
    "\n",
    "print(f\"目标文件夹中的文件数量：{len(os.listdir(dest_folder))}\")\n",
    "print(f'耗时{(time.time()-tic):.4f}s')\n",
    "\n",
    "total_size = 0\n",
    "for root, dirs, files in os.walk(dest_folder):\n",
    "    for file_name in files:\n",
    "        file_path = os.path.join(root, file_name)\n",
    "        total_size += os.path.getsize(file_path)\n",
    "\n",
    "total_size_mb = total_size / (1024 * 1024)  # 转换为 MB\n",
    "total_size_gb = total_size / (1024 * 1024 * 1024)  # 转换为 GB\n",
    "\n",
    "print(f\"目标文件夹大小：{total_size_mb:.2f} MB 或 {total_size_gb:.2f} GB\")"
   ]
  },
  {
   "cell_type": "code",
   "execution_count": 2,
   "metadata": {},
   "outputs": [
    {
     "name": "stdout",
     "output_type": "stream",
     "text": [
      "目标文件夹中的文件数量：24360\n",
      "耗时91.2443s\n",
      "目标文件夹大小：33195.30 MB 或 32.42 GB\n"
     ]
    }
   ],
   "source": [
    "import os\n",
    "import shutil\n",
    "import re\n",
    "import time\n",
    "\n",
    "tic = time.time()\n",
    "dest_folder = \"/mnt/Disk/jiangxiaotian/puredatasets/b82731071bd39b66e4c15ad8a2edd2e\"\n",
    "src_folder = \"/mnt/Disk/jiangxiaotian/puredatasets/b827_val\"\n",
    "pattern = r\"RCSmap_theta(\\d+)phi(\\d+)f(\\d+\\.\\d+).pt\"\n",
    "# cnt = 2400 #抽出1/10做验证集\n",
    "os.makedirs(dest_folder, exist_ok=True)\n",
    "\n",
    "files = os.listdir(src_folder)\n",
    "for file_name in files:\n",
    "    match = re.match(pattern, file_name)\n",
    "    if match:\n",
    "        theta = int(match.group(1))\n",
    "        phi = int(match.group(2))\n",
    "        f = float(match.group(3))\n",
    "        # print(f)\n",
    "        # if theta==90:\n",
    "        src_file_path = os.path.join(src_folder, file_name)\n",
    "        dest_file_path = os.path.join(dest_folder, file_name)\n",
    "        shutil.copy(src_file_path, dest_file_path)\n",
    "        # cnt -= 1\n",
    "    # if cnt == 0:\n",
    "    #     break\n",
    "\n",
    "print(f\"目标文件夹中的文件数量：{len(os.listdir(dest_folder))}\")\n",
    "print(f'耗时{(time.time()-tic):.4f}s')\n",
    "\n",
    "total_size = 0\n",
    "for root, dirs, files in os.walk(dest_folder):\n",
    "    for file_name in files:\n",
    "        file_path = os.path.join(root, file_name)\n",
    "        total_size += os.path.getsize(file_path)\n",
    "\n",
    "total_size_mb = total_size / (1024 * 1024)  # 转换为 MB\n",
    "total_size_gb = total_size / (1024 * 1024 * 1024)  # 转换为 GB\n",
    "\n",
    "print(f\"目标文件夹大小：{total_size_mb:.2f} MB 或 {total_size_gb:.2f} GB\")"
   ]
  },
  {
   "cell_type": "markdown",
   "metadata": {},
   "source": [
    "## 文件夹文件数"
   ]
  },
  {
   "cell_type": "code",
   "execution_count": 1,
   "metadata": {},
   "outputs": [
    {
     "name": "stdout",
     "output_type": "stream",
     "text": [
      "目标文件夹中的文件数量：6\n"
     ]
    }
   ],
   "source": [
    "import os\n",
    "print(f\"目标文件夹中的文件数量：{len(os.listdir(r'/mnt/Disk/jiangxiaotian/puredatasets'))}\")"
   ]
  },
  {
   "cell_type": "code",
   "execution_count": 2,
   "metadata": {},
   "outputs": [
    {
     "name": "stdout",
     "output_type": "stream",
     "text": [
      "目标文件夹中的文件数量：24360\n"
     ]
    }
   ],
   "source": [
    "print(f\"目标文件夹中的文件数量：{len(os.listdir(r'/mnt/Disk/jiangxiaotian/puredatasets/b82731071bd39b66e4c15ad8a2edd2e'))}\")"
   ]
  },
  {
   "cell_type": "markdown",
   "metadata": {},
   "source": [
    "## 文件夹大小"
   ]
  },
  {
   "cell_type": "code",
   "execution_count": 3,
   "metadata": {},
   "outputs": [
    {
     "name": "stdout",
     "output_type": "stream",
     "text": [
      "目标文件夹大小：193685.29 MB 或 189.15 GB\n"
     ]
    }
   ],
   "source": [
    "import os\n",
    "dest_folder = \"/mnt/Disk/jiangxiaotian/puredatasets\"\n",
    "total_size = 0\n",
    "\n",
    "for root, dirs, files in os.walk(dest_folder):\n",
    "    for file_name in files:\n",
    "        file_path = os.path.join(root, file_name)\n",
    "        total_size += os.path.getsize(file_path)\n",
    "\n",
    "total_size_mb = total_size / (1024 * 1024)  # 转换为 MB\n",
    "total_size_gb = total_size / (1024 * 1024 * 1024)  # 转换为 GB\n",
    "\n",
    "print(f\"目标文件夹大小：{total_size_mb:.2f} MB 或 {total_size_gb:.2f} GB\")"
   ]
  },
  {
   "cell_type": "markdown",
   "metadata": {},
   "source": [
    "## 逻辑搬运文件"
   ]
  },
  {
   "cell_type": "markdown",
   "metadata": {},
   "source": [
    "### 1.根据f范围确定的谐振区数据，copy创建谐振子数据集"
   ]
  },
  {
   "cell_type": "code",
   "execution_count": 5,
   "metadata": {},
   "outputs": [
    {
     "name": "stdout",
     "output_type": "stream",
     "text": [
      "目标文件夹中的文件数量：13746\n"
     ]
    }
   ],
   "source": [
    "import os\n",
    "import shutil\n",
    "import re\n",
    "import time\n",
    "\n",
    "tic = time.time()\n",
    "src_folder = \"/mnt/Disk/jiangxiaotian/puredatasets/b82731071bd39b66e4c15ad8a2edd2e\"\n",
    "dest_folder = \"/mnt/Disk/jiangxiaotian/puredatasets/b827_xiezhen\"\n",
    "pattern = r\"RCSmap_theta(\\d+)phi(\\d+)f(\\d+\\.\\d+).pt\"\n",
    "\n",
    "os.makedirs(dest_folder, exist_ok=True)\n",
    "\n",
    "files = os.listdir(src_folder)\n",
    "for file_name in files:\n",
    "    match = re.match(pattern, file_name)\n",
    "    if match:\n",
    "        theta = int(match.group(1))\n",
    "        phi = int(match.group(2))\n",
    "        f = float(match.group(3))\n",
    "        # print(f)\n",
    "        if 0.033 <= f <= 0.8:\n",
    "            src_file_path = os.path.join(src_folder, file_name)\n",
    "            dest_file_path = os.path.join(dest_folder, file_name)\n",
    "            shutil.copy(src_file_path, dest_file_path)\n",
    "\n",
    "print(f\"目标文件夹中的文件数量：{len(os.listdir(dest_folder))}\")\n",
    "print(f'耗时{time.strftime(time.time()-tic)}')"
   ]
  },
  {
   "cell_type": "code",
   "execution_count": 6,
   "metadata": {},
   "outputs": [
    {
     "name": "stdout",
     "output_type": "stream",
     "text": [
      "目标文件夹大小：18714.86 MB 或 18.28 GB\n"
     ]
    }
   ],
   "source": [
    "total_size = 0\n",
    "\n",
    "for root, dirs, files in os.walk(dest_folder):\n",
    "    for file_name in files:\n",
    "        file_path = os.path.join(root, file_name)\n",
    "        total_size += os.path.getsize(file_path)\n",
    "\n",
    "total_size_mb = total_size / (1024 * 1024)  # 转换为 MB\n",
    "total_size_gb = total_size / (1024 * 1024 * 1024)  # 转换为 GB\n",
    "\n",
    "print(f\"目标文件夹大小：{total_size_mb:.2f} MB 或 {total_size_gb:.2f} GB\")"
   ]
  },
  {
   "cell_type": "markdown",
   "metadata": {},
   "source": [
    "### 2.随机copy创建10文件的小测试集"
   ]
  },
  {
   "cell_type": "code",
   "execution_count": 9,
   "metadata": {},
   "outputs": [
    {
     "name": "stdout",
     "output_type": "stream",
     "text": [
      "目标文件夹中的文件数量：10\n",
      "耗时0.0472s\n",
      "目标文件夹大小：13.57 MB 或 0.01 GB\n"
     ]
    }
   ],
   "source": [
    "import os\n",
    "import shutil\n",
    "import re\n",
    "import time\n",
    "\n",
    "tic = time.time()\n",
    "src_folder = \"/mnt/Disk/jiangxiaotian/puredatasets/b827_xiezhen\"\n",
    "dest_folder = \"/mnt/Disk/jiangxiaotian/puredatasets/b827_test10\"\n",
    "pattern = r\"RCSmap_theta(\\d+)phi(\\d+)f(\\d+\\.\\d+).pt\"\n",
    "\n",
    "cnt = 10\n",
    "\n",
    "os.makedirs(dest_folder, exist_ok=True)\n",
    "\n",
    "files = os.listdir(src_folder)\n",
    "for file_name in files:\n",
    "    match = re.match(pattern, file_name)\n",
    "    if match:\n",
    "        theta = int(match.group(1))\n",
    "        phi = int(match.group(2))\n",
    "        f = float(match.group(3))\n",
    "        # print(f)\n",
    "        if 0.033 <= f <= 0.8:\n",
    "            src_file_path = os.path.join(src_folder, file_name)\n",
    "            dest_file_path = os.path.join(dest_folder, file_name)\n",
    "            shutil.copy(src_file_path, dest_file_path)\n",
    "            cnt -= 1\n",
    "    if cnt == 0:\n",
    "        break\n",
    "\n",
    "print(f\"目标文件夹中的文件数量：{len(os.listdir(dest_folder))}\")\n",
    "print(f'耗时{(time.time()-tic):.4f}s')\n",
    "\n",
    "total_size = 0\n",
    "for root, dirs, files in os.walk(dest_folder):\n",
    "    for file_name in files:\n",
    "        file_path = os.path.join(root, file_name)\n",
    "        total_size += os.path.getsize(file_path)\n",
    "\n",
    "total_size_mb = total_size / (1024 * 1024)  # 转换为 MB\n",
    "total_size_gb = total_size / (1024 * 1024 * 1024)  # 转换为 GB\n",
    "\n",
    "print(f\"目标文件夹大小：{total_size_mb:.2f} MB 或 {total_size_gb:.2f} GB\")"
   ]
  },
  {
   "cell_type": "code",
   "execution_count": 5,
   "metadata": {},
   "outputs": [
    {
     "name": "stdout",
     "output_type": "stream",
     "text": [
      "目标文件夹中的文件数量：1300\n"
     ]
    }
   ],
   "source": [
    "import os\n",
    "print(f\"目标文件夹中的文件数量：{len(os.listdir(r'/mnt/Disk/jiangxiaotian/puredatasets/b827_xiezhen_val'))}\")"
   ]
  },
  {
   "cell_type": "code",
   "execution_count": 14,
   "metadata": {},
   "outputs": [
    {
     "name": "stdout",
     "output_type": "stream",
     "text": [
      "RCSmap_theta90phi180f0.245.pt\n",
      "RCSmap_theta90phi0f0.4.pt\n",
      "RCSmap_theta30phi300f0.11.pt\n",
      "RCSmap_theta0phi180f0.093.pt\n",
      "RCSmap_theta90phi180f0.65.pt\n",
      "RCSmap_theta120phi120f0.066.pt\n",
      "RCSmap_theta180phi210f0.265.pt\n",
      "RCSmap_theta180phi90f0.225.pt\n",
      "RCSmap_theta90phi300f0.215.pt\n",
      "RCSmap_theta180phi120f0.079.pt\n"
     ]
    }
   ],
   "source": [
    "files = os.listdir(r'/mnt/Disk/jiangxiaotian/puredatasets/b827_test10')\n",
    "for file_name in files:\n",
    "    print(file_name)"
   ]
  },
  {
   "cell_type": "markdown",
   "metadata": {},
   "source": [
    "### 3.随机move抽出1300个点做验证集"
   ]
  },
  {
   "cell_type": "code",
   "execution_count": 12,
   "metadata": {},
   "outputs": [
    {
     "name": "stdout",
     "output_type": "stream",
     "text": [
      "目标文件夹中的文件数量：1300\n",
      "耗时0.0657s\n",
      "目标文件夹大小：1771.31 MB 或 1.73 GB\n"
     ]
    }
   ],
   "source": [
    "import os\n",
    "import shutil\n",
    "import re\n",
    "import time\n",
    "\n",
    "tic = time.time()\n",
    "src_folder = \"/mnt/Disk/jiangxiaotian/puredatasets/b827_xiezhen\"\n",
    "dest_folder = \"/mnt/Disk/jiangxiaotian/puredatasets/b827_xiezhen_val\"\n",
    "pattern = r\"RCSmap_theta(\\d+)phi(\\d+)f(\\d+\\.\\d+).pt\"\n",
    "cnt = 1300 #抽出1/10做验证集\n",
    "os.makedirs(dest_folder, exist_ok=True)\n",
    "\n",
    "files = os.listdir(src_folder)\n",
    "for file_name in files:\n",
    "    match = re.match(pattern, file_name)\n",
    "    if match:\n",
    "        theta = int(match.group(1))\n",
    "        phi = int(match.group(2))\n",
    "        f = float(match.group(3))\n",
    "        # print(f)\n",
    "        # if theta==90:\n",
    "        src_file_path = os.path.join(src_folder, file_name)\n",
    "        dest_file_path = os.path.join(dest_folder, file_name)\n",
    "        shutil.move(src_file_path, dest_file_path)\n",
    "        cnt -= 1\n",
    "    if cnt == 0:\n",
    "        break\n",
    "\n",
    "print(f\"目标文件夹中的文件数量：{len(os.listdir(dest_folder))}\")\n",
    "print(f'耗时{(time.time()-tic):.4f}s')\n",
    "\n",
    "total_size = 0\n",
    "for root, dirs, files in os.walk(dest_folder):\n",
    "    for file_name in files:\n",
    "        file_path = os.path.join(root, file_name)\n",
    "        total_size += os.path.getsize(file_path)\n",
    "\n",
    "total_size_mb = total_size / (1024 * 1024)  # 转换为 MB\n",
    "total_size_gb = total_size / (1024 * 1024 * 1024)  # 转换为 GB\n",
    "\n",
    "print(f\"目标文件夹大小：{total_size_mb:.2f} MB 或 {total_size_gb:.2f} GB\")"
   ]
  },
  {
   "cell_type": "markdown",
   "metadata": {},
   "source": [
    "### copy500个做个预热训练集，用于小样本看权重有没有跑对路"
   ]
  },
  {
   "cell_type": "code",
   "execution_count": 15,
   "metadata": {},
   "outputs": [
    {
     "name": "stdout",
     "output_type": "stream",
     "text": [
      "目标文件夹中的文件数量：500\n",
      "耗时3.7424s\n",
      "目标文件夹大小：681.17 MB 或 0.67 GB\n"
     ]
    }
   ],
   "source": [
    "import os\n",
    "import shutil\n",
    "import re\n",
    "import time\n",
    "\n",
    "tic = time.time()\n",
    "src_folder = \"/mnt/Disk/jiangxiaotian/puredatasets/b827_xiezhen\"\n",
    "dest_folder = \"/mnt/Disk/jiangxiaotian/puredatasets/b827_xiezhen_pretrain\"\n",
    "pattern = r\"RCSmap_theta(\\d+)phi(\\d+)f(\\d+\\.\\d+).pt\"\n",
    "cnt = 500 #抽出1/10做验证集\n",
    "os.makedirs(dest_folder, exist_ok=True)\n",
    "\n",
    "files = os.listdir(src_folder)\n",
    "for file_name in files:\n",
    "    match = re.match(pattern, file_name)\n",
    "    if match:\n",
    "        theta = int(match.group(1))\n",
    "        phi = int(match.group(2))\n",
    "        f = float(match.group(3))\n",
    "        # print(f)\n",
    "        # if theta==90:\n",
    "        src_file_path = os.path.join(src_folder, file_name)\n",
    "        dest_file_path = os.path.join(dest_folder, file_name)\n",
    "        shutil.copy(src_file_path, dest_file_path)\n",
    "        cnt -= 1\n",
    "    if cnt == 0:\n",
    "        break\n",
    "\n",
    "print(f\"目标文件夹中的文件数量：{len(os.listdir(dest_folder))}\")\n",
    "print(f'耗时{(time.time()-tic):.4f}s')\n",
    "\n",
    "total_size = 0\n",
    "for root, dirs, files in os.walk(dest_folder):\n",
    "    for file_name in files:\n",
    "        file_path = os.path.join(root, file_name)\n",
    "        total_size += os.path.getsize(file_path)\n",
    "\n",
    "total_size_mb = total_size / (1024 * 1024)  # 转换为 MB\n",
    "total_size_gb = total_size / (1024 * 1024 * 1024)  # 转换为 GB\n",
    "\n",
    "print(f\"目标文件夹大小：{total_size_mb:.2f} MB 或 {total_size_gb:.2f} GB\")"
   ]
  },
  {
   "cell_type": "markdown",
   "metadata": {},
   "source": [
    "### 从谐振里copy抽500个做验证集"
   ]
  },
  {
   "cell_type": "code",
   "execution_count": 6,
   "metadata": {},
   "outputs": [
    {
     "name": "stdout",
     "output_type": "stream",
     "text": [
      "目标文件夹中的文件数量：500\n",
      "耗时23.9895s\n",
      "目标文件夹大小：2974.99 MB 或 2.91 GB\n"
     ]
    }
   ],
   "source": [
    "import os\n",
    "import shutil\n",
    "import re\n",
    "import time\n",
    "\n",
    "tic = time.time()\n",
    "src_folder = \"/mnt/Disk/jiangxiaotian/datasets/b827_xiezhen\"\n",
    "dest_folder = \"/mnt/Disk/jiangxiaotian/datasets/b827_xiezhen_small\"\n",
    "pattern = r\"RCSmap_theta(\\d+)phi(\\d+)f(\\d+\\.\\d+).pt\"\n",
    "cnt = 500 #抽出1/10做验证集\n",
    "os.makedirs(dest_folder, exist_ok=True)\n",
    "\n",
    "files = os.listdir(src_folder)\n",
    "for file_name in files:\n",
    "    match = re.match(pattern, file_name)\n",
    "    if match:\n",
    "        theta = int(match.group(1))\n",
    "        phi = int(match.group(2))\n",
    "        f = float(match.group(3))\n",
    "        # print(f)\n",
    "        # if theta==90:\n",
    "        src_file_path = os.path.join(src_folder, file_name)\n",
    "        dest_file_path = os.path.join(dest_folder, file_name)\n",
    "        shutil.copy(src_file_path, dest_file_path)\n",
    "        cnt -= 1\n",
    "    if cnt == 0:\n",
    "        break\n",
    "\n",
    "print(f\"目标文件夹中的文件数量：{len(os.listdir(dest_folder))}\")\n",
    "print(f'耗时{(time.time()-tic):.4f}s')\n",
    "\n",
    "total_size = 0\n",
    "for root, dirs, files in os.walk(dest_folder):\n",
    "    for file_name in files:\n",
    "        file_path = os.path.join(root, file_name)\n",
    "        total_size += os.path.getsize(file_path)\n",
    "\n",
    "total_size_mb = total_size / (1024 * 1024)  # 转换为 MB\n",
    "total_size_gb = total_size / (1024 * 1024 * 1024)  # 转换为 GB\n",
    "\n",
    "print(f\"目标文件夹大小：{total_size_mb:.2f} MB 或 {total_size_gb:.2f} GB\")"
   ]
  },
  {
   "cell_type": "markdown",
   "metadata": {},
   "source": [
    "### 从谐振里控制变量copy出小数据集，然后move出验证集，copy出10小测试数据"
   ]
  },
  {
   "cell_type": "code",
   "execution_count": 7,
   "metadata": {},
   "outputs": [
    {
     "name": "stdout",
     "output_type": "stream",
     "text": [
      "目标文件夹中的文件数量：140\n",
      "耗时2.6637s\n",
      "目标文件夹大小：189.95 MB 或 0.19 GB\n"
     ]
    }
   ],
   "source": [
    "import os\n",
    "import shutil\n",
    "import re\n",
    "import time\n",
    "\n",
    "tic = time.time()\n",
    "src_folder = \"/mnt/Disk/jiangxiaotian/puredatasets/b827_xiezhen\"\n",
    "dest_folder = \"/mnt/Disk/jiangxiaotian/puredatasets/b827_xiezhen_ctrl9090\"\n",
    "pattern = r\"RCSmap_theta(\\d+)phi(\\d+)f(\\d+\\.\\d+).pt\"\n",
    "# cnt = 1300 #抽出1/10做验证集\n",
    "os.makedirs(dest_folder, exist_ok=True)\n",
    "\n",
    "files = os.listdir(src_folder)\n",
    "for file_name in files:\n",
    "    match = re.match(pattern, file_name)\n",
    "    if match:\n",
    "        theta = int(match.group(1))\n",
    "        phi = int(match.group(2))\n",
    "        f = float(match.group(3))\n",
    "        # print(f)\n",
    "        if theta==90 and phi==90:\n",
    "            src_file_path = os.path.join(src_folder, file_name)\n",
    "            dest_file_path = os.path.join(dest_folder, file_name)\n",
    "            shutil.copy(src_file_path, dest_file_path)\n",
    "            # cnt -= 1\n",
    "    # if cnt == 0:\n",
    "    #     break\n",
    "\n",
    "print(f\"目标文件夹中的文件数量：{len(os.listdir(dest_folder))}\")\n",
    "print(f'耗时{(time.time()-tic):.4f}s')\n",
    "\n",
    "total_size = 0\n",
    "for root, dirs, files in os.walk(dest_folder):\n",
    "    for file_name in files:\n",
    "        file_path = os.path.join(root, file_name)\n",
    "        total_size += os.path.getsize(file_path)\n",
    "\n",
    "total_size_mb = total_size / (1024 * 1024)  # 转换为 MB\n",
    "total_size_gb = total_size / (1024 * 1024 * 1024)  # 转换为 GB\n",
    "\n",
    "print(f\"目标文件夹大小：{total_size_mb:.2f} MB 或 {total_size_gb:.2f} GB\")"
   ]
  },
  {
   "cell_type": "code",
   "execution_count": 8,
   "metadata": {},
   "outputs": [
    {
     "name": "stdout",
     "output_type": "stream",
     "text": [
      "RCSmap_theta90phi90f0.061.pt\n",
      "RCSmap_theta90phi90f0.27.pt\n",
      "RCSmap_theta90phi90f0.1.pt\n",
      "RCSmap_theta90phi90f0.235.pt\n",
      "RCSmap_theta90phi90f0.18.pt\n",
      "RCSmap_theta90phi90f0.046.pt\n",
      "RCSmap_theta90phi90f0.255.pt\n",
      "RCSmap_theta90phi90f0.61.pt\n",
      "RCSmap_theta90phi90f0.42.pt\n",
      "RCSmap_theta90phi90f0.063.pt\n",
      "RCSmap_theta90phi90f0.078.pt\n",
      "RCSmap_theta90phi90f0.285.pt\n",
      "RCSmap_theta90phi90f0.079.pt\n",
      "RCSmap_theta90phi90f0.049.pt\n",
      "目标文件夹中的文件数量：14\n",
      "耗时0.0033s\n",
      "目标文件夹大小：19.05 MB 或 0.02 GB\n"
     ]
    }
   ],
   "source": [
    "import os\n",
    "import shutil\n",
    "import re\n",
    "import time\n",
    "\n",
    "tic = time.time()\n",
    "src_folder = \"/mnt/Disk/jiangxiaotian/puredatasets/b827_xiezhen_ctrl9090\"\n",
    "dest_folder = \"/mnt/Disk/jiangxiaotian/puredatasets/b827_xiezhen_ctrl9090_val\"\n",
    "pattern = r\"RCSmap_theta(\\d+)phi(\\d+)f(\\d+\\.\\d+).pt\"\n",
    "cnt = 14 #抽出1/10做验证集\n",
    "os.makedirs(dest_folder, exist_ok=True)\n",
    "\n",
    "files = os.listdir(src_folder)\n",
    "for file_name in files:\n",
    "    match = re.match(pattern, file_name)\n",
    "    if match:\n",
    "        print(file_name)\n",
    "        theta = int(match.group(1))\n",
    "        phi = int(match.group(2))\n",
    "        f = float(match.group(3))\n",
    "        # print(f)\n",
    "        if theta==90 and phi==90:\n",
    "            src_file_path = os.path.join(src_folder, file_name)\n",
    "            dest_file_path = os.path.join(dest_folder, file_name)\n",
    "            shutil.move(src_file_path, dest_file_path)\n",
    "            cnt -= 1\n",
    "    if cnt == 0:\n",
    "        break\n",
    "\n",
    "print(f\"目标文件夹中的文件数量：{len(os.listdir(dest_folder))}\")\n",
    "print(f'耗时{(time.time()-tic):.4f}s')\n",
    "\n",
    "total_size = 0\n",
    "for root, dirs, files in os.walk(dest_folder):\n",
    "    for file_name in files:\n",
    "        file_path = os.path.join(root, file_name)\n",
    "        total_size += os.path.getsize(file_path)\n",
    "\n",
    "total_size_mb = total_size / (1024 * 1024)  # 转换为 MB\n",
    "total_size_gb = total_size / (1024 * 1024 * 1024)  # 转换为 GB\n",
    "\n",
    "print(f\"目标文件夹大小：{total_size_mb:.2f} MB 或 {total_size_gb:.2f} GB\")"
   ]
  },
  {
   "cell_type": "code",
   "execution_count": 1,
   "metadata": {},
   "outputs": [
    {
     "name": "stdout",
     "output_type": "stream",
     "text": [
      "RCSmap_theta90phi90f0.24.pt\n",
      "RCSmap_theta90phi90f0.043.pt\n",
      "RCSmap_theta90phi90f0.095.pt\n",
      "RCSmap_theta90phi90f0.05.pt\n",
      "RCSmap_theta90phi90f0.72.pt\n",
      "RCSmap_theta90phi90f0.5.pt\n",
      "RCSmap_theta90phi90f0.033.pt\n",
      "RCSmap_theta90phi90f0.051.pt\n",
      "RCSmap_theta90phi90f0.145.pt\n",
      "RCSmap_theta90phi90f0.245.pt\n",
      "目标文件夹中的文件数量：10\n",
      "耗时0.1380s\n",
      "目标文件夹大小：13.65 MB 或 0.01 GB\n"
     ]
    }
   ],
   "source": [
    "import os\n",
    "import shutil\n",
    "import re\n",
    "import time\n",
    "\n",
    "tic = time.time()\n",
    "src_folder = \"/mnt/Disk/jiangxiaotian/puredatasets/b827_xiezhen_ctrl9090\"\n",
    "dest_folder = \"/mnt/Disk/jiangxiaotian/puredatasets/b827_xiezhen_ctrl9090_test10\"\n",
    "pattern = r\"RCSmap_theta(\\d+)phi(\\d+)f(\\d+\\.\\d+).pt\"\n",
    "cnt = 10 #抽出1/10做验证集\n",
    "os.makedirs(dest_folder, exist_ok=True)\n",
    "\n",
    "files = os.listdir(src_folder)\n",
    "for file_name in files:\n",
    "    match = re.match(pattern, file_name)\n",
    "    if match:\n",
    "        print(file_name)\n",
    "        theta = int(match.group(1))\n",
    "        phi = int(match.group(2))\n",
    "        f = float(match.group(3))\n",
    "        # print(f)\n",
    "        if theta==90 and phi==90:\n",
    "            src_file_path = os.path.join(src_folder, file_name)\n",
    "            dest_file_path = os.path.join(dest_folder, file_name)\n",
    "            shutil.copy(src_file_path, dest_file_path)\n",
    "            cnt -= 1\n",
    "    if cnt == 0:\n",
    "        break\n",
    "\n",
    "print(f\"目标文件夹中的文件数量：{len(os.listdir(dest_folder))}\")\n",
    "print(f'耗时{(time.time()-tic):.4f}s')\n",
    "\n",
    "total_size = 0\n",
    "for root, dirs, files in os.walk(dest_folder):\n",
    "    for file_name in files:\n",
    "        file_path = os.path.join(root, file_name)\n",
    "        total_size += os.path.getsize(file_path)\n",
    "\n",
    "total_size_mb = total_size / (1024 * 1024)  # 转换为 MB\n",
    "total_size_gb = total_size / (1024 * 1024 * 1024)  # 转换为 GB\n",
    "\n",
    "print(f\"目标文件夹大小：{total_size_mb:.2f} MB 或 {total_size_gb:.2f} GB\")"
   ]
  },
  {
   "cell_type": "markdown",
   "metadata": {},
   "source": [
    "-----------------------------------------------------------------------------"
   ]
  },
  {
   "cell_type": "code",
   "execution_count": 7,
   "metadata": {},
   "outputs": [],
   "source": [
    "import shutil\n",
    "\n",
    "src_folder = r'/mnt/Disk/jiangxiaotian/datasets/b82731071bd39b66e4c15ad8a2edd2e/RCS_map'\n",
    "dest_folder = r'/mnt/Disk/jiangxiaotian/datasets/b82731071bd39b66e4c15ad8a2edd2e'\n",
    "\n",
    "for file_name in os.listdir(src_folder):\n",
    "    src_file_path = os.path.join(src_folder, file_name)\n",
    "    dest_file_path = os.path.join(dest_folder, file_name)\n",
    "    shutil.move(src_file_path, dest_file_path)\n",
    "\n",
    "os.rmdir(src_folder)"
   ]
  },
  {
   "cell_type": "code",
   "execution_count": 1,
   "metadata": {},
   "outputs": [
    {
     "name": "stdout",
     "output_type": "stream",
     "text": [
      "目标文件夹中的文件数量：474\n"
     ]
    }
   ],
   "source": [
    "import os\n",
    "import shutil\n",
    "import re\n",
    "\n",
    "src_folder = \"/mnt/Disk/jiangxiaotian/datasets/b827_xiezhen\"\n",
    "dest_folder = \"/mnt/Disk/jiangxiaotian/datasets/b827_xiezhen_val\"\n",
    "pattern = r\"RCSmap_theta(\\d+)phi(\\d+)f(\\d+\\.\\d+).pt\"\n",
    "\n",
    "files = os.listdir(src_folder)\n",
    "for file_name in files:\n",
    "    match = re.match(pattern, file_name)\n",
    "    if match:\n",
    "        theta = int(match.group(1))\n",
    "        phi = int(match.group(2))\n",
    "        f = float(match.group(3))\n",
    "        # print(f)\n",
    "        if theta==90 and phi % 30 != 0:\n",
    "            src_file_path = os.path.join(src_folder, file_name)\n",
    "            dest_file_path = os.path.join(dest_folder, file_name)\n",
    "            shutil.copy(src_file_path, dest_file_path)\n",
    "\n",
    "print(f\"目标文件夹中的文件数量：{len(os.listdir(r'/mnt/Disk/jiangxiaotian/datasets/b827_xiezhen_val'))}\")"
   ]
  },
  {
   "cell_type": "code",
   "execution_count": 12,
   "metadata": {},
   "outputs": [
    {
     "name": "stdout",
     "output_type": "stream",
     "text": [
      "目标文件夹中的文件数量：13746\n"
     ]
    }
   ],
   "source": [
    "print(f\"目标文件夹中的文件数量：{len(os.listdir(r'/mnt/Disk/jiangxiaotian/datasets/b827_xiezhen'))}\")"
   ]
  },
  {
   "cell_type": "code",
   "execution_count": 15,
   "metadata": {},
   "outputs": [
    {
     "name": "stdout",
     "output_type": "stream",
     "text": [
      "目标文件夹大小：144943.11 MB 或 141.55 GB\n"
     ]
    }
   ],
   "source": [
    "import os\n",
    "dest_folder = \"/mnt/Disk/jiangxiaotian/datasets/b82731071bd39b66e4c15ad8a2edd2e\"\n",
    "total_size = 0\n",
    "\n",
    "for root, dirs, files in os.walk(dest_folder):\n",
    "    for file_name in files:\n",
    "        file_path = os.path.join(root, file_name)\n",
    "        total_size += os.path.getsize(file_path)\n",
    "\n",
    "total_size_mb = total_size / (1024 * 1024)  # 转换为 MB\n",
    "total_size_gb = total_size / (1024 * 1024 * 1024)  # 转换为 GB\n",
    "\n",
    "print(f\"目标文件夹大小：{total_size_mb:.2f} MB 或 {total_size_gb:.2f} GB\")"
   ]
  }
 ],
 "metadata": {
  "kernelspec": {
   "display_name": "jxtnet",
   "language": "python",
   "name": "python3"
  },
  "language_info": {
   "codemirror_mode": {
    "name": "ipython",
    "version": 3
   },
   "file_extension": ".py",
   "mimetype": "text/x-python",
   "name": "python",
   "nbconvert_exporter": "python",
   "pygments_lexer": "ipython3",
   "version": "3.9.19"
  }
 },
 "nbformat": 4,
 "nbformat_minor": 2
}
