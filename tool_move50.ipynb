{
 "cells": [
  {
   "cell_type": "code",
   "execution_count": null,
   "metadata": {},
   "outputs": [
    {
     "name": "stdout",
     "output_type": "stream",
     "text": [
      "目标文件夹中的文件数量：7443\n",
      "目标文件夹大小：9.93 GB\n"
     ]
    },
    {
     "data": {
      "text/plain": [
       "'\\nmul2347_pretrain:       5960    4.08 GB\\nmul2347_train:          72664   81.47 GB\\nmul2347_mie_pretrain:   3680    2.53 GB\\nmul2347_mie_train:      37295   49.72 GB\\nmul2347_mie_6val:       9324    12.41 GB\\nmul2_mie_train:         7444    9.92 GB\\nmul2_mie_val:           1880    2.50 GB\\nmul2_mie_pretrain:      940     1.25 GB\\nmulb7fd_mie_train:      7443    12.44 GB\\nmulb7fd_mie_val:        1880    2.51 GB\\nmulb7fd_mie_pretrain:   940     1.25 GB\\n'"
      ]
     },
     "execution_count": 1,
     "metadata": {},
     "output_type": "execute_result"
    }
   ],
   "source": [
    "import os\n",
    "\n",
    "# dest_folder = \"/home/jiangxiaotian/workspace/3DEM\"\n",
    "dest_folder = \"/home/jiangxiaotian/datasets/mulb7fd_mie_train\"\n",
    "\n",
    "print(f\"目标文件夹中的文件数量：{len(os.listdir(dest_folder))}\")\n",
    "\n",
    "total_size = 0\n",
    "for root, dirs, files in os.walk(dest_folder):\n",
    "    for file_name in files:\n",
    "        file_path = os.path.join(root, file_name)\n",
    "        total_size += os.path.getsize(file_path)\n",
    "\n",
    "total_size_mb = total_size / (1024 * 1024)  # 转换为 MB\n",
    "total_size_gb = total_size / (1024 * 1024 * 1024)  # 转换为 GB\n",
    "\n",
    "print(f\"目标文件夹大小：{total_size_gb:.2f} GB\")\n",
    "# print(f\"目标文件夹大小：{total_size_mb:.2f} MB 或 {total_size_gb:.2f} GB\")"
   ]
  },
  {
   "cell_type": "markdown",
   "metadata": {},
   "source": [
    "2024.12.5 new单飞机allinone"
   ]
  },
  {
   "cell_type": "code",
   "execution_count": 1,
   "metadata": {},
   "outputs": [
    {
     "name": "stdout",
     "output_type": "stream",
     "text": [
      "目标文件夹中的文件数量：4700, 6.26 GB\n",
      "耗时53.4248s\n"
     ]
    }
   ],
   "source": [
    "import os\n",
    "import shutil\n",
    "import re\n",
    "import time\n",
    "\n",
    "#从train拷贝成pretrain\n",
    "tic = time.time()\n",
    "\n",
    "src_folder = \"/home/ljm/workspace/datasets/mulbb7c_mie_train\"\n",
    "dest_folder = \"/home/ljm/workspace/datasets/mulbb7c_mie_50train\"\n",
    "pattern = r\"([a-zA-Z0-9]{4})_theta(\\d+)phi(\\d+)f(\\d+\\.\\d+).pt\"\n",
    "cnt = 4700 #抽出1/10做验证集\n",
    "os.makedirs(dest_folder, exist_ok=True)\n",
    "\n",
    "files = os.listdir(src_folder)\n",
    "for file_name in files:\n",
    "    match = re.match(pattern, file_name)\n",
    "    if match:\n",
    "        plane = match.group(1)\n",
    "        theta = int(match.group(2))\n",
    "        phi = int(match.group(3))\n",
    "        f = float(match.group(4))\n",
    "        # print(f)\n",
    "        if f <= 1.0:\n",
    "            src_file_path = os.path.join(src_folder, file_name)\n",
    "            dest_file_path = os.path.join(dest_folder, file_name)\n",
    "            shutil.copy(src_file_path, dest_file_path)\n",
    "            cnt -= 1\n",
    "    if cnt == 0:\n",
    "        break\n",
    "\n",
    "total_size = 0\n",
    "for root, dirs, files in os.walk(dest_folder):\n",
    "    for file_name in files:\n",
    "        file_path = os.path.join(root, file_name)\n",
    "        total_size += os.path.getsize(file_path)\n",
    "\n",
    "total_size_mb = total_size / (1024 * 1024)  # 转换为 MB\n",
    "total_size_gb = total_size / (1024 * 1024 * 1024)  # 转换为 GB\n",
    "\n",
    "print(f\"目标文件夹中的文件数量：{len(os.listdir(dest_folder))}, {total_size_gb:.2f} GB\")\n",
    "print(f'耗时{(time.time()-tic):.4f}s')\n"
   ]
  }
 ],
 "metadata": {
  "kernelspec": {
   "display_name": "jxtnett",
   "language": "python",
   "name": "python3"
  },
  "language_info": {
   "codemirror_mode": {
    "name": "ipython",
    "version": 3
   },
   "file_extension": ".py",
   "mimetype": "text/x-python",
   "name": "python",
   "nbconvert_exporter": "python",
   "pygments_lexer": "ipython3",
   "version": "3.9.19"
  }
 },
 "nbformat": 4,
 "nbformat_minor": 2
}
